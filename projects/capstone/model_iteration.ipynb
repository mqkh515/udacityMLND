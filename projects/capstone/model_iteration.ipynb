{
 "cells": [
  {
   "cell_type": "markdown",
   "metadata": {},
   "source": [
    "# Machine Learning Engineer Nanodegree\n",
    "# Lin Muqing\n",
    "# Capstone Model Iteration"
   ]
  },
  {
   "cell_type": "code",
   "execution_count": 102,
   "metadata": {},
   "outputs": [],
   "source": [
    "import warnings\n",
    "from imp import reload\n",
    "warnings.filterwarnings('ignore')\n",
    "import zillow_1 as z\n",
    "import pandas as pd\n",
    "import numpy as np\n",
    "import math\n",
    "import lightgbm as lgb\n",
    "import matplotlib.pyplot as plt\n",
    "import os\n",
    "if not os.path.exists('figs'):\n",
    "    os.mkdir('figs')\n",
    "import seaborn as sns\n",
    "import statsmodels.api as sm\n",
    "lowess = sm.nonparametric.lowess\n",
    "from IPython.display import display\n",
    "\n",
    "%matplotlib inline\n",
    "# util funcs"
   ]
  },
  {
   "cell_type": "code",
   "execution_count": 52,
   "metadata": {
    "collapsed": true
   },
   "outputs": [],
   "source": [
    "def visual_analysis_num_as_cat(col_inp, logerror, abs_logerror, col_name, col_name_disp):\n",
    "    \"\"\"kde density and regression line could be misleading for small-finite-set int variable, plot is as categorical\"\"\"\n",
    "    cal_name_as_cat = col_name + 'as_cat'\n",
    "    data = pd.DataFrame()\n",
    "    data[cal_name_as_cat] = col_inp.apply(lambda x: str(int(x)) if not np.isnan(x) else np.nan)\n",
    "    data['logerror'] = logerror\n",
    "    data['abs_logerror'] = abs_logerror\n",
    "    groups = np.array(data[cal_name_as_cat].unique())\n",
    "    order = np.array([float(i) for i in groups]).argsort()\n",
    "    ordered_groups = groups[order]\n",
    "    fig = plt.figure(figsize=(15, 6))\n",
    "    ax1 = fig.add_subplot(131)\n",
    "    ax2 = fig.add_subplot(132)\n",
    "    ax3 = fig.add_subplot(133)\n",
    "    sns.countplot(data[cal_name_as_cat], order=ordered_groups, ax=ax1).set_title('density')  # 1, density plot\n",
    "    sns.barplot(x=cal_name_as_cat, y='logerror', data=data, order=ordered_groups, ax=ax2).set_title('against logerror')  # 2, logerror\n",
    "    sns.barplot(x=cal_name_as_cat, y='abs_logerror', data=data, order=ordered_groups, ax=ax3).set_title('against abs logerror')  # 3, logerror\n",
    "    fig.suptitle('exploration for %s' % col_name_disp)\n",
    "    fig.show()\n",
    "    \n",
    "\n",
    "def visual_analysis_num(col_inp, logerror, abs_logerror, col_name, col_name_disp):\n",
    "    \"\"\"view relationship to error for numerical variables, summarize for NaN separately\"\"\"\n",
    "    fig = plt.figure(figsize=(15, 6))\n",
    "    ax1 = fig.add_subplot(131)\n",
    "    ax2 = fig.add_subplot(132)\n",
    "    ax3 = fig.add_subplot(133)\n",
    "    sns.kdeplot(col_inp, bw=0.5, ax=ax1).set_title('density')  # 1, density plot\n",
    "    fit_logerror = lowess(logerror, col_inp, return_sorted =False, it=0)\n",
    "    sns.regplot(col_inp, fit_logerror, fit_reg=False, ax=ax2).set_title('against logerror')  # 2, logerror\n",
    "    fit_abs_logerror = lowess(abs_logerror, col_inp, return_sorted =False, it=0)\n",
    "    sns.regplot(col_inp, fit_abs_logerror, fit_reg=False, ax=ax3).set_title('against abs_logerror')  # 3, abs_logerror\n",
    "    fig.suptitle('exploration for %s' % col_name_disp)\n",
    "    fig.show()"
   ]
  },
  {
   "cell_type": "code",
   "execution_count": 31,
   "metadata": {
    "collapsed": true
   },
   "outputs": [],
   "source": [
    "feature_info = pd.read_csv('data/feature_info.csv', index_col='orig_name')\n",
    "nmap_orig_to_new =  dict(zip(feature_info.index.values, feature_info['new_name'].values))\n",
    "nmap_new_to_orig =  dict(zip(feature_info['new_name'].values, feature_info.index.values))\n",
    "feature_imp_naive_lgb_split = pd.read_csv('records/feature_importance_split_naive_lgb.csv')\n",
    "feature_imp_naive_lgb_gain = pd.read_csv('records/feature_importance_gain_naive_lgb.csv')"
   ]
  },
  {
   "cell_type": "code",
   "execution_count": 111,
   "metadata": {
    "collapsed": true
   },
   "outputs": [],
   "source": [
    "# load data\n",
    "reload(z)\n",
    "train_data, test_data = z.load_data_raw()\n",
    "train_data['abs_logerror'] = np.abs(train_data['logerror'])"
   ]
  },
  {
   "cell_type": "markdown",
   "metadata": {
    "collapsed": true
   },
   "source": [
    "## naive_mean prediction\n",
    "\n",
    "Log errors are already noise like, centered around zero (a little bit deviation from zero), heavy tailed. So firt try with a mean model."
   ]
  },
  {
   "cell_type": "code",
   "execution_count": 4,
   "metadata": {},
   "outputs": [
    {
     "data": {
      "image/png": "[encoded data removed]",
      "text/plain": [
       "<matplotlib.figure.Figure at 0xbb002b0>"
      ]
     },
     "metadata": {},
     "output_type": "display_data"
    }
   ],
   "source": [
    "fig = plt.figure(figsize=(8, 6))\n",
    "ax = fig.add_subplot(111)\n",
    "sns.distplot(train_data['logerror'], ax=ax)\n",
    "fig.show()"
   ]
  },
  {
   "cell_type": "code",
   "execution_count": 5,
   "metadata": {},
   "outputs": [
    {
     "name": "stdout",
     "output_type": "stream",
     "text": [
      "mean logerror in train_data: 0.011457\n",
      "cv MAE in train_data: 0.068731\n"
     ]
    }
   ],
   "source": [
    "# report train_data set mean, and cross validate mean model in train_data\n",
    "print('mean logerror in train_data: %.6f' % np.mean(train_data['logerror']))\n",
    "print('cv MAE in train_data: %.6f' % z.cv_mean_model(train_data['logerror']))"
   ]
  },
  {
   "cell_type": "markdown",
   "metadata": {},
   "source": [
    "cv MAE in training data gives 0.068731, and on testing set, it is 0.0651282, This means training data has more extreme values than in testing data, yet, since these are actual transactions, we would not want to remove them for evaluation, and hopefully, we could some how gain prediction power on thoese extreme values.\n",
    "\n",
    "Meanwhile, on testing set, predicting with mean is much better than predicting with 0 (0.0663010), meaning the positive bias in logerror is systemic."
   ]
  },
  {
   "cell_type": "markdown",
   "metadata": {},
   "source": [
    "## naive_lgb prediction.\n",
    "\n",
    "Based on data exploration, I classified features into 4 categories, among them first class 1 and 2 are readily usable. So the benchmark model uses these features and tuned LightGBM, without\n",
    "\n",
    "- outlier cleaning (neither x perspective or y perspective).\n",
    "- feature engineering.\n",
    "- handling seanality.\n",
    "- handling outliers."
   ]
  },
  {
   "cell_type": "markdown",
   "metadata": {},
   "source": [
    "First take an overview of class1 and class2 features."
   ]
  },
  {
   "cell_type": "code",
   "execution_count": 6,
   "metadata": {},
   "outputs": [
    {
     "name": "stdout",
     "output_type": "stream",
     "text": [
      "(29, 4)\n"
     ]
    },
    {
     "data": {
      "text/html": [
       "<div>\n",
       "<style>\n",
       "    .dataframe thead tr:only-child th {\n",
       "        text-align: right;\n",
       "    }\n",
       "\n",
       "    .dataframe thead th {\n",
       "        text-align: left;\n",
       "    }\n",
       "\n",
       "    .dataframe tbody tr th {\n",
       "        vertical-align: top;\n",
       "    }\n",
       "</style>\n",
       "<table border=\"1\" class=\"dataframe\">\n",
       "  <thead>\n",
       "    <tr style=\"text-align: right;\">\n",
       "      <th></th>\n",
       "      <th>type</th>\n",
       "      <th>class</th>\n",
       "      <th>prop_missing</th>\n",
       "      <th>train_missing</th>\n",
       "    </tr>\n",
       "    <tr>\n",
       "      <th>new_name</th>\n",
       "      <th></th>\n",
       "      <th></th>\n",
       "      <th></th>\n",
       "      <th></th>\n",
       "    </tr>\n",
       "  </thead>\n",
       "  <tbody>\n",
       "    <tr>\n",
       "      <th>dollar_taxvalue_land</th>\n",
       "      <td>num</td>\n",
       "      <td>1</td>\n",
       "      <td>0.022689</td>\n",
       "      <td>0.000011</td>\n",
       "    </tr>\n",
       "    <tr>\n",
       "      <th>type_pool</th>\n",
       "      <td>cat</td>\n",
       "      <td>1</td>\n",
       "      <td>0.000000</td>\n",
       "      <td>0.000000</td>\n",
       "    </tr>\n",
       "    <tr>\n",
       "      <th>dollar_taxvalue_total</th>\n",
       "      <td>num</td>\n",
       "      <td>1</td>\n",
       "      <td>0.014254</td>\n",
       "      <td>0.000011</td>\n",
       "    </tr>\n",
       "    <tr>\n",
       "      <th>flag_tax_delinquency</th>\n",
       "      <td>cat</td>\n",
       "      <td>1</td>\n",
       "      <td>0.000000</td>\n",
       "      <td>0.000000</td>\n",
       "    </tr>\n",
       "    <tr>\n",
       "      <th>dollar_tax</th>\n",
       "      <td>num</td>\n",
       "      <td>1</td>\n",
       "      <td>0.010468</td>\n",
       "      <td>0.000067</td>\n",
       "    </tr>\n",
       "    <tr>\n",
       "      <th>dollar_taxvalue_structure</th>\n",
       "      <td>num</td>\n",
       "      <td>1</td>\n",
       "      <td>0.018418</td>\n",
       "      <td>0.004209</td>\n",
       "    </tr>\n",
       "    <tr>\n",
       "      <th>type_landuse</th>\n",
       "      <td>cat</td>\n",
       "      <td>1</td>\n",
       "      <td>0.003831</td>\n",
       "      <td>0.000000</td>\n",
       "    </tr>\n",
       "    <tr>\n",
       "      <th>area_lot</th>\n",
       "      <td>num</td>\n",
       "      <td>1</td>\n",
       "      <td>0.092489</td>\n",
       "      <td>0.112434</td>\n",
       "    </tr>\n",
       "    <tr>\n",
       "      <th>longitude</th>\n",
       "      <td>num</td>\n",
       "      <td>1</td>\n",
       "      <td>0.003831</td>\n",
       "      <td>0.000000</td>\n",
       "    </tr>\n",
       "    <tr>\n",
       "      <th>latitude</th>\n",
       "      <td>num</td>\n",
       "      <td>1</td>\n",
       "      <td>0.003831</td>\n",
       "      <td>0.000000</td>\n",
       "    </tr>\n",
       "    <tr>\n",
       "      <th>type_heating_system</th>\n",
       "      <td>cat</td>\n",
       "      <td>1</td>\n",
       "      <td>0.394885</td>\n",
       "      <td>0.378787</td>\n",
       "    </tr>\n",
       "    <tr>\n",
       "      <th>flag_spa_zillow</th>\n",
       "      <td>cat</td>\n",
       "      <td>1</td>\n",
       "      <td>0.000000</td>\n",
       "      <td>0.000000</td>\n",
       "    </tr>\n",
       "    <tr>\n",
       "      <th>year_built</th>\n",
       "      <td>num</td>\n",
       "      <td>1</td>\n",
       "      <td>0.020075</td>\n",
       "      <td>0.008374</td>\n",
       "    </tr>\n",
       "    <tr>\n",
       "      <th>num_fullbath</th>\n",
       "      <td>num</td>\n",
       "      <td>1</td>\n",
       "      <td>0.043183</td>\n",
       "      <td>0.013093</td>\n",
       "    </tr>\n",
       "    <tr>\n",
       "      <th>code_fips</th>\n",
       "      <td>cat</td>\n",
       "      <td>1</td>\n",
       "      <td>0.003831</td>\n",
       "      <td>0.000000</td>\n",
       "    </tr>\n",
       "    <tr>\n",
       "      <th>area_living_type_12</th>\n",
       "      <td>num</td>\n",
       "      <td>1</td>\n",
       "      <td>0.092467</td>\n",
       "      <td>0.051831</td>\n",
       "    </tr>\n",
       "    <tr>\n",
       "      <th>area_living_finished_calc</th>\n",
       "      <td>num</td>\n",
       "      <td>1</td>\n",
       "      <td>0.018613</td>\n",
       "      <td>0.007322</td>\n",
       "    </tr>\n",
       "    <tr>\n",
       "      <th>num_bathroom_zillow</th>\n",
       "      <td>num</td>\n",
       "      <td>1</td>\n",
       "      <td>0.043183</td>\n",
       "      <td>0.013093</td>\n",
       "    </tr>\n",
       "    <tr>\n",
       "      <th>num_bedroom</th>\n",
       "      <td>num</td>\n",
       "      <td>1</td>\n",
       "      <td>0.003836</td>\n",
       "      <td>0.000000</td>\n",
       "    </tr>\n",
       "    <tr>\n",
       "      <th>num_garage</th>\n",
       "      <td>num</td>\n",
       "      <td>2</td>\n",
       "      <td>0.704120</td>\n",
       "      <td>0.668380</td>\n",
       "    </tr>\n",
       "    <tr>\n",
       "      <th>num_unit</th>\n",
       "      <td>num</td>\n",
       "      <td>2</td>\n",
       "      <td>0.337572</td>\n",
       "      <td>0.353608</td>\n",
       "    </tr>\n",
       "    <tr>\n",
       "      <th>num_fireplace</th>\n",
       "      <td>num</td>\n",
       "      <td>2</td>\n",
       "      <td>0.895272</td>\n",
       "      <td>0.893581</td>\n",
       "    </tr>\n",
       "    <tr>\n",
       "      <th>num_story</th>\n",
       "      <td>cat</td>\n",
       "      <td>2</td>\n",
       "      <td>0.771518</td>\n",
       "      <td>0.772141</td>\n",
       "    </tr>\n",
       "    <tr>\n",
       "      <th>area_pool</th>\n",
       "      <td>num</td>\n",
       "      <td>2</td>\n",
       "      <td>0.163999</td>\n",
       "      <td>0.187560</td>\n",
       "    </tr>\n",
       "    <tr>\n",
       "      <th>num_room</th>\n",
       "      <td>num</td>\n",
       "      <td>2</td>\n",
       "      <td>0.003844</td>\n",
       "      <td>0.000000</td>\n",
       "    </tr>\n",
       "    <tr>\n",
       "      <th>rank_building_quality</th>\n",
       "      <td>num</td>\n",
       "      <td>2</td>\n",
       "      <td>0.350637</td>\n",
       "      <td>0.364564</td>\n",
       "    </tr>\n",
       "    <tr>\n",
       "      <th>num_bathroom_assessor</th>\n",
       "      <td>num</td>\n",
       "      <td>2</td>\n",
       "      <td>0.003840</td>\n",
       "      <td>0.000000</td>\n",
       "    </tr>\n",
       "    <tr>\n",
       "      <th>area_garage</th>\n",
       "      <td>num</td>\n",
       "      <td>2</td>\n",
       "      <td>0.765356</td>\n",
       "      <td>0.767189</td>\n",
       "    </tr>\n",
       "    <tr>\n",
       "      <th>type_air_conditioning</th>\n",
       "      <td>cat</td>\n",
       "      <td>2</td>\n",
       "      <td>0.728154</td>\n",
       "      <td>0.681185</td>\n",
       "    </tr>\n",
       "  </tbody>\n",
       "</table>\n",
       "</div>"
      ],
      "text/plain": [
       "                          type  class  prop_missing  train_missing\n",
       "new_name                                                          \n",
       "dollar_taxvalue_land       num      1      0.022689       0.000011\n",
       "type_pool                  cat      1      0.000000       0.000000\n",
       "dollar_taxvalue_total      num      1      0.014254       0.000011\n",
       "flag_tax_delinquency       cat      1      0.000000       0.000000\n",
       "dollar_tax                 num      1      0.010468       0.000067\n",
       "dollar_taxvalue_structure  num      1      0.018418       0.004209\n",
       "type_landuse               cat      1      0.003831       0.000000\n",
       "area_lot                   num      1      0.092489       0.112434\n",
       "longitude                  num      1      0.003831       0.000000\n",
       "latitude                   num      1      0.003831       0.000000\n",
       "type_heating_system        cat      1      0.394885       0.378787\n",
       "flag_spa_zillow            cat      1      0.000000       0.000000\n",
       "year_built                 num      1      0.020075       0.008374\n",
       "num_fullbath               num      1      0.043183       0.013093\n",
       "code_fips                  cat      1      0.003831       0.000000\n",
       "area_living_type_12        num      1      0.092467       0.051831\n",
       "area_living_finished_calc  num      1      0.018613       0.007322\n",
       "num_bathroom_zillow        num      1      0.043183       0.013093\n",
       "num_bedroom                num      1      0.003836       0.000000\n",
       "num_garage                 num      2      0.704120       0.668380\n",
       "num_unit                   num      2      0.337572       0.353608\n",
       "num_fireplace              num      2      0.895272       0.893581\n",
       "num_story                  cat      2      0.771518       0.772141\n",
       "area_pool                  num      2      0.163999       0.187560\n",
       "num_room                   num      2      0.003844       0.000000\n",
       "rank_building_quality      num      2      0.350637       0.364564\n",
       "num_bathroom_assessor      num      2      0.003840       0.000000\n",
       "area_garage                num      2      0.765356       0.767189\n",
       "type_air_conditioning      cat      2      0.728154       0.681185"
      ]
     },
     "metadata": {},
     "output_type": "display_data"
    }
   ],
   "source": [
    "feature_info = pd.read_csv('data/feature_info.csv', index_col='new_name')\n",
    "feature_info.drop('orig_name', axis=1, inplace=True)\n",
    "keep_feature = feature_info.index[feature_info['class'].apply(lambda x: True if x in {1, 2} else False)].values\n",
    "feature_select = feature_info.loc[keep_feature, :]\n",
    "print(feature_select.shape)\n",
    "display(feature_select.sort_values('class'))"
   ]
  },
  {
   "cell_type": "markdown",
   "metadata": {},
   "source": [
    "There are 29 of them in total, 8 of them are categorical."
   ]
  },
  {
   "cell_type": "markdown",
   "metadata": {},
   "source": [
    "Tuning LightGBM with CV, four parameters to concentrate on:\n",
    "- min_data_in_leaf.\n",
    "- learning_rate.\n",
    "- num_leaf.\n",
    "- lambda_12.\n",
    "\n",
    "Random search is used, result is evaluated by correlation between MAE and each parameter value. If abs_corr is high meaning finer searching on one side in the range is meaningful, oherwise, we are indifferent in selecting a value in the range. Final used model is\n",
    "- num_leaves = 40.\n",
    "- learning_rate = 0.01.\n",
    "- lambda_l2 = 0.02.\n",
    "- min_data_in_leaf = 300.\n",
    "\n",
    "Then number of boosting round is chosen by early_stopping_round together with validation. At last, final model for testing is trained on full data. All the following LightGBM tuning will be following this procedure."
   ]
  },
  {
   "cell_type": "code",
   "execution_count": 7,
   "metadata": {},
   "outputs": [
    {
     "name": "stdout",
     "output_type": "stream",
     "text": [
      "cv MAE naive LightGBM: 0.067154\n"
     ]
    }
   ],
   "source": [
    "reload(z)\n",
    "test_x, train_x, train_y = z.load_data_naive_lgb(train_data, test_data)\n",
    "lgb_train = lgb.Dataset(train_x, train_y)\n",
    "params = {\n",
    "    'boosting_type': 'gbdt',\n",
    "    'objective': 'regression_l1',\n",
    "    'metric': {'l1'},\n",
    "    'num_leaves': 40,\n",
    "    'min_data_in_leaf': 300,\n",
    "    'learning_rate': 0.01,\n",
    "    'lambda_l2': 0.02,\n",
    "    'feature_fraction': 0.8,\n",
    "    'bagging_fraction': 0.7,\n",
    "    'bagging_freq': 5,\n",
    "    'verbosity': 0\n",
    "}\n",
    "gbm = lgb.train(params, lgb_train, num_boost_round=1000)\n",
    "eval_hist = lgb.cv(params, lgb_train, num_boost_round=1000)\n",
    "print('cv MAE naive LightGBM: %.6f' % eval_hist['l1-mean'][-1])"
   ]
  },
  {
   "cell_type": "markdown",
   "metadata": {},
   "source": [
    "The cv MAE is smaller than 0.068731 of naive mean, and on testing set it is 0.0645428. Now we check the real feature importance determined by model. LightGBM provides two types of feature importance, one by number of splits for each feature, and one by total gain from using each feature in split."
   ]
  },
  {
   "cell_type": "code",
   "execution_count": 8,
   "metadata": {
    "scrolled": false
   },
   "outputs": [
    {
     "data": {
      "text/html": [
       "<div>\n",
       "<style>\n",
       "    .dataframe thead tr:only-child th {\n",
       "        text-align: right;\n",
       "    }\n",
       "\n",
       "    .dataframe thead th {\n",
       "        text-align: left;\n",
       "    }\n",
       "\n",
       "    .dataframe tbody tr th {\n",
       "        vertical-align: top;\n",
       "    }\n",
       "</style>\n",
       "<table border=\"1\" class=\"dataframe\">\n",
       "  <thead>\n",
       "    <tr style=\"text-align: right;\">\n",
       "      <th></th>\n",
       "      <th>class</th>\n",
       "      <th>feature</th>\n",
       "      <th>split</th>\n",
       "      <th>class</th>\n",
       "      <th>feature</th>\n",
       "      <th>gain</th>\n",
       "    </tr>\n",
       "  </thead>\n",
       "  <tbody>\n",
       "    <tr>\n",
       "      <th>0</th>\n",
       "      <td>1</td>\n",
       "      <td>year_built</td>\n",
       "      <td>3996</td>\n",
       "      <td>1</td>\n",
       "      <td>year_built</td>\n",
       "      <td>1764.673888</td>\n",
       "    </tr>\n",
       "    <tr>\n",
       "      <th>1</th>\n",
       "      <td>1</td>\n",
       "      <td>latitude</td>\n",
       "      <td>3866</td>\n",
       "      <td>1</td>\n",
       "      <td>dollar_tax</td>\n",
       "      <td>1680.953865</td>\n",
       "    </tr>\n",
       "    <tr>\n",
       "      <th>2</th>\n",
       "      <td>1</td>\n",
       "      <td>area_lot</td>\n",
       "      <td>3668</td>\n",
       "      <td>1</td>\n",
       "      <td>area_living_type_12</td>\n",
       "      <td>1667.419066</td>\n",
       "    </tr>\n",
       "    <tr>\n",
       "      <th>3</th>\n",
       "      <td>1</td>\n",
       "      <td>longitude</td>\n",
       "      <td>3471</td>\n",
       "      <td>1</td>\n",
       "      <td>latitude</td>\n",
       "      <td>1619.861319</td>\n",
       "    </tr>\n",
       "    <tr>\n",
       "      <th>4</th>\n",
       "      <td>1</td>\n",
       "      <td>dollar_tax</td>\n",
       "      <td>3452</td>\n",
       "      <td>1</td>\n",
       "      <td>area_living_finished_calc</td>\n",
       "      <td>1539.949818</td>\n",
       "    </tr>\n",
       "    <tr>\n",
       "      <th>5</th>\n",
       "      <td>1</td>\n",
       "      <td>dollar_taxvalue_structure</td>\n",
       "      <td>3340</td>\n",
       "      <td>1</td>\n",
       "      <td>area_lot</td>\n",
       "      <td>1461.527406</td>\n",
       "    </tr>\n",
       "    <tr>\n",
       "      <th>6</th>\n",
       "      <td>1</td>\n",
       "      <td>area_living_type_12</td>\n",
       "      <td>3170</td>\n",
       "      <td>1</td>\n",
       "      <td>longitude</td>\n",
       "      <td>1358.485645</td>\n",
       "    </tr>\n",
       "    <tr>\n",
       "      <th>7</th>\n",
       "      <td>1</td>\n",
       "      <td>dollar_taxvalue_land</td>\n",
       "      <td>2960</td>\n",
       "      <td>1</td>\n",
       "      <td>dollar_taxvalue_structure</td>\n",
       "      <td>1317.876901</td>\n",
       "    </tr>\n",
       "    <tr>\n",
       "      <th>8</th>\n",
       "      <td>1</td>\n",
       "      <td>area_living_finished_calc</td>\n",
       "      <td>2507</td>\n",
       "      <td>1</td>\n",
       "      <td>dollar_taxvalue_land</td>\n",
       "      <td>1182.509141</td>\n",
       "    </tr>\n",
       "    <tr>\n",
       "      <th>9</th>\n",
       "      <td>1</td>\n",
       "      <td>dollar_taxvalue_total</td>\n",
       "      <td>2216</td>\n",
       "      <td>1</td>\n",
       "      <td>dollar_taxvalue_total</td>\n",
       "      <td>1166.348316</td>\n",
       "    </tr>\n",
       "    <tr>\n",
       "      <th>10</th>\n",
       "      <td>2</td>\n",
       "      <td>area_garage</td>\n",
       "      <td>1102</td>\n",
       "      <td>2</td>\n",
       "      <td>area_pool</td>\n",
       "      <td>428.770227</td>\n",
       "    </tr>\n",
       "    <tr>\n",
       "      <th>11</th>\n",
       "      <td>1</td>\n",
       "      <td>num_bedroom</td>\n",
       "      <td>660</td>\n",
       "      <td>2</td>\n",
       "      <td>area_garage</td>\n",
       "      <td>390.353076</td>\n",
       "    </tr>\n",
       "    <tr>\n",
       "      <th>12</th>\n",
       "      <td>1</td>\n",
       "      <td>type_landuse</td>\n",
       "      <td>575</td>\n",
       "      <td>1</td>\n",
       "      <td>type_landuse</td>\n",
       "      <td>268.003600</td>\n",
       "    </tr>\n",
       "    <tr>\n",
       "      <th>13</th>\n",
       "      <td>2</td>\n",
       "      <td>rank_building_quality</td>\n",
       "      <td>568</td>\n",
       "      <td>1</td>\n",
       "      <td>num_bedroom</td>\n",
       "      <td>240.860817</td>\n",
       "    </tr>\n",
       "    <tr>\n",
       "      <th>14</th>\n",
       "      <td>2</td>\n",
       "      <td>area_pool</td>\n",
       "      <td>548</td>\n",
       "      <td>2</td>\n",
       "      <td>rank_building_quality</td>\n",
       "      <td>226.207314</td>\n",
       "    </tr>\n",
       "    <tr>\n",
       "      <th>15</th>\n",
       "      <td>1</td>\n",
       "      <td>num_bathroom_zillow</td>\n",
       "      <td>454</td>\n",
       "      <td>1</td>\n",
       "      <td>num_bathroom_zillow</td>\n",
       "      <td>184.870804</td>\n",
       "    </tr>\n",
       "    <tr>\n",
       "      <th>16</th>\n",
       "      <td>2</td>\n",
       "      <td>num_bathroom_assessor</td>\n",
       "      <td>357</td>\n",
       "      <td>2</td>\n",
       "      <td>num_bathroom_assessor</td>\n",
       "      <td>138.167023</td>\n",
       "    </tr>\n",
       "    <tr>\n",
       "      <th>17</th>\n",
       "      <td>1</td>\n",
       "      <td>type_heating_system</td>\n",
       "      <td>326</td>\n",
       "      <td>1</td>\n",
       "      <td>type_pool</td>\n",
       "      <td>127.000762</td>\n",
       "    </tr>\n",
       "    <tr>\n",
       "      <th>18</th>\n",
       "      <td>2</td>\n",
       "      <td>num_unit</td>\n",
       "      <td>257</td>\n",
       "      <td>1</td>\n",
       "      <td>type_heating_system</td>\n",
       "      <td>123.169335</td>\n",
       "    </tr>\n",
       "    <tr>\n",
       "      <th>19</th>\n",
       "      <td>1</td>\n",
       "      <td>flag_spa_zillow</td>\n",
       "      <td>213</td>\n",
       "      <td>1</td>\n",
       "      <td>flag_tax_delinquency</td>\n",
       "      <td>112.591419</td>\n",
       "    </tr>\n",
       "    <tr>\n",
       "      <th>20</th>\n",
       "      <td>1</td>\n",
       "      <td>flag_tax_delinquency</td>\n",
       "      <td>204</td>\n",
       "      <td>2</td>\n",
       "      <td>num_unit</td>\n",
       "      <td>109.742672</td>\n",
       "    </tr>\n",
       "    <tr>\n",
       "      <th>21</th>\n",
       "      <td>1</td>\n",
       "      <td>type_pool</td>\n",
       "      <td>200</td>\n",
       "      <td>1</td>\n",
       "      <td>flag_spa_zillow</td>\n",
       "      <td>91.628586</td>\n",
       "    </tr>\n",
       "    <tr>\n",
       "      <th>22</th>\n",
       "      <td>2</td>\n",
       "      <td>num_story</td>\n",
       "      <td>182</td>\n",
       "      <td>1</td>\n",
       "      <td>num_fullbath</td>\n",
       "      <td>82.225880</td>\n",
       "    </tr>\n",
       "    <tr>\n",
       "      <th>23</th>\n",
       "      <td>1</td>\n",
       "      <td>num_fullbath</td>\n",
       "      <td>181</td>\n",
       "      <td>2</td>\n",
       "      <td>num_story</td>\n",
       "      <td>55.193650</td>\n",
       "    </tr>\n",
       "    <tr>\n",
       "      <th>24</th>\n",
       "      <td>2</td>\n",
       "      <td>num_garage</td>\n",
       "      <td>144</td>\n",
       "      <td>2</td>\n",
       "      <td>num_garage</td>\n",
       "      <td>50.762839</td>\n",
       "    </tr>\n",
       "    <tr>\n",
       "      <th>25</th>\n",
       "      <td>2</td>\n",
       "      <td>type_air_conditioning</td>\n",
       "      <td>137</td>\n",
       "      <td>2</td>\n",
       "      <td>type_air_conditioning</td>\n",
       "      <td>48.438043</td>\n",
       "    </tr>\n",
       "    <tr>\n",
       "      <th>26</th>\n",
       "      <td>2</td>\n",
       "      <td>num_room</td>\n",
       "      <td>112</td>\n",
       "      <td>2</td>\n",
       "      <td>num_room</td>\n",
       "      <td>31.819017</td>\n",
       "    </tr>\n",
       "    <tr>\n",
       "      <th>27</th>\n",
       "      <td>2</td>\n",
       "      <td>num_fireplace</td>\n",
       "      <td>107</td>\n",
       "      <td>2</td>\n",
       "      <td>num_fireplace</td>\n",
       "      <td>28.152655</td>\n",
       "    </tr>\n",
       "    <tr>\n",
       "      <th>28</th>\n",
       "      <td>1</td>\n",
       "      <td>code_fips</td>\n",
       "      <td>27</td>\n",
       "      <td>1</td>\n",
       "      <td>code_fips</td>\n",
       "      <td>11.653392</td>\n",
       "    </tr>\n",
       "  </tbody>\n",
       "</table>\n",
       "</div>"
      ],
      "text/plain": [
       "    class                    feature  split  class                    feature  \\\n",
       "0       1                 year_built   3996      1                 year_built   \n",
       "1       1                   latitude   3866      1                 dollar_tax   \n",
       "2       1                   area_lot   3668      1        area_living_type_12   \n",
       "3       1                  longitude   3471      1                   latitude   \n",
       "4       1                 dollar_tax   3452      1  area_living_finished_calc   \n",
       "5       1  dollar_taxvalue_structure   3340      1                   area_lot   \n",
       "6       1        area_living_type_12   3170      1                  longitude   \n",
       "7       1       dollar_taxvalue_land   2960      1  dollar_taxvalue_structure   \n",
       "8       1  area_living_finished_calc   2507      1       dollar_taxvalue_land   \n",
       "9       1      dollar_taxvalue_total   2216      1      dollar_taxvalue_total   \n",
       "10      2                area_garage   1102      2                  area_pool   \n",
       "11      1                num_bedroom    660      2                area_garage   \n",
       "12      1               type_landuse    575      1               type_landuse   \n",
       "13      2      rank_building_quality    568      1                num_bedroom   \n",
       "14      2                  area_pool    548      2      rank_building_quality   \n",
       "15      1        num_bathroom_zillow    454      1        num_bathroom_zillow   \n",
       "16      2      num_bathroom_assessor    357      2      num_bathroom_assessor   \n",
       "17      1        type_heating_system    326      1                  type_pool   \n",
       "18      2                   num_unit    257      1        type_heating_system   \n",
       "19      1            flag_spa_zillow    213      1       flag_tax_delinquency   \n",
       "20      1       flag_tax_delinquency    204      2                   num_unit   \n",
       "21      1                  type_pool    200      1            flag_spa_zillow   \n",
       "22      2                  num_story    182      1               num_fullbath   \n",
       "23      1               num_fullbath    181      2                  num_story   \n",
       "24      2                 num_garage    144      2                 num_garage   \n",
       "25      2      type_air_conditioning    137      2      type_air_conditioning   \n",
       "26      2                   num_room    112      2                   num_room   \n",
       "27      2              num_fireplace    107      2              num_fireplace   \n",
       "28      1                  code_fips     27      1                  code_fips   \n",
       "\n",
       "           gain  \n",
       "0   1764.673888  \n",
       "1   1680.953865  \n",
       "2   1667.419066  \n",
       "3   1619.861319  \n",
       "4   1539.949818  \n",
       "5   1461.527406  \n",
       "6   1358.485645  \n",
       "7   1317.876901  \n",
       "8   1182.509141  \n",
       "9   1166.348316  \n",
       "10   428.770227  \n",
       "11   390.353076  \n",
       "12   268.003600  \n",
       "13   240.860817  \n",
       "14   226.207314  \n",
       "15   184.870804  \n",
       "16   138.167023  \n",
       "17   127.000762  \n",
       "18   123.169335  \n",
       "19   112.591419  \n",
       "20   109.742672  \n",
       "21    91.628586  \n",
       "22    82.225880  \n",
       "23    55.193650  \n",
       "24    50.762839  \n",
       "25    48.438043  \n",
       "26    31.819017  \n",
       "27    28.152655  \n",
       "28    11.653392  "
      ]
     },
     "metadata": {},
     "output_type": "display_data"
    }
   ],
   "source": [
    "reload(z)\n",
    "df_split, df_gain = z.feature_importance(gbm)\n",
    "df_display = pd.concat([df_split, df_gain], axis=1, join='outer')\n",
    "display(df_display)"
   ]
  },
  {
   "cell_type": "markdown",
   "metadata": {},
   "source": [
    "There is an obvious positive rank correlation between model feature importance and mannual marked feature quality. Surprisingly, code_fips got a very low usage."
   ]
  },
  {
   "cell_type": "markdown",
   "metadata": {
    "collapsed": true
   },
   "source": [
    "## selected_feature prediction\n",
    "\n",
    "Naive version uses all usable features, let's see if higher quality and smaller set of features can improve model performance, or LightGBM is smart enough to do feature selection internally and can make use of anything if existing.\n",
    "\n",
    "Original plan is to use all class 1 features, but according to feature importance results, there some adjustments:\n",
    "- remove following class 1 features, due to low rank:\n",
    "    - code_fips.\n",
    "    - num_fullbath.\n",
    "    - flag_spa_zillow\n",
    "    - flag_tax_delinquency\n",
    "- keep following class 2 features:\n",
    "    - area_garage, I put it as class 2 because of relatively high missing rate. If the pattern is so rich, not only I would want to use it now, but I will try to have a good missing imputation for it.\n",
    "    - rank_building_quality, it was put as class 2 becuase no obvious pattern at high density area. From results, it seems that low density group (6, 8) shaded the scale.\n",
    "    - area_pool, it was also dropped due to weak pattern. Now it tells that the pattern is not drastic but good enough.\n",
    "    - num_bathroom_assessor, could also be miss-classified by scale shading.\n",
    "    - num_unit, it is not very strong, but we kept type_pool and type_heating_system."
   ]
  },
  {
   "cell_type": "code",
   "execution_count": 9,
   "metadata": {},
   "outputs": [],
   "source": [
    "reload(z)\n",
    "test_x, train_x, train_y = z.load_data_naive_lgb_feature_down(train_data, test_data)"
   ]
  },
  {
   "cell_type": "code",
   "execution_count": 10,
   "metadata": {},
   "outputs": [
    {
     "name": "stdout",
     "output_type": "stream",
     "text": [
      "cv MAE naive LightGBM: 0.067191\n"
     ]
    }
   ],
   "source": [
    "reload(z)\n",
    "lgb_train = lgb.Dataset(train_x, train_y)\n",
    "params = {\n",
    "    'boosting_type': 'gbdt',\n",
    "    'objective': 'regression_l1',\n",
    "    'metric': {'l1'},\n",
    "    'num_leaves': 40,\n",
    "    'min_data_in_leaf': 300,\n",
    "    'learning_rate': 0.01,\n",
    "    'lambda_l2': 0.02,\n",
    "    'feature_fraction': 0.8,\n",
    "    'bagging_fraction': 0.7,\n",
    "    'bagging_freq': 5,\n",
    "    'verbosity': 0\n",
    "}\n",
    "eval_hist = lgb.cv(params, lgb_train, num_boost_round=1000)\n",
    "print('cv MAE naive LightGBM: %.6f' % eval_hist['l1-mean'][-1])"
   ]
  },
  {
   "cell_type": "markdown",
   "metadata": {},
   "source": [
    "Compared to naive version without feature downsize, the performance gets downgraded, meaning low quality features does not confuse LightGBM. "
   ]
  },
  {
   "cell_type": "markdown",
   "metadata": {},
   "source": [
    "## expanded_feature prediction\n",
    "\n",
    "Now it worth looking if including class 4 features would improve the results."
   ]
  },
  {
   "cell_type": "code",
   "execution_count": 11,
   "metadata": {},
   "outputs": [
    {
     "name": "stdout",
     "output_type": "stream",
     "text": [
      "cv MAE naive LightGBM: 0.067143\n"
     ]
    }
   ],
   "source": [
    "reload(z)\n",
    "test_x, train_x, train_y = z.load_data_naive_lgb_feature_up(train_data, test_data)\n",
    "lgb_train = lgb.Dataset(train_x, train_y)\n",
    "params = {\n",
    "    'boosting_type': 'gbdt',\n",
    "    'objective': 'regression_l1',\n",
    "    'metric': {'l1'},\n",
    "    'num_leaves': 40,\n",
    "    'min_data_in_leaf': 300,\n",
    "    'learning_rate': 0.01,\n",
    "    'lambda_l2': 0.02,\n",
    "    'feature_fraction': 0.8,\n",
    "    'bagging_fraction': 0.7,\n",
    "    'bagging_freq': 5,\n",
    "    'verbosity': 0\n",
    "}\n",
    "eval_hist = lgb.cv(params, lgb_train, num_boost_round=1500)\n",
    "print('cv MAE naive LightGBM: %.6f' % eval_hist['l1-mean'][-1])"
   ]
  },
  {
   "cell_type": "markdown",
   "metadata": {},
   "source": [
    "lgb params are not further tuned, but num_boost_round is increased due to more noise. cv MAE gets decreased a little bit. So get curious in what it might do to testing data. Testing MAE gets improved from 0.0645428 to 0.0644639. "
   ]
  },
  {
   "cell_type": "code",
   "execution_count": 12,
   "metadata": {
    "scrolled": false
   },
   "outputs": [
    {
     "data": {
      "text/html": [
       "<div>\n",
       "<style>\n",
       "    .dataframe thead tr:only-child th {\n",
       "        text-align: right;\n",
       "    }\n",
       "\n",
       "    .dataframe thead th {\n",
       "        text-align: left;\n",
       "    }\n",
       "\n",
       "    .dataframe tbody tr th {\n",
       "        vertical-align: top;\n",
       "    }\n",
       "</style>\n",
       "<table border=\"1\" class=\"dataframe\">\n",
       "  <thead>\n",
       "    <tr style=\"text-align: right;\">\n",
       "      <th></th>\n",
       "      <th>class</th>\n",
       "      <th>feature</th>\n",
       "      <th>split</th>\n",
       "      <th>class</th>\n",
       "      <th>feature</th>\n",
       "      <th>gain</th>\n",
       "    </tr>\n",
       "  </thead>\n",
       "  <tbody>\n",
       "    <tr>\n",
       "      <th>0</th>\n",
       "      <td>1</td>\n",
       "      <td>year_built</td>\n",
       "      <td>5694</td>\n",
       "      <td>1</td>\n",
       "      <td>year_built</td>\n",
       "      <td>2108.283189</td>\n",
       "    </tr>\n",
       "    <tr>\n",
       "      <th>1</th>\n",
       "      <td>1</td>\n",
       "      <td>latitude</td>\n",
       "      <td>5539</td>\n",
       "      <td>1</td>\n",
       "      <td>latitude</td>\n",
       "      <td>2049.224820</td>\n",
       "    </tr>\n",
       "    <tr>\n",
       "      <th>2</th>\n",
       "      <td>1</td>\n",
       "      <td>area_lot</td>\n",
       "      <td>5539</td>\n",
       "      <td>1</td>\n",
       "      <td>area_lot</td>\n",
       "      <td>1926.511265</td>\n",
       "    </tr>\n",
       "    <tr>\n",
       "      <th>3</th>\n",
       "      <td>1</td>\n",
       "      <td>dollar_taxvalue_structure</td>\n",
       "      <td>5195</td>\n",
       "      <td>1</td>\n",
       "      <td>dollar_tax</td>\n",
       "      <td>1914.989072</td>\n",
       "    </tr>\n",
       "    <tr>\n",
       "      <th>4</th>\n",
       "      <td>1</td>\n",
       "      <td>longitude</td>\n",
       "      <td>5080</td>\n",
       "      <td>1</td>\n",
       "      <td>area_living_type_12</td>\n",
       "      <td>1909.168882</td>\n",
       "    </tr>\n",
       "    <tr>\n",
       "      <th>5</th>\n",
       "      <td>1</td>\n",
       "      <td>dollar_tax</td>\n",
       "      <td>4699</td>\n",
       "      <td>1</td>\n",
       "      <td>area_living_finished_calc</td>\n",
       "      <td>1846.284699</td>\n",
       "    </tr>\n",
       "    <tr>\n",
       "      <th>6</th>\n",
       "      <td>1</td>\n",
       "      <td>area_living_type_12</td>\n",
       "      <td>4462</td>\n",
       "      <td>1</td>\n",
       "      <td>longitude</td>\n",
       "      <td>1768.611371</td>\n",
       "    </tr>\n",
       "    <tr>\n",
       "      <th>7</th>\n",
       "      <td>1</td>\n",
       "      <td>dollar_taxvalue_land</td>\n",
       "      <td>4439</td>\n",
       "      <td>1</td>\n",
       "      <td>dollar_taxvalue_structure</td>\n",
       "      <td>1737.730846</td>\n",
       "    </tr>\n",
       "    <tr>\n",
       "      <th>8</th>\n",
       "      <td>1</td>\n",
       "      <td>area_living_finished_calc</td>\n",
       "      <td>3645</td>\n",
       "      <td>1</td>\n",
       "      <td>dollar_taxvalue_land</td>\n",
       "      <td>1545.368544</td>\n",
       "    </tr>\n",
       "    <tr>\n",
       "      <th>9</th>\n",
       "      <td>1</td>\n",
       "      <td>dollar_taxvalue_total</td>\n",
       "      <td>3435</td>\n",
       "      <td>1</td>\n",
       "      <td>dollar_taxvalue_total</td>\n",
       "      <td>1437.979522</td>\n",
       "    </tr>\n",
       "    <tr>\n",
       "      <th>10</th>\n",
       "      <td>2</td>\n",
       "      <td>area_garage</td>\n",
       "      <td>1468</td>\n",
       "      <td>2</td>\n",
       "      <td>area_garage</td>\n",
       "      <td>451.628437</td>\n",
       "    </tr>\n",
       "    <tr>\n",
       "      <th>11</th>\n",
       "      <td>4</td>\n",
       "      <td>area_living_type_15</td>\n",
       "      <td>1333</td>\n",
       "      <td>4</td>\n",
       "      <td>area_living_type_15</td>\n",
       "      <td>407.010359</td>\n",
       "    </tr>\n",
       "    <tr>\n",
       "      <th>12</th>\n",
       "      <td>1</td>\n",
       "      <td>num_bedroom</td>\n",
       "      <td>909</td>\n",
       "      <td>2</td>\n",
       "      <td>area_pool</td>\n",
       "      <td>401.179880</td>\n",
       "    </tr>\n",
       "    <tr>\n",
       "      <th>13</th>\n",
       "      <td>2</td>\n",
       "      <td>rank_building_quality</td>\n",
       "      <td>781</td>\n",
       "      <td>1</td>\n",
       "      <td>num_bedroom</td>\n",
       "      <td>290.928696</td>\n",
       "    </tr>\n",
       "    <tr>\n",
       "      <th>14</th>\n",
       "      <td>1</td>\n",
       "      <td>type_landuse</td>\n",
       "      <td>665</td>\n",
       "      <td>2</td>\n",
       "      <td>rank_building_quality</td>\n",
       "      <td>267.249829</td>\n",
       "    </tr>\n",
       "    <tr>\n",
       "      <th>15</th>\n",
       "      <td>1</td>\n",
       "      <td>num_bathroom_zillow</td>\n",
       "      <td>580</td>\n",
       "      <td>1</td>\n",
       "      <td>type_landuse</td>\n",
       "      <td>264.726658</td>\n",
       "    </tr>\n",
       "    <tr>\n",
       "      <th>16</th>\n",
       "      <td>2</td>\n",
       "      <td>num_bathroom_assessor</td>\n",
       "      <td>554</td>\n",
       "      <td>1</td>\n",
       "      <td>num_bathroom_zillow</td>\n",
       "      <td>201.174664</td>\n",
       "    </tr>\n",
       "    <tr>\n",
       "      <th>17</th>\n",
       "      <td>2</td>\n",
       "      <td>area_pool</td>\n",
       "      <td>540</td>\n",
       "      <td>2</td>\n",
       "      <td>num_bathroom_assessor</td>\n",
       "      <td>200.015867</td>\n",
       "    </tr>\n",
       "    <tr>\n",
       "      <th>18</th>\n",
       "      <td>1</td>\n",
       "      <td>type_heating_system</td>\n",
       "      <td>476</td>\n",
       "      <td>1</td>\n",
       "      <td>type_heating_system</td>\n",
       "      <td>166.974829</td>\n",
       "    </tr>\n",
       "    <tr>\n",
       "      <th>19</th>\n",
       "      <td>4</td>\n",
       "      <td>area_firstfloor_zillow</td>\n",
       "      <td>352</td>\n",
       "      <td>1</td>\n",
       "      <td>num_fullbath</td>\n",
       "      <td>122.168921</td>\n",
       "    </tr>\n",
       "    <tr>\n",
       "      <th>20</th>\n",
       "      <td>1</td>\n",
       "      <td>num_fullbath</td>\n",
       "      <td>314</td>\n",
       "      <td>4</td>\n",
       "      <td>flag_pool</td>\n",
       "      <td>113.888916</td>\n",
       "    </tr>\n",
       "    <tr>\n",
       "      <th>21</th>\n",
       "      <td>4</td>\n",
       "      <td>area_firstfloor_assessor</td>\n",
       "      <td>258</td>\n",
       "      <td>1</td>\n",
       "      <td>flag_tax_delinquency</td>\n",
       "      <td>105.973197</td>\n",
       "    </tr>\n",
       "    <tr>\n",
       "      <th>22</th>\n",
       "      <td>2</td>\n",
       "      <td>num_unit</td>\n",
       "      <td>237</td>\n",
       "      <td>2</td>\n",
       "      <td>num_unit</td>\n",
       "      <td>95.554383</td>\n",
       "    </tr>\n",
       "    <tr>\n",
       "      <th>23</th>\n",
       "      <td>2</td>\n",
       "      <td>num_garage</td>\n",
       "      <td>230</td>\n",
       "      <td>1</td>\n",
       "      <td>flag_spa_zillow</td>\n",
       "      <td>87.388925</td>\n",
       "    </tr>\n",
       "    <tr>\n",
       "      <th>24</th>\n",
       "      <td>2</td>\n",
       "      <td>num_story</td>\n",
       "      <td>229</td>\n",
       "      <td>4</td>\n",
       "      <td>area_firstfloor_zillow</td>\n",
       "      <td>82.272656</td>\n",
       "    </tr>\n",
       "    <tr>\n",
       "      <th>25</th>\n",
       "      <td>1</td>\n",
       "      <td>flag_tax_delinquency</td>\n",
       "      <td>229</td>\n",
       "      <td>2</td>\n",
       "      <td>num_garage</td>\n",
       "      <td>74.047730</td>\n",
       "    </tr>\n",
       "    <tr>\n",
       "      <th>26</th>\n",
       "      <td>2</td>\n",
       "      <td>type_air_conditioning</td>\n",
       "      <td>216</td>\n",
       "      <td>2</td>\n",
       "      <td>type_air_conditioning</td>\n",
       "      <td>65.788120</td>\n",
       "    </tr>\n",
       "    <tr>\n",
       "      <th>27</th>\n",
       "      <td>2</td>\n",
       "      <td>num_room</td>\n",
       "      <td>206</td>\n",
       "      <td>2</td>\n",
       "      <td>num_story</td>\n",
       "      <td>64.572510</td>\n",
       "    </tr>\n",
       "    <tr>\n",
       "      <th>28</th>\n",
       "      <td>1</td>\n",
       "      <td>flag_spa_zillow</td>\n",
       "      <td>204</td>\n",
       "      <td>4</td>\n",
       "      <td>area_firstfloor_assessor</td>\n",
       "      <td>60.671826</td>\n",
       "    </tr>\n",
       "    <tr>\n",
       "      <th>29</th>\n",
       "      <td>4</td>\n",
       "      <td>flag_pool</td>\n",
       "      <td>189</td>\n",
       "      <td>2</td>\n",
       "      <td>num_room</td>\n",
       "      <td>51.322668</td>\n",
       "    </tr>\n",
       "    <tr>\n",
       "      <th>30</th>\n",
       "      <td>4</td>\n",
       "      <td>area_yard_patio</td>\n",
       "      <td>189</td>\n",
       "      <td>2</td>\n",
       "      <td>num_fireplace</td>\n",
       "      <td>43.064906</td>\n",
       "    </tr>\n",
       "    <tr>\n",
       "      <th>31</th>\n",
       "      <td>2</td>\n",
       "      <td>num_fireplace</td>\n",
       "      <td>168</td>\n",
       "      <td>4</td>\n",
       "      <td>year_tax_due</td>\n",
       "      <td>37.592513</td>\n",
       "    </tr>\n",
       "    <tr>\n",
       "      <th>32</th>\n",
       "      <td>4</td>\n",
       "      <td>year_tax_due</td>\n",
       "      <td>124</td>\n",
       "      <td>4</td>\n",
       "      <td>area_yard_patio</td>\n",
       "      <td>35.508565</td>\n",
       "    </tr>\n",
       "    <tr>\n",
       "      <th>33</th>\n",
       "      <td>4</td>\n",
       "      <td>num_34_bathroom</td>\n",
       "      <td>82</td>\n",
       "      <td>1</td>\n",
       "      <td>type_pool</td>\n",
       "      <td>28.564006</td>\n",
       "    </tr>\n",
       "    <tr>\n",
       "      <th>34</th>\n",
       "      <td>4</td>\n",
       "      <td>flag_pool_type_2</td>\n",
       "      <td>70</td>\n",
       "      <td>4</td>\n",
       "      <td>flag_pool_type_2</td>\n",
       "      <td>27.069090</td>\n",
       "    </tr>\n",
       "    <tr>\n",
       "      <th>35</th>\n",
       "      <td>1</td>\n",
       "      <td>type_pool</td>\n",
       "      <td>43</td>\n",
       "      <td>4</td>\n",
       "      <td>num_34_bathroom</td>\n",
       "      <td>20.498708</td>\n",
       "    </tr>\n",
       "    <tr>\n",
       "      <th>36</th>\n",
       "      <td>4</td>\n",
       "      <td>flag_pool_type_7</td>\n",
       "      <td>37</td>\n",
       "      <td>4</td>\n",
       "      <td>flag_pool_type_7</td>\n",
       "      <td>13.491576</td>\n",
       "    </tr>\n",
       "    <tr>\n",
       "      <th>37</th>\n",
       "      <td>4</td>\n",
       "      <td>type_deck</td>\n",
       "      <td>32</td>\n",
       "      <td>1</td>\n",
       "      <td>code_fips</td>\n",
       "      <td>5.213540</td>\n",
       "    </tr>\n",
       "    <tr>\n",
       "      <th>38</th>\n",
       "      <td>1</td>\n",
       "      <td>code_fips</td>\n",
       "      <td>20</td>\n",
       "      <td>4</td>\n",
       "      <td>type_deck</td>\n",
       "      <td>4.975268</td>\n",
       "    </tr>\n",
       "    <tr>\n",
       "      <th>39</th>\n",
       "      <td>4</td>\n",
       "      <td>type_pool_assessor</td>\n",
       "      <td>19</td>\n",
       "      <td>4</td>\n",
       "      <td>type_pool_assessor</td>\n",
       "      <td>3.841576</td>\n",
       "    </tr>\n",
       "    <tr>\n",
       "      <th>40</th>\n",
       "      <td>4</td>\n",
       "      <td>area_living_type_6</td>\n",
       "      <td>14</td>\n",
       "      <td>4</td>\n",
       "      <td>area_living_type_6</td>\n",
       "      <td>2.672191</td>\n",
       "    </tr>\n",
       "    <tr>\n",
       "      <th>41</th>\n",
       "      <td>4</td>\n",
       "      <td>code_county</td>\n",
       "      <td>5</td>\n",
       "      <td>4</td>\n",
       "      <td>code_county</td>\n",
       "      <td>1.653755</td>\n",
       "    </tr>\n",
       "    <tr>\n",
       "      <th>42</th>\n",
       "      <td>4</td>\n",
       "      <td>area_yard_storage</td>\n",
       "      <td>0</td>\n",
       "      <td>4</td>\n",
       "      <td>type_construction</td>\n",
       "      <td>0.000000</td>\n",
       "    </tr>\n",
       "    <tr>\n",
       "      <th>43</th>\n",
       "      <td>4</td>\n",
       "      <td>area_living_type_13</td>\n",
       "      <td>0</td>\n",
       "      <td>4</td>\n",
       "      <td>area_living_type_13</td>\n",
       "      <td>0.000000</td>\n",
       "    </tr>\n",
       "    <tr>\n",
       "      <th>44</th>\n",
       "      <td>4</td>\n",
       "      <td>type_construction</td>\n",
       "      <td>0</td>\n",
       "      <td>4</td>\n",
       "      <td>type_building_framing</td>\n",
       "      <td>0.000000</td>\n",
       "    </tr>\n",
       "    <tr>\n",
       "      <th>45</th>\n",
       "      <td>4</td>\n",
       "      <td>type_building_framing</td>\n",
       "      <td>0</td>\n",
       "      <td>4</td>\n",
       "      <td>flag_fireplace</td>\n",
       "      <td>0.000000</td>\n",
       "    </tr>\n",
       "    <tr>\n",
       "      <th>46</th>\n",
       "      <td>4</td>\n",
       "      <td>type_story</td>\n",
       "      <td>0</td>\n",
       "      <td>4</td>\n",
       "      <td>type_story</td>\n",
       "      <td>0.000000</td>\n",
       "    </tr>\n",
       "    <tr>\n",
       "      <th>47</th>\n",
       "      <td>4</td>\n",
       "      <td>area_base_finished</td>\n",
       "      <td>0</td>\n",
       "      <td>4</td>\n",
       "      <td>area_base_finished</td>\n",
       "      <td>0.000000</td>\n",
       "    </tr>\n",
       "    <tr>\n",
       "      <th>48</th>\n",
       "      <td>4</td>\n",
       "      <td>type_architectural_style</td>\n",
       "      <td>0</td>\n",
       "      <td>4</td>\n",
       "      <td>type_architectural_style</td>\n",
       "      <td>0.000000</td>\n",
       "    </tr>\n",
       "    <tr>\n",
       "      <th>49</th>\n",
       "      <td>4</td>\n",
       "      <td>flag_fireplace</td>\n",
       "      <td>0</td>\n",
       "      <td>4</td>\n",
       "      <td>area_yard_storage</td>\n",
       "      <td>0.000000</td>\n",
       "    </tr>\n",
       "  </tbody>\n",
       "</table>\n",
       "</div>"
      ],
      "text/plain": [
       "    class                    feature  split  class                    feature  \\\n",
       "0       1                 year_built   5694      1                 year_built   \n",
       "1       1                   latitude   5539      1                   latitude   \n",
       "2       1                   area_lot   5539      1                   area_lot   \n",
       "3       1  dollar_taxvalue_structure   5195      1                 dollar_tax   \n",
       "4       1                  longitude   5080      1        area_living_type_12   \n",
       "5       1                 dollar_tax   4699      1  area_living_finished_calc   \n",
       "6       1        area_living_type_12   4462      1                  longitude   \n",
       "7       1       dollar_taxvalue_land   4439      1  dollar_taxvalue_structure   \n",
       "8       1  area_living_finished_calc   3645      1       dollar_taxvalue_land   \n",
       "9       1      dollar_taxvalue_total   3435      1      dollar_taxvalue_total   \n",
       "10      2                area_garage   1468      2                area_garage   \n",
       "11      4        area_living_type_15   1333      4        area_living_type_15   \n",
       "12      1                num_bedroom    909      2                  area_pool   \n",
       "13      2      rank_building_quality    781      1                num_bedroom   \n",
       "14      1               type_landuse    665      2      rank_building_quality   \n",
       "15      1        num_bathroom_zillow    580      1               type_landuse   \n",
       "16      2      num_bathroom_assessor    554      1        num_bathroom_zillow   \n",
       "17      2                  area_pool    540      2      num_bathroom_assessor   \n",
       "18      1        type_heating_system    476      1        type_heating_system   \n",
       "19      4     area_firstfloor_zillow    352      1               num_fullbath   \n",
       "20      1               num_fullbath    314      4                  flag_pool   \n",
       "21      4   area_firstfloor_assessor    258      1       flag_tax_delinquency   \n",
       "22      2                   num_unit    237      2                   num_unit   \n",
       "23      2                 num_garage    230      1            flag_spa_zillow   \n",
       "24      2                  num_story    229      4     area_firstfloor_zillow   \n",
       "25      1       flag_tax_delinquency    229      2                 num_garage   \n",
       "26      2      type_air_conditioning    216      2      type_air_conditioning   \n",
       "27      2                   num_room    206      2                  num_story   \n",
       "28      1            flag_spa_zillow    204      4   area_firstfloor_assessor   \n",
       "29      4                  flag_pool    189      2                   num_room   \n",
       "30      4            area_yard_patio    189      2              num_fireplace   \n",
       "31      2              num_fireplace    168      4               year_tax_due   \n",
       "32      4               year_tax_due    124      4            area_yard_patio   \n",
       "33      4            num_34_bathroom     82      1                  type_pool   \n",
       "34      4           flag_pool_type_2     70      4           flag_pool_type_2   \n",
       "35      1                  type_pool     43      4            num_34_bathroom   \n",
       "36      4           flag_pool_type_7     37      4           flag_pool_type_7   \n",
       "37      4                  type_deck     32      1                  code_fips   \n",
       "38      1                  code_fips     20      4                  type_deck   \n",
       "39      4         type_pool_assessor     19      4         type_pool_assessor   \n",
       "40      4         area_living_type_6     14      4         area_living_type_6   \n",
       "41      4                code_county      5      4                code_county   \n",
       "42      4          area_yard_storage      0      4          type_construction   \n",
       "43      4        area_living_type_13      0      4        area_living_type_13   \n",
       "44      4          type_construction      0      4      type_building_framing   \n",
       "45      4      type_building_framing      0      4             flag_fireplace   \n",
       "46      4                 type_story      0      4                 type_story   \n",
       "47      4         area_base_finished      0      4         area_base_finished   \n",
       "48      4   type_architectural_style      0      4   type_architectural_style   \n",
       "49      4             flag_fireplace      0      4          area_yard_storage   \n",
       "\n",
       "           gain  \n",
       "0   2108.283189  \n",
       "1   2049.224820  \n",
       "2   1926.511265  \n",
       "3   1914.989072  \n",
       "4   1909.168882  \n",
       "5   1846.284699  \n",
       "6   1768.611371  \n",
       "7   1737.730846  \n",
       "8   1545.368544  \n",
       "9   1437.979522  \n",
       "10   451.628437  \n",
       "11   407.010359  \n",
       "12   401.179880  \n",
       "13   290.928696  \n",
       "14   267.249829  \n",
       "15   264.726658  \n",
       "16   201.174664  \n",
       "17   200.015867  \n",
       "18   166.974829  \n",
       "19   122.168921  \n",
       "20   113.888916  \n",
       "21   105.973197  \n",
       "22    95.554383  \n",
       "23    87.388925  \n",
       "24    82.272656  \n",
       "25    74.047730  \n",
       "26    65.788120  \n",
       "27    64.572510  \n",
       "28    60.671826  \n",
       "29    51.322668  \n",
       "30    43.064906  \n",
       "31    37.592513  \n",
       "32    35.508565  \n",
       "33    28.564006  \n",
       "34    27.069090  \n",
       "35    20.498708  \n",
       "36    13.491576  \n",
       "37     5.213540  \n",
       "38     4.975268  \n",
       "39     3.841576  \n",
       "40     2.672191  \n",
       "41     1.653755  \n",
       "42     0.000000  \n",
       "43     0.000000  \n",
       "44     0.000000  \n",
       "45     0.000000  \n",
       "46     0.000000  \n",
       "47     0.000000  \n",
       "48     0.000000  \n",
       "49     0.000000  "
      ]
     },
     "metadata": {},
     "output_type": "display_data"
    }
   ],
   "source": [
    "gbm = z.train_lgb(train_x, train_y, 1500)\n",
    "df_split, df_gain = z.feature_importance(gbm)\n",
    "df_display = pd.concat([df_split, df_gain], axis=1, join='outer')\n",
    "display(df_display)"
   ]
  },
  {
   "cell_type": "markdown",
   "metadata": {},
   "source": [
    "Take a further look at feature importance, indeed most type 4 features are useless. Yet, the 5 that ranks high:\n",
    "- area_living_type_15\n",
    "- area_firstfloor_zillow\n",
    "- area_firstfloor_assessor\n",
    "- area_yard_patio\n",
    "- year_tax_due\n",
    "\n",
    "They are all put into class-4 due to high missing rate (+95%), thus patterns are not viewed at all. Further more, as put in data_explore section type_pool should have already included flag_pool and type_pool_2 information. Let's finalize our naive_lgb version with class12 plus these 5 features. "
   ]
  },
  {
   "cell_type": "markdown",
   "metadata": {},
   "source": [
    "## naive_lgb_final model"
   ]
  },
  {
   "cell_type": "code",
   "execution_count": 13,
   "metadata": {},
   "outputs": [
    {
     "name": "stdout",
     "output_type": "stream",
     "text": [
      "cv MAE naive LightGBM: 0.067142\n"
     ]
    }
   ],
   "source": [
    "reload(z)\n",
    "test_x, train_x, train_y = z.load_data_naive_lgb_final(train_data, test_data)\n",
    "lgb_train = lgb.Dataset(train_x, train_y)\n",
    "params = {\n",
    "    'boosting_type': 'gbdt',\n",
    "    'objective': 'regression_l1',\n",
    "    'metric': {'l1'},\n",
    "    'num_leaves': 40,\n",
    "    'min_data_in_leaf': 300,\n",
    "    'learning_rate': 0.01,\n",
    "    'lambda_l2': 0.02,\n",
    "    'feature_fraction': 0.8,\n",
    "    'bagging_fraction': 0.7,\n",
    "    'bagging_freq': 5,\n",
    "    'verbosity': 0\n",
    "}\n",
    "eval_hist = lgb.cv(params, lgb_train, num_boost_round=1500)\n",
    "print('cv MAE naive LightGBM: %.6f' % eval_hist['l1-mean'][-1])"
   ]
  },
  {
   "cell_type": "markdown",
   "metadata": {},
   "source": [
    "Good to see cv MAE is not much compromised. Let's keep this as final naive_lgb model. On testing data, result is a bit worse off. from 0.0644639 to 0.0644925. It should be fine. And with less number of used features, model training and predicting process will be more efficient. "
   ]
  },
  {
   "cell_type": "markdown",
   "metadata": {},
   "source": [
    "## Feature Engineering\n",
    "\n",
    "In this section, I will test adding or replacing one feature at a time on top of naive lgb benchmark. Engineered feature is expected to be strong, so:\n",
    "- if it is a completely new feature, I will take a look at its average importance rank in both split and gain. A usable new feature should not be of last, say 10%. \n",
    "- if it is a feature to replace an existing feature. I will include both features in the model, and see if the new one performs better than the old one."
   ]
  },
  {
   "cell_type": "code",
   "execution_count": 114,
   "metadata": {
    "collapsed": true
   },
   "outputs": [],
   "source": [
    "reload(z)\n",
    "# fix original data set and parameters for feature engineering\n",
    "test_x, train_x, train_y = z.load_data_naive_lgb_final(train_data, test_data)\n",
    "params = {\n",
    "    'boosting_type': 'gbdt',\n",
    "    'objective': 'regression_l1',\n",
    "    'metric': {'l1'},\n",
    "    'num_leaves': 40,\n",
    "    'min_data_in_leaf': 300,\n",
    "    'learning_rate': 0.01,\n",
    "    'lambda_l2': 0.02,\n",
    "    'feature_fraction': 0.8,\n",
    "    'bagging_fraction': 0.7,\n",
    "    'bagging_freq': 5,\n",
    "    'verbosity': 0\n",
    "}"
   ]
  },
  {
   "cell_type": "markdown",
   "metadata": {},
   "source": [
    "### Cleaning existing features"
   ]
  },
  {
   "cell_type": "markdown",
   "metadata": {},
   "source": [
    "#### num_fullbath\n",
    "\n",
    "group into {0, 1, 2, 3, 4, 5, >=6}, use as categorical."
   ]
  },
  {
   "cell_type": "code",
   "execution_count": 97,
   "metadata": {},
   "outputs": [
    {
     "name": "stdout",
     "output_type": "stream",
     "text": [
      "n_features total: 34\n",
      "num_fullbath_new: rank split = 17, rank gain = 19, avg_rank = 18.0\n",
      "num_fullbath: rank split = 21, rank gain = 21, avg_rank = 21.0\n",
      "cv MAE naive LightGBM: 0.067142\n"
     ]
    }
   ],
   "source": [
    "reload(z)\n",
    "def create_num_full_bath_new(data, raw_data):\n",
    "    orig_name = nmap_new_to_orig['num_fullbath']\n",
    "    data_out = data.copy()\n",
    "    data_out['num_fullbath_new'] = raw_data[orig_name]\n",
    "    data_out.loc[data_out.index[raw_data[orig_name] >= 6], 'num_fullbath_new'] = 6\n",
    "    z.cat_num_to_str_inner(data_out, 'num_fullbath_new')\n",
    "    z.convert_cat_col_single(data_out, 'num_fullbath_new')\n",
    "    data_out.drop(orig_name, axis=1, inplace=True)\n",
    "    return data_out\n",
    "    \n",
    "train_x_local = create_num_full_bath_new(train_x, train_data)\n",
    "gbm = z.train_lgb(train_x_local, train_y)\n",
    "z.feature_importance_rank(gbm, 'num_fullbath_new', 'num_fullbath')"
   ]
  },
  {
   "cell_type": "markdown",
   "metadata": {},
   "source": [
    "Improve is quite limited, but we do observe improvement."
   ]
  },
  {
   "cell_type": "markdown",
   "metadata": {},
   "source": [
    "Try impute the nan num_fullbath from num_bathroom, from data exploration, this imputes about 1.3% of fullbath data."
   ]
  },
  {
   "cell_type": "code",
   "execution_count": 133,
   "metadata": {},
   "outputs": [
    {
     "name": "stdout",
     "output_type": "stream",
     "text": [
      "n_features total: 34\n",
      "num_fullbath_impute: rank split = 18, rank gain = 19, avg_rank = 18.5\n",
      "num_fullbath: rank split = 21, rank gain = 21, avg_rank = 21.0\n"
     ]
    }
   ],
   "source": [
    "reload(z)\n",
    "def nan_impute_fullbathcnt(data, raw_data):\n",
    "    orig_name_fullbath = nmap_new_to_orig['num_fullbath']\n",
    "    orig_name_bath = nmap_new_to_orig['num_bathroom_assessor']\n",
    "    data_out = data.copy()\n",
    "    null_idx = raw_data.index[data[orig_name_fullbath].isnull()]\n",
    "    fill_val = raw_data[orig_name_bath][null_idx].copy()\n",
    "    fill_val_raw = fill_val.copy()\n",
    "    fill_val_raw_floor = fill_val_raw.apply(math.floor)\n",
    "    int_idx = np.abs(fill_val_raw.values - fill_val_raw_floor.values) < 1e-12\n",
    "    fill_val[int_idx] = np.maximum(fill_val_raw[int_idx] - 1, 0)\n",
    "    fill_val[~int_idx] = fill_val_raw_floor[~int_idx]\n",
    "    data_out['num_fullbath_impute'] = raw_data[orig_name_fullbath]\n",
    "    data_out.loc[null_idx, 'num_fullbath_impute']= fill_val\n",
    "    z.cat_num_to_str_inner(data_out, 'num_fullbath_impute')\n",
    "    z.convert_cat_col_single(data_out, 'num_fullbath_impute')\n",
    "    data_out.drop(orig_name_fullbath, axis=1, inplace=True)\n",
    "    return data_out\n",
    "\n",
    "train_x_local = nan_impute_fullbathcnt(train_x, train_data)\n",
    "gbm = z.train_lgb(train_x_local, train_y)\n",
    "z.feature_importance_rank(gbm, 'num_fullbath_impute', 'num_fullbath')"
   ]
  },
  {
   "cell_type": "code",
   "execution_count": 147,
   "metadata": {},
   "outputs": [
    {
     "name": "stdout",
     "output_type": "stream",
     "text": [
      "n_features total: 34\n",
      "num_fullbath_clean: rank split = 19, rank gain = 19, avg_rank = 19.0\n",
      "num_fullbath: rank split = 21, rank gain = 21, avg_rank = 21.0\n"
     ]
    }
   ],
   "source": [
    "# combine above 2 operations\n",
    "reload(z)\n",
    "def nan_impute_fullbathcnt(data, raw_data):\n",
    "    orig_name_fullbath = nmap_new_to_orig['num_fullbath']\n",
    "    orig_name_bath = nmap_new_to_orig['num_bathroom_assessor']\n",
    "    data_out = data.copy()\n",
    "    \n",
    "    null_idx = raw_data.index[data[orig_name_fullbath].isnull()]\n",
    "    fill_val = raw_data[orig_name_bath][null_idx].copy()\n",
    "    fill_val_floor = fill_val.apply(math.floor)\n",
    "    int_idx = np.abs(fill_val.values - fill_val_floor.values) < 1e-12\n",
    "    fill_val[int_idx] = np.maximum(fill_val[int_idx] - 1, 0)\n",
    "    fill_val[~int_idx] = fill_val_floor[~int_idx]\n",
    "    data_out['num_fullbath_impute'] = raw_data[orig_name_fullbath]\n",
    "    data_out.loc[null_idx, 'num_fullbath_impute']= fill_val\n",
    "    \n",
    "    data_out['num_fullbath_clean'] = data_out['num_fullbath_impute']\n",
    "    data_out.loc[data_out.index[data_out['num_fullbath_clean'] >= 6], 'num_fullbath_clean'] = 6\n",
    "    z.cat_num_to_str_inner(data_out, 'num_fullbath_clean')\n",
    "    z.convert_cat_col_single(data_out, 'num_fullbath_clean')\n",
    "    data_out.drop(orig_name_fullbath, axis=1, inplace=True)\n",
    "    data_out.drop('num_fullbath_impute', axis=1, inplace=True)\n",
    "    \n",
    "    return data_out\n",
    "\n",
    "train_x_local = nan_impute_fullbathcnt(train_x, train_data)\n",
    "gbm = z.train_lgb(train_x_local, train_y)\n",
    "z.feature_importance_rank(gbm, 'num_fullbath_clean', 'num_fullbath')\n",
    "    "
   ]
  },
  {
   "cell_type": "markdown",
   "metadata": {},
   "source": [
    "it is actually worse than using grouping alone, but let's keep it this way as logically it makes more sense."
   ]
  },
  {
   "cell_type": "markdown",
   "metadata": {},
   "source": [
    "#### num_fireplace\n",
    "\n",
    "group into {1, 2, >=3}, leave nan as it is, make it categorical"
   ]
  },
  {
   "cell_type": "code",
   "execution_count": 26,
   "metadata": {},
   "outputs": [
    {
     "name": "stdout",
     "output_type": "stream",
     "text": [
      "n_features total: 35\n",
      "num_fireplace_new: rank split = 35, rank gain = 35, avg_rank = 35.0\n",
      "num_fireplace: rank split = 32, rank gain = 32, avg_rank = 32.0\n"
     ]
    }
   ],
   "source": [
    "reload(z)\n",
    "def create_num_full_bath_new(data, raw_data):\n",
    "    orig_name = nmap_new_to_orig['num_fireplace']\n",
    "    data_out = data.copy()\n",
    "    data_out['num_fireplace_new'] = raw_data[orig_name]\n",
    "    data_out.loc[data_out.index[raw_data[orig_name] >= 3], 'num_fireplace_new'] = 3\n",
    "    z.cat_num_to_str_inner(data_out, 'num_fireplace_new')\n",
    "    z.convert_cat_col_single(data_out, 'num_fireplace_new')\n",
    "    data_out.drop(orig_name, axis=1, inplace=True)\n",
    "    return data_out\n",
    "    \n",
    "train_x_local = create_num_full_bath_new(train_x, train_data)\n",
    "gbm = z.train_lgb(train_x_local, train_y)\n",
    "z.feature_importance_rank(gbm, 'num_fireplace_new', 'num_fireplace')"
   ]
  },
  {
   "cell_type": "markdown",
   "metadata": {},
   "source": [
    "no improvement, leave num_fireplace as it is."
   ]
  },
  {
   "cell_type": "markdown",
   "metadata": {},
   "source": [
    "#### area_garage\n",
    "\n",
    "it is a high rank variable and missing rate is high: ~76%. Let's see if naive imputation could work, fill by mean. Note there are also cases when we have zero area but non_zero count. also impute for it."
   ]
  },
  {
   "cell_type": "code",
   "execution_count": 139,
   "metadata": {},
   "outputs": [
    {
     "name": "stdout",
     "output_type": "stream",
     "text": [
      "n_features total: 35\n",
      "area_garage_impute: rank split = 20, rank gain = 22, avg_rank = 21.0\n",
      "area_garage: rank split = 11, rank gain = 11, avg_rank = 11.0\n"
     ]
    }
   ],
   "source": [
    "reload(z)\n",
    "def create_area_garage_impute(data, raw_data):\n",
    "    orig_name = nmap_new_to_orig['area_garage']\n",
    "    data_out = data.copy()\n",
    "    data_out['area_garage_impute'] = raw_data[orig_name]\n",
    "    # first set 0 area and non-zero count samples to nan\n",
    "    target_idx = np.logical_and(data_out['area_garage_impute'] == 0, raw_data['garagecarcnt'] > 0)\n",
    "    data_out.loc[target_idx, 'area_garage_impute'] = np.nan\n",
    "    # then impute resst by pure mean\n",
    "    data_out['area_garage_impute'].fillna(data_out['area_garage_impute'].mean(), inplace=True)\n",
    "    return data_out\n",
    "    \n",
    "train_x_local = create_area_garage_impute(train_x, train_data)\n",
    "gbm = z.train_lgb(train_x_local, train_y)\n",
    "z.feature_importance_rank(gbm, 'area_garage_impute', 'area_garage')"
   ]
  },
  {
   "cell_type": "markdown",
   "metadata": {},
   "source": [
    "Let's not mess up this feature.."
   ]
  },
  {
   "cell_type": "markdown",
   "metadata": {},
   "source": [
    "### combination of existing features"
   ]
  },
  {
   "cell_type": "markdown",
   "metadata": {},
   "source": [
    "#### num_bathroom\n",
    "\n",
    "we have num_bathroom_zillow and num_bathroom_assessor, let's see if the difference gives more information, try both abs diff and non-abs diff."
   ]
  },
  {
   "cell_type": "code",
   "execution_count": 69,
   "metadata": {},
   "outputs": [
    {
     "name": "stdout",
     "output_type": "stream",
     "text": [
      "max_diff: 0.00\n",
      "min_diff: 0.00\n",
      "n_features total: 35\n",
      "num_bathroom_diff: rank split = 35, rank gain = 35, avg_rank = 35.0\n"
     ]
    }
   ],
   "source": [
    "reload(z)\n",
    "orig_name_zillow = nmap_new_to_orig['num_bathroom_zillow']\n",
    "orig_name_assessor = nmap_new_to_orig['num_bathroom_assessor']\n",
    "diff_col = train_data[orig_name_zillow] - train_data[orig_name_assessor]\n",
    "print('max_diff: %.2f' % np.nanmax(diff_col.values))\n",
    "print('min_diff: %.2f' % np.nanmin(diff_col.values))\n",
    "\n",
    "# create feature on missing disagreed samples\n",
    "def create_num_bathroom_diff(data, raw_data):\n",
    "    data_out = data.copy()\n",
    "    data_out['num_bathroom_diff'] = np.logical_xor(raw_data[orig_name_zillow].isnull(), raw_data[orig_name_assessor].isnull())\n",
    "    z.convert_cat_col_single(data_out, 'num_bathroom_diff')\n",
    "    return data_out\n",
    "    \n",
    "train_x_local = create_num_bathroom_diff(train_x, train_data)\n",
    "gbm = z.train_lgb(train_x_local, train_y)\n",
    "z.feature_importance_rank(gbm, 'num_bathroom_diff')"
   ]
  },
  {
   "cell_type": "code",
   "execution_count": 71,
   "metadata": {},
   "outputs": [
    {
     "data": {
      "image/png": "[encoded data removed]",
      "text/plain": [
       "<matplotlib.figure.Figure at 0x66a35588>"
      ]
     },
     "metadata": {},
     "output_type": "display_data"
    }
   ],
   "source": [
    "visual_analysis_num_as_cat(train_x_local['num_bathroom_diff'], train_data['logerror'], train_data['abs_logerror'], 'num_bathroom_diff', 'num_bathroom_diff')"
   ]
  },
  {
   "cell_type": "markdown",
   "metadata": {},
   "source": [
    "It contains good information for abs_error but not for original error. And size of diff samples is too small. "
   ]
  },
  {
   "cell_type": "markdown",
   "metadata": {},
   "source": [
    "#### area_living\n",
    "\n",
    "diff between area_living_finished_calc and area_living_type_12."
   ]
  },
  {
   "cell_type": "code",
   "execution_count": 66,
   "metadata": {},
   "outputs": [
    {
     "name": "stdout",
     "output_type": "stream",
     "text": [
      "max_diff: 0.00\n",
      "min_diff: 0.00\n",
      "n_features total: 35\n",
      "area_living_diff: rank split = 34, rank gain = 34, avg_rank = 34.0\n"
     ]
    }
   ],
   "source": [
    "reload(z)\n",
    "orig_name_finished = nmap_new_to_orig['area_living_finished_calc']\n",
    "orig_name_type12 = nmap_new_to_orig['area_living_type_12']\n",
    "diff_col = train_data[orig_name_finished] - train_data[orig_name_type12]\n",
    "print('max_diff: %.2f' % np.nanmax(diff_col.values))\n",
    "print('min_diff: %.2f' % np.nanmin(diff_col.values))\n",
    "# no difference on value recorded samples\n",
    "\n",
    "# create feature on missing disagreed samples\n",
    "def create_living_area_diff(data, raw_data):\n",
    "    data_out = data.copy()\n",
    "    data_out['area_living_diff'] = np.logical_xor(raw_data[orig_name_finished].isnull(), raw_data[orig_name_type12].isnull())\n",
    "    z.convert_cat_col_single(data_out, 'area_living_diff')\n",
    "    return data_out\n",
    "    \n",
    "train_x_local = create_living_area_diff(train_x, train_data)\n",
    "gbm = z.train_lgb(train_x_local, train_y)\n",
    "z.feature_importance_rank(gbm, 'area_living_diff')"
   ]
  },
  {
   "cell_type": "code",
   "execution_count": 67,
   "metadata": {},
   "outputs": [
    {
     "data": {
      "image/png": "[encoded data removed]",
      "text/plain": [
       "<matplotlib.figure.Figure at 0x66c796d8>"
      ]
     },
     "metadata": {},
     "output_type": "display_data"
    }
   ],
   "source": [
    "visual_analysis_num_as_cat(train_x_local['area_living_diff'], train_data['logerror'], train_data['abs_logerror'], 'area_living_diff', 'area_living_diff')"
   ]
  },
  {
   "cell_type": "markdown",
   "metadata": {},
   "source": [
    "It contains good information for abs_error but not for original error."
   ]
  },
  {
   "cell_type": "markdown",
   "metadata": {},
   "source": [
    "#### area_firstfloor\n",
    "\n",
    "area_firstfloor_zillow and area_firstfloor_assessor, they are uplifted class 4 features."
   ]
  },
  {
   "cell_type": "code",
   "execution_count": 76,
   "metadata": {},
   "outputs": [
    {
     "name": "stdout",
     "output_type": "stream",
     "text": [
      "max_diff: 0.00\n",
      "min_diff: 0.00\n",
      "n diff on missing: 0\n"
     ]
    }
   ],
   "source": [
    "reload(z)\n",
    "orig_name_zillow = nmap_new_to_orig['area_firstfloor_zillow']\n",
    "orig_name_assessor = nmap_new_to_orig['area_firstfloor_assessor']\n",
    "diff_col = train_data[orig_name_finished] - train_data[orig_name_type12]\n",
    "print('max_diff: %.2f' % np.nanmax(diff_col.values))\n",
    "print('min_diff: %.2f' % np.nanmin(diff_col.values))\n",
    "# no difference on value recorded samples\n",
    "\n",
    "print('n diff on missing: %d' % np.sum(np.logical_xor(train_data[orig_name_zillow].isnull(), train_data[orig_name_assessor].isnull())))"
   ]
  },
  {
   "cell_type": "markdown",
   "metadata": {},
   "source": [
    "Interesting, they are exactly the same. From above analysis, zillow and assessor disgreeded values gives little information in prediction error value, but may help with error size."
   ]
  },
  {
   "cell_type": "markdown",
   "metadata": {},
   "source": [
    "#### tax value variables\n",
    "\n",
    "We have dollar_taxvalue_structure, dollar_taxvalue_total, dollar_taxvalue_land, difference bewteen any two may contain information."
   ]
  },
  {
   "cell_type": "code",
   "execution_count": 86,
   "metadata": {},
   "outputs": [
    {
     "name": "stdout",
     "output_type": "stream",
     "text": [
      "max_diff: 0.00\n",
      "min_diff: 0.00\n"
     ]
    }
   ],
   "source": [
    "col = train_data[nmap_new_to_orig['dollar_taxvalue_structure']] + \\\n",
    "      train_data[nmap_new_to_orig['dollar_taxvalue_land']] - \\\n",
    "      train_data[nmap_new_to_orig['dollar_taxvalue_total']]\n",
    "print('max_diff: %.2f' % np.nanmax(col.values))\n",
    "print('min_diff: %.2f' % np.nanmin(col.values))"
   ]
  },
  {
   "cell_type": "markdown",
   "metadata": {},
   "source": [
    "First observe, we have relationship as total = land + structure.\n",
    "So it only makes sense to test:\n",
    "- structure - land\n",
    "- abs(structure - land)"
   ]
  },
  {
   "cell_type": "code",
   "execution_count": 96,
   "metadata": {},
   "outputs": [
    {
     "name": "stdout",
     "output_type": "stream",
     "text": [
      "n_features total: 36\n",
      "dollar_taxvalue_structure_land_diff: rank split = 12, rank gain = 12, avg_rank = 12.0\n",
      "n_features total: 36\n",
      "dollar_taxvalue_structure_land_absdiff: rank split = 9, rank gain = 11, avg_rank = 10.0\n"
     ]
    },
    {
     "data": {
      "text/plain": [
       "0.067156491217731623"
      ]
     },
     "execution_count": 96,
     "metadata": {},
     "output_type": "execute_result"
    }
   ],
   "source": [
    "reload(z)\n",
    "orig_name_structrue = nmap_new_to_orig['dollar_taxvalue_structure']\n",
    "orig_name_land = nmap_new_to_orig['dollar_taxvalue_land']\n",
    "\n",
    "def create_taxvalue_diff(data, raw_data):\n",
    "    data_out = data.copy()\n",
    "    data_out['dollar_taxvalue_structure_land_diff'] = raw_data[orig_name_structrue] - raw_data[orig_name_land]\n",
    "    data_out['dollar_taxvalue_structure_land_absdiff'] = np.abs(raw_data[orig_name_structrue] - raw_data[orig_name_land])\n",
    "    return data_out\n",
    "\n",
    "train_x_local = create_taxvalue_diff(train_x, train_data)\n",
    "gbm = z.train_lgb(train_x_local, train_y)\n",
    "z.feature_importance_rank(gbm, 'dollar_taxvalue_structure_land_diff')\n",
    "z.feature_importance_rank(gbm, 'dollar_taxvalue_structure_land_absdiff')\n",
    "z.cv_lgb_final(train_x_local, train_y)\n",
    "print('cv MAE: %.6f' % z.cv_lgb_final(train_x_local, train_y))"
   ]
  },
  {
   "cell_type": "markdown",
   "metadata": {},
   "source": [
    "Ranking looks good, but cv actually gets worse, which means, the rich info in the new variable tends to overfit, let's hold it for the moment."
   ]
  },
  {
   "cell_type": "markdown",
   "metadata": {},
   "source": [
    "Try ratio between variables, proves to be a good contributing feature."
   ]
  },
  {
   "cell_type": "code",
   "execution_count": 145,
   "metadata": {},
   "outputs": [
    {
     "name": "stdout",
     "output_type": "stream",
     "text": [
      "n_features total: 39\n",
      "dollar_taxvalue_structure_total_ratio: rank split = 11, rank gain = 11, avg_rank = 11.0\n",
      "n_features total: 39\n",
      "dollar_taxvalue_structure_land_ratio: rank split = 22, rank gain = 22, avg_rank = 22.0\n",
      "n_features total: 39\n",
      "dollar_taxvalue_total_structure_ratio: rank split = 12, rank gain = 12, avg_rank = 12.0\n",
      "n_features total: 39\n",
      "dollar_taxvalue_land_structure_ratio: rank split = 24, rank gain = 24, avg_rank = 24.0\n",
      "cv MAE: 0.067134\n"
     ]
    }
   ],
   "source": [
    "reload(z)\n",
    "orig_name_structrue = nmap_new_to_orig['dollar_taxvalue_structure']\n",
    "orig_name_land = nmap_new_to_orig['dollar_taxvalue_land']\n",
    "orig_name_total = nmap_new_to_orig['dollar_taxvalue_total']\n",
    "\n",
    "def create_taxvalue_diff(data, raw_data):\n",
    "    data_out = data.copy()\n",
    "    data_out['dollar_taxvalue_structure_total_ratio'] = raw_data[orig_name_structrue] / raw_data[orig_name_total]\n",
    "    data_out['dollar_taxvalue_structure_land_ratio'] = raw_data[orig_name_structrue] / raw_data[orig_name_land]\n",
    "    data_out['dollar_taxvalue_total_structure_ratio'] = raw_data[orig_name_total] / raw_data[orig_name_structrue]\n",
    "    data_out['dollar_taxvalue_total_land_ratio'] = raw_data[orig_name_total] / raw_data[orig_name_land]\n",
    "    data_out['dollar_taxvalue_land_structure_ratio'] = raw_data[orig_name_land] / raw_data[orig_name_structrue] \n",
    "    return data_out\n",
    "\n",
    "train_x_local = create_taxvalue_diff(train_x, train_data)\n",
    "gbm = z.train_lgb(train_x_local, train_y)\n",
    "z.feature_importance_rank(gbm, 'dollar_taxvalue_structure_total_ratio')\n",
    "z.feature_importance_rank(gbm, 'dollar_taxvalue_structure_land_ratio')\n",
    "z.feature_importance_rank(gbm, 'dollar_taxvalue_total_structure_ratio')\n",
    "z.feature_importance_rank(gbm, 'dollar_taxvalue_land_structure_ratio')\n",
    "z.feature_importance_rank(gbm, 'dollar_taxvalue_total_land_ratio')\n",
    "z.cv_lgb_final(train_x_local, train_y)\n",
    "print('cv MAE: %.6f' % z.cv_lgb_final(train_x_local, train_y))"
   ]
  },
  {
   "cell_type": "markdown",
   "metadata": {},
   "source": [
    "### make use of class 3 variables\n",
    "\n",
    "They are directly usable by LightGBM, but number of classes being too high makes it inefficient to run. Let's first walk them one by one to see how each one of them helps."
   ]
  },
  {
   "cell_type": "markdown",
   "metadata": {},
   "source": [
    "#### code_county_landuse\n",
    "\n",
    "number of categories: 78."
   ]
  },
  {
   "cell_type": "code",
   "execution_count": 116,
   "metadata": {},
   "outputs": [
    {
     "name": "stdout",
     "output_type": "stream",
     "text": [
      "n_features total: 35\n",
      "code_county_landuse_orig: rank split = 13, rank gain = 14, avg_rank = 13.5\n"
     ]
    }
   ],
   "source": [
    "train_x_local = train_x.copy()\n",
    "train_x_local['code_county_landuse_orig'] = train_data['propertycountylandusecode']\n",
    "z.convert_cat_col_single(train_x_local, 'code_county_landuse_orig')\n",
    "gbm = z.train_lgb(train_x_local, train_y)\n",
    "z.feature_importance_rank(gbm, 'code_county_landuse_orig')"
   ]
  },
  {
   "cell_type": "markdown",
   "metadata": {},
   "source": [
    "#### str_zoning_desc\n",
    "number of categories: 1997"
   ]
  },
  {
   "cell_type": "code",
   "execution_count": 117,
   "metadata": {},
   "outputs": [
    {
     "name": "stdout",
     "output_type": "stream",
     "text": [
      "n_features total: 35\n",
      "str_zoning_desc_orig: rank split = 13, rank gain = 14, avg_rank = 13.5\n"
     ]
    }
   ],
   "source": [
    "train_x_local = train_x.copy()\n",
    "train_x_local['str_zoning_desc_orig'] = train_data['propertyzoningdesc']\n",
    "z.convert_cat_col_single(train_x_local, 'str_zoning_desc_orig')\n",
    "gbm = z.train_lgb(train_x_local, train_y)\n",
    "z.feature_importance_rank(gbm, 'str_zoning_desc_orig')"
   ]
  },
  {
   "cell_type": "markdown",
   "metadata": {},
   "source": [
    "#### code_city\n",
    "number of categories: 178"
   ]
  },
  {
   "cell_type": "code",
   "execution_count": 121,
   "metadata": {},
   "outputs": [
    {
     "name": "stdout",
     "output_type": "stream",
     "text": [
      "n_features total: 35\n",
      "code_city_orig: rank split = 11, rank gain = 11, avg_rank = 11.0\n"
     ]
    }
   ],
   "source": [
    "train_x_local = train_x.copy()\n",
    "train_x_local['code_city_orig'] = train_data['regionidcity']\n",
    "z.convert_cat_col_single(train_x_local, 'code_city_orig')\n",
    "gbm = z.train_lgb(train_x_local, train_y)\n",
    "z.feature_importance_rank(gbm, 'code_city_orig')"
   ]
  },
  {
   "cell_type": "markdown",
   "metadata": {},
   "source": [
    "#### code_neighborhood\n",
    "number of categories: 495"
   ]
  },
  {
   "cell_type": "code",
   "execution_count": 122,
   "metadata": {},
   "outputs": [
    {
     "name": "stdout",
     "output_type": "stream",
     "text": [
      "n_features total: 35\n",
      "code_neighborhood_orig: rank split = 13, rank gain = 13, avg_rank = 13.0\n"
     ]
    }
   ],
   "source": [
    "train_x_local = train_x.copy()\n",
    "train_x_local['code_neighborhood_orig'] = train_data['regionidneighborhood']\n",
    "z.convert_cat_col_single(train_x_local, 'code_neighborhood_orig')\n",
    "gbm = z.train_lgb(train_x_local, train_y)\n",
    "z.feature_importance_rank(gbm, 'code_neighborhood_orig')"
   ]
  },
  {
   "cell_type": "markdown",
   "metadata": {},
   "source": [
    "#### code_zip\n",
    "\n",
    "number of categories: 389"
   ]
  },
  {
   "cell_type": "code",
   "execution_count": 123,
   "metadata": {},
   "outputs": [
    {
     "name": "stdout",
     "output_type": "stream",
     "text": [
      "n_features total: 35\n",
      "code_zip_orig: rank split = 14, rank gain = 19, avg_rank = 16.5\n"
     ]
    }
   ],
   "source": [
    "train_x_local = train_x.copy()\n",
    "train_x_local['code_zip_orig'] = train_data['regionidzip']\n",
    "z.convert_cat_col_single(train_x_local, 'code_zip_orig')\n",
    "gbm = z.train_lgb(train_x_local, train_y)\n",
    "z.feature_importance_rank(gbm, 'code_zip_orig')"
   ]
  },
  {
   "cell_type": "markdown",
   "metadata": {},
   "source": [
    "#### raw_census\n",
    "number of categories: 3002"
   ]
  },
  {
   "cell_type": "code",
   "execution_count": 124,
   "metadata": {},
   "outputs": [
    {
     "name": "stdout",
     "output_type": "stream",
     "text": [
      "n_features total: 35\n",
      "raw_census_orig: rank split = 35, rank gain = 35, avg_rank = 35.0\n"
     ]
    }
   ],
   "source": [
    "train_x_local = train_x.copy()\n",
    "train_x_local['raw_census_orig'] = train_data['raw_census']\n",
    "z.convert_cat_col_single(train_x_local, 'raw_census_orig')\n",
    "gbm = z.train_lgb(train_x_local, train_y)\n",
    "z.feature_importance_rank(gbm, 'raw_census_orig')"
   ]
  },
  {
   "cell_type": "markdown",
   "metadata": {},
   "source": [
    "#### raw_block\n",
    "number of categories: 686"
   ]
  },
  {
   "cell_type": "code",
   "execution_count": 125,
   "metadata": {},
   "outputs": [
    {
     "name": "stdout",
     "output_type": "stream",
     "text": [
      "n_features total: 35\n",
      "raw_block_orig: rank split = 11, rank gain = 14, avg_rank = 12.5\n"
     ]
    }
   ],
   "source": [
    "train_x_local = train_x.copy()\n",
    "train_x_local['raw_block_orig'] = train_data['raw_block']\n",
    "z.convert_cat_col_single(train_x_local, 'raw_block_orig')\n",
    "gbm = z.train_lgb(train_x_local, train_y)\n",
    "z.feature_importance_rank(gbm, 'raw_block_orig')"
   ]
  },
  {
   "cell_type": "markdown",
   "metadata": {},
   "source": [
    "#### census\n",
    "number of categories: 2997"
   ]
  },
  {
   "cell_type": "code",
   "execution_count": 126,
   "metadata": {},
   "outputs": [
    {
     "name": "stdout",
     "output_type": "stream",
     "text": [
      "n_features total: 35\n",
      "census_orig: rank split = 34, rank gain = 32, avg_rank = 33.0\n"
     ]
    }
   ],
   "source": [
    "train_x_local = train_x.copy()\n",
    "train_x_local['census_orig'] = train_data['census']\n",
    "z.convert_cat_col_single(train_x_local, 'census_orig')\n",
    "gbm = z.train_lgb(train_x_local, train_y)\n",
    "z.feature_importance_rank(gbm, 'census_orig')"
   ]
  },
  {
   "cell_type": "markdown",
   "metadata": {},
   "source": [
    "#### block\n",
    "\n",
    "number of categories: 695"
   ]
  },
  {
   "cell_type": "code",
   "execution_count": 127,
   "metadata": {},
   "outputs": [
    {
     "name": "stdout",
     "output_type": "stream",
     "text": [
      "n_features total: 35\n",
      "block_orig: rank split = 11, rank gain = 14, avg_rank = 12.5\n"
     ]
    }
   ],
   "source": [
    "train_x_local = train_x.copy()\n",
    "train_x_local['block_orig'] = train_data['block']\n",
    "z.convert_cat_col_single(train_x_local, 'block_orig')\n",
    "gbm = z.train_lgb(train_x_local, train_y)\n",
    "z.feature_importance_rank(gbm, 'block_orig')"
   ]
  },
  {
   "cell_type": "markdown",
   "metadata": {},
   "source": [
    "Except for the census and census_raw, all are well qualified to be used for prediction."
   ]
  },
  {
   "cell_type": "markdown",
   "metadata": {},
   "source": [
    "### Summarize for feature engineering\n",
    "\n",
    "- num_fullbath: grouping > 6 values and fill with num_bathroom when applicable (replace original one)\n",
    "- dollar_taxvalue variables:\n",
    "    - structure - land\n",
    "    - abs(structure - land)\n",
    "    - structure / total\n",
    "    - structure / land\n",
    "    - total / structure\n",
    "    - land / structure\n",
    "    - total / land\n",
    "- class 3 variables:\n",
    "    - code_county_landuse\n",
    "    - str_zoning_desc\n",
    "    - code_city\n",
    "    - code_neighborhood\n",
    "    - code_zip\n",
    "    - raw_block\n",
    "    - block"
   ]
  },
  {
   "cell_type": "markdown",
   "metadata": {},
   "source": [
    "## Effect of removing outliers\n",
    "\n",
    "To verify the effect of outlier removal, we still just use naive LGB as benchmark model. NOTE, to perform cv on outlier removal effect, cannot first remove all outliers before entering cv, the correct way to do it should be, \n",
    "- enter cv with full data.\n",
    "- select train_set and validation_set.\n",
    "- remove outlier from train_set and train(be careful to create a copy for outlier removal, not on view.)\n",
    "- compute MAE on test set."
   ]
  },
  {
   "cell_type": "markdown",
   "metadata": {},
   "source": [
    "### Outlier on x side. \n",
    "If to remove outliers, we only remove those rows for training. Testing data is left untouched.\n",
    "- For categorical variables, we observe there are groups that contain very little samples, remove those groups.\n",
    "- For numerical variables, might remove one-sided 1% or two-sided 1% samples. Whether to remove or remove by what type should be on case-by-case.\n",
    "\n",
    "Will also test the effect of setting those values to nan. For nan setting it is a bit subtle. As we need to perform the same treatment on testing set. in this case, I will determine the 1% threshold from testing dateset and apply the value for both testing and training data, instead of picking 1% separately again for training. "
   ]
  },
  {
   "cell_type": "markdown",
   "metadata": {},
   "source": [
    "### Outlier on y side.\n",
    "This case is much simpler, just train with extreme y values removed."
   ]
  },
  {
   "cell_type": "code",
   "execution_count": null,
   "metadata": {
    "collapsed": true
   },
   "outputs": [],
   "source": []
  }
 ],
 "metadata": {
  "kernelspec": {
   "display_name": "Python [conda root]",
   "language": "python",
   "name": "conda-root-py"
  },
  "language_info": {
   "codemirror_mode": {
    "name": "ipython",
    "version": 3
   },
   "file_extension": ".py",
   "mimetype": "text/x-python",
   "name": "python",
   "nbconvert_exporter": "python",
   "pygments_lexer": "ipython3",
   "version": "3.5.3"
  }
 },
 "nbformat": 4,
 "nbformat_minor": 1
}
