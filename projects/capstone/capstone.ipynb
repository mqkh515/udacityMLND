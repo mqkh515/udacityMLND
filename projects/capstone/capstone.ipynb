{
 "cells": [
  {
   "cell_type": "markdown",
   "metadata": {},
   "source": [
    "# Machine Learning Engineer Nanodegree\n",
    "## Capstone"
   ]
  },
  {
   "cell_type": "markdown",
   "metadata": {},
   "source": [
    "----\n",
    "## Exploring the Data"
   ]
  },
  {
   "cell_type": "markdown",
   "metadata": {},
   "source": [
    "### Data Loading"
   ]
  },
  {
   "cell_type": "code",
   "execution_count": 1,
   "metadata": {
    "collapsed": true
   },
   "outputs": [],
   "source": [
    "# Import libraries necessary for this project\n",
    "import numpy as np\n",
    "import pandas as pd\n",
    "import gc\n",
    "from time import time\n",
    "from IPython.display import display # Allows the use of display() for DataFrames\n",
    "\n",
    "# Pretty display for notebooks\n",
    "%matplotlib inline"
   ]
  },
  {
   "cell_type": "code",
   "execution_count": 2,
   "metadata": {},
   "outputs": [
    {
     "name": "stderr",
     "output_type": "stream",
     "text": [
      "F:\\Program Files\\Anaconda3\\lib\\site-packages\\IPython\\core\\interactiveshell.py:2717: DtypeWarning: Columns (22,32,34,49,55) have mixed types. Specify dtype option on import or set low_memory=False.\n",
      "  interactivity=interactivity, compiler=compiler, result=result)\n"
     ]
    }
   ],
   "source": [
    "# Load the Census dataset\n",
    "prop_data = pd.read_csv('data/properties_2016.csv', header=0)\n",
    "error_data = pd.read_csv('data/train_2016_v2.csv', header=0)"
   ]
  },
  {
   "cell_type": "code",
   "execution_count": 3,
   "metadata": {
    "collapsed": true
   },
   "outputs": [],
   "source": [
    "# get error data transaction date to month\n",
    "error_data['sale_month'] = error_data['transactiondate'].apply(lambda x: x.split('-')[1])  \n",
    "# merge to train data set\n",
    "train_data = error_data.merge(prop_data, on='parcelid', how='left')\n",
    "train_data.to_csv('data/train_data_merged.csv', index=False)"
   ]
  },
  {
   "cell_type": "code",
   "execution_count": 4,
   "metadata": {},
   "outputs": [],
   "source": [
    "train_data = pd.read_csv('data/train_data_merged.csv', header=0)"
   ]
  },
  {
   "cell_type": "code",
   "execution_count": 5,
   "metadata": {},
   "outputs": [
    {
     "name": "stdout",
     "output_type": "stream",
     "text": [
      "total_data shape: (2985217, 58)\n",
      "train_data shape: (90275, 61)\n"
     ]
    }
   ],
   "source": [
    "n_total = prop_data.shape[0]\n",
    "n_train = train_data.shape[0]\n",
    "print('total_data shape: ' + str(prop_data.shape))\n",
    "print('train_data shape: ' + str(train_data.shape))"
   ]
  },
  {
   "cell_type": "markdown",
   "metadata": {},
   "source": [
    "### Examine Features one by one"
   ]
  },
  {
   "cell_type": "code",
   "execution_count": 6,
   "metadata": {},
   "outputs": [],
   "source": [
    "def cat_num_to_str(col_name):\n",
    "    \"\"\"for numeric-like categorical varible, transform to string, keep nan\"\"\"\n",
    "    if not prop_data[col_name].dtype == 'O':\n",
    "        prop_data[col_name] = prop_data[col_name].apply(lambda x: str(int(x)) if not np.isnan(x) else np.nan)\n",
    "    if not train_data[col_name].dtype == 'O':\n",
    "        train_data[col_name] = train_data[col_name].apply(lambda x: str(int(x)) if not np.isnan(x) else np.nan)\n",
    "\n",
    "        \n",
    "def cat_feature_analysis(col_name):\n",
    "    \"\"\"analysis of categorical feature, comparing number of unique appeared values between train_data and prop_data, with NaN removed.\n",
    "       For those values appear in train but not in prop, need to properly handle for prop in prediction.\"\"\"    \n",
    "    prop_col_no_nan = prop_data[col_name][~prop_data[col_name].isnull()]\n",
    "    train_col_no_nan = train_data[col_name][~train_data[col_name].isnull()]\n",
    "    vals_prop = np.sort(prop_col_no_nan.unique())\n",
    "    vals_train = np.sort(train_col_no_nan.unique())\n",
    "    if len(vals_train) < 15:\n",
    "        print('vals from train_data: %s' % ', '.join([str(v) for v in vals_train]))\n",
    "    val_prop_de_train = set(vals_prop) - set(vals_train)\n",
    "    print('n_vals from train_data: %d' % len(vals_train))\n",
    "    if val_prop_de_train:\n",
    "        if len(val_prop_de_train) < 15:\n",
    "            print('vals in prop not in train: %s' % ', '.join([str(v) for v in sorted(list(val_prop_de_train))]))\n",
    "        print('n_vals in prop not in train: %d' % len(val_prop_de_train))\n",
    "        # summarize ratio of not appeared-in-training value samples in total porpulation\n",
    "        n_sample = np.sum(np.array([i in val_prop_de_train for i in prop_data[col_name]]))\n",
    "        print('ratio sample with val in prop not in train: %4.6f' % (n_sample / float(n_total)))\n",
    "    else:\n",
    "        print('prop and train vals set consistent')\n",
    "    return val_prop_de_train \n",
    "\n",
    "\n",
    "def missing_ratio(col_name):\n",
    "    \"\"\"compare missing rate in prop data and train data. A good feature should have similar ratio in both training and total population.\"\"\"\n",
    "    print('missing ratio prop: %4.4f' % (np.sum(prop_data[col_name].isnull()) / float(n_total)))\n",
    "    print('missing ratio train: %4.4f' % (np.sum(train_data[col_name].isnull()) / float(n_train)))\n",
    "    \n",
    "\n",
    "def visual_analysis_num(col_name):\n",
    "    \"\"\"view relationship to error for numerical variables, summarize for NaN separately\"\"\"\n",
    "    pass\n",
    "\n",
    "\n",
    "def visual_analysis_cat(col_name):\n",
    "    \"\"\"view relationship to error for categorical variables\"\"\"\n",
    "    pass\n",
    "    \n",
    "\n",
    "RENAMING_MAP = {}  # map from old name to new name, for column rename, getting more meaningful names\n",
    "vals_prop_de_train_record = {}  # use new name as key\n",
    "KEEP_FEATURE = set()"
   ]
  },
  {
   "attachments": {},
   "cell_type": "markdown",
   "metadata": {},
   "source": [
    "#### airconditioningtypeid\n",
    "\n",
    "Description: Type of cooling system present in the home (if any). And further description gives\n",
    "\n",
    "| Type ID  | Description  |\n",
    "|----------|---|\n",
    "|1\t     |Central|\n",
    "|2\t     |Chilled Water|\n",
    "|3\t     |Evaporative Cooler|\n",
    "|4\t     |Geo Thermal|\n",
    "|5\t     |None|\n",
    "|6\t     |Other|\n",
    "|7\t     |Packaged AC Unit|\n",
    "|8\t     |Partial|\n",
    "|9\t     |Refrigeration|\n",
    "|10\t     |Ventilation|\n",
    "|11\t     |Wall Unit|\n",
    "|12\t     |Window Unit|\n",
    "|13\t     |Yes|\n",
    "\n",
    "From where we can see it is a categorical variable. And None is already included in description, so NaN is trully missing.\n",
    "\n",
    "Meanwhile, name is too complicated, rename to 'type_air_conditioning'."
   ]
  },
  {
   "cell_type": "code",
   "execution_count": 7,
   "metadata": {},
   "outputs": [
    {
     "name": "stdout",
     "output_type": "stream",
     "text": [
      "data type:float64\n",
      "vals from train_data: 1, 11, 13, 3, 5, 9\n",
      "n_vals from train_data: 6\n",
      "vals in prop not in train: 12\n",
      "n_vals in prop not in train: 1\n",
      "ratio sample with val in prop not in train: 0.000020\n",
      "missing ratio prop: 0.7282\n",
      "missing ratio train: 0.6812\n"
     ]
    }
   ],
   "source": [
    "RENAMING_MAP['airconditioningtypeid'] = 'type_air_conditioning'\n",
    "print('data type:' + str(prop_data['airconditioningtypeid'].dtype))\n",
    "cat_num_to_str('airconditioningtypeid')\n",
    "vals_prop_de_train_record['type_air_conditioning'] = cat_feature_analysis('airconditioningtypeid')\n",
    "missing_ratio('airconditioningtypeid')"
   ]
  },
  {
   "cell_type": "code",
   "execution_count": 8,
   "metadata": {},
   "outputs": [
    {
     "name": "stderr",
     "output_type": "stream",
     "text": [
      "F:\\Program Files\\Anaconda3\\lib\\site-packages\\pandas\\core\\indexing.py:179: SettingWithCopyWarning: \n",
      "A value is trying to be set on a copy of a slice from a DataFrame\n",
      "\n",
      "See the caveats in the documentation: http://pandas.pydata.org/pandas-docs/stable/indexing.html#indexing-view-versus-copy\n",
      "  self._setitem_with_indexer(indexer, value)\n"
     ]
    }
   ],
   "source": [
    "# setting 12 in prop data to nan\n",
    "prop_data['airconditioningtypeid'].loc[prop_data['airconditioningtypeid'].index[prop_data['airconditioningtypeid'] == '12']] = np.nan\n",
    "# it gives me a warning, let's make sure it is indeed succussfully get value set\n",
    "np.sum(prop_data['airconditioningtypeid'] == '12')\n",
    "# missing ratio looks high. keep it for the moment\n",
    "KEEP_FEATURE.add('airconditioningtypeid')"
   ]
  },
  {
   "attachments": {},
   "cell_type": "markdown",
   "metadata": {},
   "source": [
    "#### architecturalstyletypeid\n",
    "\n",
    "Description:  Architectural style of the home (i.e. ranch, colonial, split-level, etc…). And further description gives\n",
    "\n",
    "| Type ID  | Description  |\n",
    "|----------|---|\n",
    "|1\t| A-Frame |\n",
    "|2\t| Bungalow |\n",
    "|3\t| Cape Cod |\n",
    "|4\t| Cottage |\n",
    "|5\t| Colonial |\n",
    "|6\t| Custom |\n",
    "|7\t| Contemporary |\n",
    "|8\t| Conventional |\n",
    "|9\t| Dome |\n",
    "|10\t| French Provincial |\n",
    "|11\t| Georgian |\n",
    "|12\t| High Rise |\n",
    "|13\t| Historical |\n",
    "|14\t| Log Cabin/Rustic |\n",
    "|15\t| Mediterranean |\n",
    "|16\t| Modern |\n",
    "|17\t| Mansion |\n",
    "|18\t| English |\n",
    "|19\t| Other |\n",
    "|20\t| Prefab |\n",
    "|21\t| Ranch/Rambler |\n",
    "|22\t| Raised Ranch |\n",
    "|23\t| Spanish |\n",
    "|24\t| Traditional |\n",
    "|25\t| Tudor |\n",
    "|26\t| Unfinished/Under Construction |\n",
    "|27\t| Victorian |\n",
    "\n",
    "It is also a categorical variable. And since is a style, so NaN is trully missing.\n",
    "\n",
    "Meanwhile, rename to 'type_architectural_style'."
   ]
  },
  {
   "cell_type": "code",
   "execution_count": 9,
   "metadata": {},
   "outputs": [
    {
     "name": "stdout",
     "output_type": "stream",
     "text": [
      "data type:float64\n",
      "vals from train_data: 10, 2, 21, 3, 7, 8\n",
      "n_vals from train_data: 6\n",
      "vals in prop not in train: 27, 5\n",
      "n_vals in prop not in train: 2\n",
      "ratio sample with val in prop not in train: 0.000007\n",
      "missing ratio prop: 0.9980\n",
      "missing ratio train: 0.9971\n"
     ]
    }
   ],
   "source": [
    "RENAMING_MAP['architecturalstyletypeid'] = 'type_architectural_style'\n",
    "print('data type:' + str(prop_data['architecturalstyletypeid'].dtype))\n",
    "cat_num_to_str('architecturalstyletypeid')\n",
    "vals_prop_de_train_record['type_architectural_style'] = cat_feature_analysis('architecturalstyletypeid')\n",
    "missing_ratio('architecturalstyletypeid')"
   ]
  },
  {
   "cell_type": "markdown",
   "metadata": {},
   "source": [
    "missing rate is too high, drop the feature"
   ]
  },
  {
   "cell_type": "markdown",
   "metadata": {},
   "source": [
    "#### basementsqft\n",
    "\n",
    "Description:  Finished living area below or partially below ground level. So it is a numerical value. Rename it to 'area_base_finished'."
   ]
  },
  {
   "cell_type": "code",
   "execution_count": 10,
   "metadata": {},
   "outputs": [
    {
     "name": "stdout",
     "output_type": "stream",
     "text": [
      "missing ratio prop: 0.9995\n",
      "missing ratio train: 0.9995\n"
     ]
    }
   ],
   "source": [
    "RENAMING_MAP['basementsqft'] = 'area_base_finished'\n",
    "missing_ratio('basementsqft')"
   ]
  },
  {
   "cell_type": "markdown",
   "metadata": {},
   "source": [
    "missing rate is too high, drop the feature"
   ]
  },
  {
   "cell_type": "markdown",
   "metadata": {},
   "source": [
    "#### bathroomcnt\n",
    "\n",
    "Description: Number of bathrooms in home including fractional bathrooms. It includes fraction, so clearly numerical. Also, since explained in FAQ, there two versions of bath room count, one from assessor and one from Zillow internally, rename to 'num_bathroom_assessor'."
   ]
  },
  {
   "cell_type": "code",
   "execution_count": 11,
   "metadata": {},
   "outputs": [
    {
     "name": "stdout",
     "output_type": "stream",
     "text": [
      "missing ratio prop: 0.0038\n",
      "missing ratio train: 0.0000\n"
     ]
    }
   ],
   "source": [
    "RENAMING_MAP['bathroomcnt'] = 'num_bathroom_assessor'\n",
    "missing_ratio('bathroomcnt')"
   ]
  },
  {
   "cell_type": "code",
   "execution_count": 12,
   "metadata": {},
   "outputs": [],
   "source": [
    "# very high quality feature. Let's further examine its relationship to errors.\n",
    "visual_analysis_num('bathroomcnt')\n",
    "KEEP_FEATURE.add('bathroomcnt')"
   ]
  },
  {
   "cell_type": "markdown",
   "metadata": {},
   "source": [
    "#### calculatedbathnbr\n",
    "\n",
    "Description: Number of bathrooms in home including fractional bathroom. Same as feature above but evaluated by Zillow internally, rename to 'num_bathroom_zillow'."
   ]
  },
  {
   "cell_type": "code",
   "execution_count": 13,
   "metadata": {},
   "outputs": [
    {
     "name": "stdout",
     "output_type": "stream",
     "text": [
      "missing ratio prop: 0.0432\n",
      "missing ratio train: 0.0131\n"
     ]
    }
   ],
   "source": [
    "RENAMING_MAP['calculatedbathnbr'] = 'num_bathroom_zillow'\n",
    "missing_ratio('calculatedbathnbr')"
   ]
  },
  {
   "cell_type": "code",
   "execution_count": 14,
   "metadata": {},
   "outputs": [],
   "source": [
    "# also very high quality. Let's further examine its relationship to errors, as expected, pattern is similar to that of assessor version.\n",
    "visual_analysis_num('calculatedbathnbr')\n",
    "KEEP_FEATURE.add('calculatedbathnbr')"
   ]
  },
  {
   "cell_type": "markdown",
   "metadata": {},
   "source": [
    "#### bedroomcnt\n",
    "\n",
    "Description:  Number of bedrooms in home. Very intuitive, rename to 'num_bedroom'."
   ]
  },
  {
   "cell_type": "code",
   "execution_count": 15,
   "metadata": {},
   "outputs": [
    {
     "name": "stdout",
     "output_type": "stream",
     "text": [
      "missing ratio prop: 0.0038\n",
      "missing ratio train: 0.0000\n"
     ]
    }
   ],
   "source": [
    "RENAMING_MAP['bedroomcnt'] = 'num_bedroom'\n",
    "missing_ratio('bedroomcnt')"
   ]
  },
  {
   "cell_type": "code",
   "execution_count": 16,
   "metadata": {
    "collapsed": true
   },
   "outputs": [],
   "source": [
    "# low missing rate, do visual analysis.\n",
    "visual_analysis_num('bathroomcnt')\n",
    "KEEP_FEATURE.add('bedroomcnt')"
   ]
  },
  {
   "attachments": {},
   "cell_type": "markdown",
   "metadata": {},
   "source": [
    "#### buildingclasstypeid\n",
    "\n",
    "Description: The building framing type (steel frame, wood frame, concrete/brick). Detailed description too long, put is as bullets.\n",
    "\n",
    "- 1: Buildings having fireproofed structural steel frames carrying all wall, floor and roof loads. Wall, floor and roof structures are built of non-combustible materials.\n",
    "- 2: Buildings having fireproofed reinforced concrete frames carrying all wall floor and roof loads which are all non-combustible.\n",
    "- 3: Buildings having exterior walls built of a non-combustible material such as brick, concrete, block or poured concrete. Interior partitions and roof structures are built of combustible materials. Floor may be concrete or wood frame.\n",
    "- 4: Buildings having wood or wood and steel frames\n",
    "- 5: Specialized buildings that do not fit in any of the above categories\n",
    "\n",
    "Categorical, NaN should be real missing, rename to 'type_building_framing'"
   ]
  },
  {
   "cell_type": "code",
   "execution_count": 17,
   "metadata": {},
   "outputs": [
    {
     "name": "stdout",
     "output_type": "stream",
     "text": [
      "data type:float64\n",
      "vals from train_data: 4\n",
      "n_vals from train_data: 1\n",
      "vals in prop not in train: 1, 2, 3, 5\n",
      "n_vals in prop not in train: 4\n",
      "ratio sample with val in prop not in train: 0.001127\n",
      "missing ratio prop: 0.9958\n",
      "missing ratio train: 0.9998\n"
     ]
    }
   ],
   "source": [
    "RENAMING_MAP['buildingclasstypeid'] = 'type_building_framing'\n",
    "print('data type:' + str(prop_data['buildingclasstypeid'].dtype))\n",
    "cat_num_to_str('buildingclasstypeid')\n",
    "vals_prop_de_train_record['type_building_framing'] = cat_feature_analysis('buildingclasstypeid')\n",
    "missing_ratio('buildingclasstypeid')"
   ]
  },
  {
   "cell_type": "markdown",
   "metadata": {},
   "source": [
    "missing rate is too high, drop the feature"
   ]
  },
  {
   "cell_type": "markdown",
   "metadata": {},
   "source": [
    "#### buildingqualitytypeid\n",
    "\n",
    "Overall assessment of condition of the building from best (lowest) to worst (highest). Although there is a 'typeid' in the name, it is not really categorical, rank between the values has actual meaning, take it as numerical. Rename to 'rank_building_quality'"
   ]
  },
  {
   "cell_type": "code",
   "execution_count": 18,
   "metadata": {},
   "outputs": [
    {
     "name": "stdout",
     "output_type": "stream",
     "text": [
      "missing ratio prop: 0.3506\n",
      "missing ratio train: 0.3646\n"
     ]
    }
   ],
   "source": [
    "RENAMING_MAP['buildingqualitytypeid'] = 'rank_building_quality'\n",
    "missing_ratio('buildingqualitytypeid')"
   ]
  },
  {
   "cell_type": "code",
   "execution_count": 19,
   "metadata": {
    "collapsed": true
   },
   "outputs": [],
   "source": [
    "# affordable missing rate. Do visual analysis\n",
    "visual_analysis_num('buildingqualitytypeid')\n",
    "KEEP_FEATURE.add('buildingqualitytypeid')"
   ]
  },
  {
   "cell_type": "markdown",
   "metadata": {},
   "source": [
    "#### decktypeid\n",
    "\n",
    "Description: Type of deck (if any) present on parcel. There is no detailed description for it. '(if any)' seems NaN means there is no deck. Rename to 'type_deck'."
   ]
  },
  {
   "cell_type": "code",
   "execution_count": 20,
   "metadata": {},
   "outputs": [
    {
     "name": "stdout",
     "output_type": "stream",
     "text": [
      "data type:float64\n",
      "vals from train_data: 66\n",
      "n_vals from train_data: 1\n",
      "prop and train vals set consistent\n",
      "missing ratio prop: 0.9943\n",
      "missing ratio train: 0.9927\n"
     ]
    }
   ],
   "source": [
    "RENAMING_MAP['decktypeid'] = 'type_deck'\n",
    "print('data type:' + str(prop_data['decktypeid'].dtype))\n",
    "cat_num_to_str('decktypeid')\n",
    "vals_prop_de_train_record['type_deck'] = cat_feature_analysis('decktypeid')\n",
    "missing_ratio('decktypeid')"
   ]
  },
  {
   "cell_type": "markdown",
   "metadata": {},
   "source": [
    "missing rate too high, cannot even use NaN vs. non_NaN as feature."
   ]
  },
  {
   "cell_type": "markdown",
   "metadata": {},
   "source": [
    "#### finishedfloor1squarefeet\n",
    "\n",
    "Description: Size of the finished living area on the first (entry) floor of the home. Again, apparently a numerical feature. And according to FAQ, this is Zillow version, rename to 'area_firstfloor_zillow'."
   ]
  },
  {
   "cell_type": "code",
   "execution_count": 21,
   "metadata": {},
   "outputs": [
    {
     "name": "stdout",
     "output_type": "stream",
     "text": [
      "missing ratio prop: 0.9321\n",
      "missing ratio train: 0.9241\n"
     ]
    }
   ],
   "source": [
    "RENAMING_MAP['finishedfloor1squarefeet'] = 'area_firstfloor_zillow'\n",
    "missing_ratio('finishedfloor1squarefeet')"
   ]
  },
  {
   "cell_type": "markdown",
   "metadata": {},
   "source": [
    "missing rate too high drop the feature."
   ]
  },
  {
   "cell_type": "markdown",
   "metadata": {},
   "source": [
    "### Candidate Feature Engineering thoughts\n",
    "\n",
    "- where Zillow assessment and assessor assessment differ.\n",
    "- rank_building_quality treated as categorical."
   ]
  },
  {
   "cell_type": "markdown",
   "metadata": {},
   "source": [
    "### Candidate missing value imputation thoughts. \n",
    "\n",
    "- buildingqualitytypeid should be related to build year. How about the XOR missing rate.\n",
    "- finishedfloor1squarefeet, check R^2 with other square-feet features."
   ]
  },
  {
   "cell_type": "code",
   "execution_count": null,
   "metadata": {
    "collapsed": true
   },
   "outputs": [],
   "source": [
    "def feature_pair_analysis_num(col_name1, col_name2):\n",
    "    \"\"\"for feature at the same time evaluated by assessor and evaludated by Zillow, it worth viewing if where they diff makes contribution.\n",
    "       Since we try to find pattern in sample, so only care for training data.\"\"\"\n",
    "    # ratio of samples that differ, include NaN def mismatch\n",
    "    # visual_analysis on the diff series.\n",
    "    pass\n",
    "\n",
    "feature_pair_analysis_num('calculatedbathnbr', 'bathroomcnt')"
   ]
  }
 ],
 "metadata": {
  "anaconda-cloud": {},
  "kernelspec": {
   "display_name": "Python [conda root]",
   "language": "python",
   "name": "conda-root-py"
  },
  "language_info": {
   "codemirror_mode": {
    "name": "ipython",
    "version": 3
   },
   "file_extension": ".py",
   "mimetype": "text/x-python",
   "name": "python",
   "nbconvert_exporter": "python",
   "pygments_lexer": "ipython3",
   "version": "3.5.3"
  }
 },
 "nbformat": 4,
 "nbformat_minor": 1
}
