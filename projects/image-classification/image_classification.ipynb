{
 "cells": [
  {
   "cell_type": "markdown",
   "metadata": {
    "collapsed": true
   },
   "source": [
    "# Image Classification\n",
    "In this project, you'll classify images from the [CIFAR-10 dataset](https://www.cs.toronto.edu/~kriz/cifar.html).  The dataset consists of airplanes, dogs, cats, and other objects. You'll preprocess the images, then train a convolutional neural network on all the samples. The images need to be normalized and the labels need to be one-hot encoded.  You'll get to apply what you learned and build a convolutional, max pooling, dropout, and fully connected layers.  At the end, you'll get to see your neural network's predictions on the sample images.\n",
    "## Get the Data\n",
    "Run the following cell to download the [CIFAR-10 dataset for python](https://www.cs.toronto.edu/~kriz/cifar-10-python.tar.gz)."
   ]
  },
  {
   "cell_type": "code",
   "execution_count": 1,
   "metadata": {},
   "outputs": [
    {
     "name": "stdout",
     "output_type": "stream",
     "text": [
      "All files found!\n"
     ]
    }
   ],
   "source": [
    "\"\"\"\n",
    "DON'T MODIFY ANYTHING IN THIS CELL THAT IS BELOW THIS LINE\n",
    "\"\"\"\n",
    "from urllib.request import urlretrieve\n",
    "from os.path import isfile, isdir\n",
    "from tqdm import tqdm\n",
    "import problem_unittests as tests\n",
    "import tarfile\n",
    "\n",
    "cifar10_dataset_folder_path = 'cifar-10-batches-py'\n",
    "\n",
    "class DLProgress(tqdm):\n",
    "    last_block = 0\n",
    "\n",
    "    def hook(self, block_num=1, block_size=1, total_size=None):\n",
    "        self.total = total_size\n",
    "        self.update((block_num - self.last_block) * block_size)\n",
    "        self.last_block = block_num\n",
    "\n",
    "if not isfile('cifar-10-python.tar.gz'):\n",
    "    with DLProgress(unit='B', unit_scale=True, miniters=1, desc='CIFAR-10 Dataset') as pbar:\n",
    "        urlretrieve(\n",
    "            'https://www.cs.toronto.edu/~kriz/cifar-10-python.tar.gz',\n",
    "            'cifar-10-python.tar.gz',\n",
    "            pbar.hook)\n",
    "\n",
    "if not isdir(cifar10_dataset_folder_path):\n",
    "    with tarfile.open('cifar-10-python.tar.gz') as tar:\n",
    "        tar.extractall()\n",
    "        tar.close()\n",
    "\n",
    "\n",
    "tests.test_folder_path(cifar10_dataset_folder_path)"
   ]
  },
  {
   "cell_type": "markdown",
   "metadata": {},
   "source": [
    "## Explore the Data\n",
    "The dataset is broken into batches to prevent your machine from running out of memory.  The CIFAR-10 dataset consists of 5 batches, named `data_batch_1`, `data_batch_2`, etc.. Each batch contains the labels and images that are one of the following:\n",
    "* airplane\n",
    "* automobile\n",
    "* bird\n",
    "* cat\n",
    "* deer\n",
    "* dog\n",
    "* frog\n",
    "* horse\n",
    "* ship\n",
    "* truck\n",
    "\n",
    "Understanding a dataset is part of making predictions on the data.  Play around with the code cell below by changing the `batch_id` and `sample_id`. The `batch_id` is the id for a batch (1-5). The `sample_id` is the id for a image and label pair in the batch.\n",
    "\n",
    "Ask yourself \"What are all possible labels?\", \"What is the range of values for the image data?\", \"Are the labels in order or random?\".  Answers to questions like these will help you preprocess the data and end up with better predictions."
   ]
  },
  {
   "cell_type": "code",
   "execution_count": 2,
   "metadata": {},
   "outputs": [
    {
     "name": "stdout",
     "output_type": "stream",
     "text": [
      "\n",
      "Stats of batch 5:\n",
      "Samples: 10000\n",
      "Label Counts: {0: 1014, 1: 1014, 2: 952, 3: 1016, 4: 997, 5: 1025, 6: 980, 7: 977, 8: 1003, 9: 1022}\n",
      "First 20 Labels: [1, 8, 5, 1, 5, 7, 4, 3, 8, 2, 7, 2, 0, 1, 5, 9, 6, 2, 0, 8]\n",
      "\n",
      "Example of Image 100:\n",
      "Image - Min Value: 5 Max Value: 255\n",
      "Image - Shape: (32, 32, 3)\n",
      "Label - Label Id: 9 Name: truck\n"
     ]
    },
    {
     "data": {
      "image/png": "[encoded data removed]",
      "text/plain": [
       "<matplotlib.figure.Figure at 0x71eb909710>"
      ]
     },
     "metadata": {
      "image/png": {
       "height": 250,
       "width": 253
      }
     },
     "output_type": "display_data"
    }
   ],
   "source": [
    "%matplotlib inline\n",
    "%config InlineBackend.figure_format = 'retina'\n",
    "\n",
    "import helper\n",
    "import numpy as np\n",
    "\n",
    "# Explore the dataset\n",
    "batch_id = 5\n",
    "sample_id = 100\n",
    "helper.display_stats(cifar10_dataset_folder_path, batch_id, sample_id)"
   ]
  },
  {
   "cell_type": "markdown",
   "metadata": {},
   "source": [
    "## Implement Preprocess Functions\n",
    "### Normalize\n",
    "In the cell below, implement the `normalize` function to take in image data, `x`, and return it as a normalized Numpy array. The values should be in the range of 0 to 1, inclusive.  The return object should be the same shape as `x`."
   ]
  },
  {
   "cell_type": "code",
   "execution_count": 3,
   "metadata": {},
   "outputs": [
    {
     "name": "stdout",
     "output_type": "stream",
     "text": [
      "Tests Passed\n"
     ]
    }
   ],
   "source": [
    "def normalize(x):\n",
    "    \"\"\"\n",
    "    Normalize a list of sample image data in the range of 0 to 1\n",
    "    : x: List of image data.  The image shape is (32, 32, 3)\n",
    "    : return: Numpy array of normalize data\n",
    "    \"\"\"\n",
    "    out = x / 255.0\n",
    "    return out\n",
    "\n",
    "\n",
    "\"\"\"\n",
    "DON'T MODIFY ANYTHING IN THIS CELL THAT IS BELOW THIS LINE\n",
    "\"\"\"\n",
    "tests.test_normalize(normalize)"
   ]
  },
  {
   "cell_type": "markdown",
   "metadata": {},
   "source": [
    "### One-hot encode\n",
    "Just like the previous code cell, you'll be implementing a function for preprocessing.  This time, you'll implement the `one_hot_encode` function. The input, `x`, are a list of labels.  Implement the function to return the list of labels as One-Hot encoded Numpy array.  The possible values for labels are 0 to 9. The one-hot encoding function should return the same encoding for each value between each call to `one_hot_encode`.  Make sure to save the map of encodings outside the function.\n",
    "\n",
    "**Hint:**\n",
    "\n",
    "Look into LabelBinarizer in the preprocessing module of sklearn."
   ]
  },
  {
   "cell_type": "code",
   "execution_count": 4,
   "metadata": {},
   "outputs": [
    {
     "name": "stdout",
     "output_type": "stream",
     "text": [
      "Tests Passed\n"
     ]
    }
   ],
   "source": [
    "def one_hot_encode(x):\n",
    "    \"\"\"\n",
    "    One hot encode a list of sample labels. Return a one-hot encoded vector for each label.\n",
    "    : x: List of sample Labels\n",
    "    : return: Numpy array of one-hot encoded labels\n",
    "    \"\"\"\n",
    "    x = np.array(x)\n",
    "    n_samples = x.shape[0]\n",
    "    out = np.zeros((n_samples, 10))\n",
    "    out[np.array(range(n_samples)), x] = 1\n",
    "    return out.astype(int)\n",
    "\n",
    "\n",
    "\"\"\"\n",
    "DON'T MODIFY ANYTHING IN THIS CELL THAT IS BELOW THIS LINE\n",
    "\"\"\"\n",
    "tests.test_one_hot_encode(one_hot_encode)"
   ]
  },
  {
   "cell_type": "markdown",
   "metadata": {},
   "source": [
    "### Randomize Data\n",
    "As you saw from exploring the data above, the order of the samples are randomized.  It doesn't hurt to randomize it again, but you don't need to for this dataset."
   ]
  },
  {
   "cell_type": "markdown",
   "metadata": {},
   "source": [
    "## Preprocess all the data and save it\n",
    "Running the code cell below will preprocess all the CIFAR-10 data and save it to file. The code below also uses 10% of the training data for validation."
   ]
  },
  {
   "cell_type": "code",
   "execution_count": 5,
   "metadata": {
    "collapsed": true
   },
   "outputs": [],
   "source": [
    "\"\"\"\n",
    "DON'T MODIFY ANYTHING IN THIS CELL\n",
    "\"\"\"\n",
    "# Preprocess Training, Validation, and Testing Data\n",
    "helper.preprocess_and_save_data(cifar10_dataset_folder_path, normalize, one_hot_encode)"
   ]
  },
  {
   "cell_type": "markdown",
   "metadata": {},
   "source": [
    "# Check Point\n",
    "This is your first checkpoint.  If you ever decide to come back to this notebook or have to restart the notebook, you can start from here.  The preprocessed data has been saved to disk."
   ]
  },
  {
   "cell_type": "code",
   "execution_count": 1,
   "metadata": {
    "collapsed": true
   },
   "outputs": [],
   "source": [
    "\"\"\"\n",
    "DON'T MODIFY ANYTHING IN THIS CELL\n",
    "\"\"\"\n",
    "import pickle\n",
    "import problem_unittests as tests\n",
    "import helper\n",
    "\n",
    "# Load the Preprocessed Validation data\n",
    "valid_features, valid_labels = pickle.load(open('preprocess_validation.p', mode='rb'))"
   ]
  },
  {
   "cell_type": "markdown",
   "metadata": {},
   "source": [
    "## Build the network\n",
    "For the neural network, you'll build each layer into a function.  Most of the code you've seen has been outside of functions. To test your code more thoroughly, we require that you put each layer in a function.  This allows us to give you better feedback and test for simple mistakes using our unittests before you submit your project.\n",
    "\n",
    ">**Note:** If you're finding it hard to dedicate enough time for this course each week, we've provided a small shortcut to this part of the project. In the next couple of problems, you'll have the option to use classes from the [TensorFlow Layers](https://www.tensorflow.org/api_docs/python/tf/layers) or [TensorFlow Layers (contrib)](https://www.tensorflow.org/api_guides/python/contrib.layers) packages to build each layer, except the layers you build in the \"Convolutional and Max Pooling Layer\" section.  TF Layers is similar to Keras's and TFLearn's abstraction to layers, so it's easy to pickup.\n",
    "\n",
    ">However, if you would like to get the most out of this course, try to solve all the problems _without_ using anything from the TF Layers packages. You **can** still use classes from other packages that happen to have the same name as ones you find in TF Layers! For example, instead of using the TF Layers version of the `conv2d` class, [tf.layers.conv2d](https://www.tensorflow.org/api_docs/python/tf/layers/conv2d), you would want to use the TF Neural Network version of `conv2d`, [tf.nn.conv2d](https://www.tensorflow.org/api_docs/python/tf/nn/conv2d). \n",
    "\n",
    "Let's begin!\n",
    "\n",
    "### Input\n",
    "The neural network needs to read the image data, one-hot encoded labels, and dropout keep probability. Implement the following functions\n",
    "* Implement `neural_net_image_input`\n",
    " * Return a [TF Placeholder](https://www.tensorflow.org/api_docs/python/tf/placeholder)\n",
    " * Set the shape using `image_shape` with batch size set to `None`.\n",
    " * Name the TensorFlow placeholder \"x\" using the TensorFlow `name` parameter in the [TF Placeholder](https://www.tensorflow.org/api_docs/python/tf/placeholder).\n",
    "* Implement `neural_net_label_input`\n",
    " * Return a [TF Placeholder](https://www.tensorflow.org/api_docs/python/tf/placeholder)\n",
    " * Set the shape using `n_classes` with batch size set to `None`.\n",
    " * Name the TensorFlow placeholder \"y\" using the TensorFlow `name` parameter in the [TF Placeholder](https://www.tensorflow.org/api_docs/python/tf/placeholder).\n",
    "* Implement `neural_net_keep_prob_input`\n",
    " * Return a [TF Placeholder](https://www.tensorflow.org/api_docs/python/tf/placeholder) for dropout keep probability.\n",
    " * Name the TensorFlow placeholder \"keep_prob\" using the TensorFlow `name` parameter in the [TF Placeholder](https://www.tensorflow.org/api_docs/python/tf/placeholder).\n",
    "\n",
    "These names will be used at the end of the project to load your saved model.\n",
    "\n",
    "Note: `None` for shapes in TensorFlow allow for a dynamic size."
   ]
  },
  {
   "cell_type": "code",
   "execution_count": 2,
   "metadata": {},
   "outputs": [
    {
     "name": "stdout",
     "output_type": "stream",
     "text": [
      "Image Input Tests Passed.\n",
      "Label Input Tests Passed.\n",
      "Keep Prob Tests Passed.\n"
     ]
    }
   ],
   "source": [
    "import tensorflow as tf\n",
    "\n",
    "def neural_net_image_input(image_shape):\n",
    "    \"\"\"\n",
    "    Return a Tensor for a batch of image input\n",
    "    : image_shape: Shape of the images\n",
    "    : return: Tensor for image input.\n",
    "    \"\"\"\n",
    "    # TODO: Implement Function\n",
    "    out = tf.placeholder(tf.float32, [None] + list(image_shape), name='x')\n",
    "    return out\n",
    "\n",
    "\n",
    "def neural_net_label_input(n_classes):\n",
    "    \"\"\"\n",
    "    Return a Tensor for a batch of label input\n",
    "    : n_classes: Number of classes\n",
    "    : return: Tensor for label input.\n",
    "    \"\"\"\n",
    "    # TODO: Implement Function\n",
    "    out = tf.placeholder(tf.float32, [None, n_classes], name='y')\n",
    "    return out\n",
    "\n",
    "\n",
    "def neural_net_keep_prob_input():\n",
    "    \"\"\"\n",
    "    Return a Tensor for keep probability\n",
    "    : return: Tensor for keep probability.\n",
    "    \"\"\"\n",
    "    # TODO: Implement Function\n",
    "    out = tf.placeholder(tf.float32, name='keep_prob')\n",
    "    return out\n",
    "\n",
    "\n",
    "\"\"\"\n",
    "DON'T MODIFY ANYTHING IN THIS CELL THAT IS BELOW THIS LINE\n",
    "\"\"\"\n",
    "tf.reset_default_graph()\n",
    "tests.test_nn_image_inputs(neural_net_image_input)\n",
    "tests.test_nn_label_inputs(neural_net_label_input)\n",
    "tests.test_nn_keep_prob_inputs(neural_net_keep_prob_input)"
   ]
  },
  {
   "cell_type": "markdown",
   "metadata": {},
   "source": [
    "### Convolution and Max Pooling Layer\n",
    "Convolution layers have a lot of success with images. For this code cell, you should implement the function `conv2d_maxpool` to apply convolution then max pooling:\n",
    "* Create the weight and bias using `conv_ksize`, `conv_num_outputs` and the shape of `x_tensor`.\n",
    "* Apply a convolution to `x_tensor` using weight and `conv_strides`.\n",
    " * We recommend you use same padding, but you're welcome to use any padding.\n",
    "* Add bias\n",
    "* Add a nonlinear activation to the convolution.\n",
    "* Apply Max Pooling using `pool_ksize` and `pool_strides`.\n",
    " * We recommend you use same padding, but you're welcome to use any padding.\n",
    "\n",
    "**Note:** You **can't** use [TensorFlow Layers](https://www.tensorflow.org/api_docs/python/tf/layers) or [TensorFlow Layers (contrib)](https://www.tensorflow.org/api_guides/python/contrib.layers) for **this** layer, but you can still use TensorFlow's [Neural Network](https://www.tensorflow.org/api_docs/python/tf/nn) package. You may still use the shortcut option for all the **other** layers.\n",
    "\n",
    "** Hint: **\n",
    "\n",
    "When unpacking values as an argument in Python, look into the [unpacking](https://docs.python.org/3/tutorial/controlflow.html#unpacking-argument-lists) operator. "
   ]
  },
  {
   "cell_type": "code",
   "execution_count": 3,
   "metadata": {},
   "outputs": [
    {
     "name": "stdout",
     "output_type": "stream",
     "text": [
      "Tests Passed\n"
     ]
    }
   ],
   "source": [
    "import math\n",
    "\n",
    "def conv2d_maxpool(x_tensor, conv_num_outputs, conv_ksize, conv_strides, pool_ksize, pool_strides):\n",
    "    \"\"\"\n",
    "    Apply convolution then max pooling to x_tensor\n",
    "    :param x_tensor: TensorFlow Tensor\n",
    "    :param conv_num_outputs: Number of outputs for the convolutional layer\n",
    "    :param conv_ksize: kernal size 2-D Tuple for the convolutional layer\n",
    "    :param conv_strides: Stride 2-D Tuple for convolution\n",
    "    :param pool_ksize: kernal size 2-D Tuple for pool\n",
    "    :param pool_strides: Stride 2-D Tuple for pool\n",
    "    : return: A tensor that represents convolution and max pooling of x_tensor\n",
    "    \"\"\"\n",
    "    # TODO: Implement Function\n",
    "    # parameters\n",
    "    # use Relu activation, scale weight initialization with Xaiver initialization using only input connections\n",
    "    scaler = 1.0\n",
    "    for dim in x_tensor.shape[1:]:\n",
    "        # assuming first dim of input is n_sample\n",
    "        scaler *= float(dim.value)\n",
    "    weights = tf.Variable(tf.truncated_normal(conv_ksize + (x_tensor.shape[-1].value, conv_num_outputs), 0.0, math.sqrt(2.0 / scaler)), name='weights')\n",
    "    bias = tf.Variable(tf.zeros([conv_num_outputs]), name='bias') \n",
    "    \n",
    "    # tensors\n",
    "    x1 = tf.nn.conv2d(x_tensor, weights, strides=[1, *conv_strides, 1], padding='SAME', name='conv')\n",
    "    x2 = tf.nn.bias_add(x1, bias, name='score')\n",
    "    x3 = tf.nn.relu(x2, name='relu')\n",
    "    x4 = tf.nn.max_pool(x3, ksize=[1, *pool_ksize, 1], strides=[1, *pool_strides, 1], padding='SAME')\n",
    "    return x4 \n",
    "\n",
    "\n",
    "\"\"\"\n",
    "DON'T MODIFY ANYTHING IN THIS CELL THAT IS BELOW THIS LINE\n",
    "\"\"\"\n",
    "tests.test_con_pool(conv2d_maxpool)"
   ]
  },
  {
   "cell_type": "markdown",
   "metadata": {},
   "source": [
    "### Flatten Layer\n",
    "Implement the `flatten` function to change the dimension of `x_tensor` from a 4-D tensor to a 2-D tensor.  The output should be the shape (*Batch Size*, *Flattened Image Size*). Shortcut option: you can use classes from the [TensorFlow Layers](https://www.tensorflow.org/api_docs/python/tf/layers) or [TensorFlow Layers (contrib)](https://www.tensorflow.org/api_guides/python/contrib.layers) packages for this layer. For more of a challenge, only use other TensorFlow packages."
   ]
  },
  {
   "cell_type": "code",
   "execution_count": 4,
   "metadata": {},
   "outputs": [
    {
     "name": "stdout",
     "output_type": "stream",
     "text": [
      "Tests Passed\n"
     ]
    }
   ],
   "source": [
    "def flatten(x_tensor):\n",
    "    \"\"\"\n",
    "    Flatten x_tensor to (Batch Size, Flattened Image Size)\n",
    "    : x_tensor: A tensor of size (Batch Size, ...), where ... are the image dimensions.\n",
    "    : return: A tensor of size (Batch Size, Flattened Image Size).\n",
    "    \"\"\"\n",
    "    # TODO: Implement Function\n",
    "    # out = tf.contrib.layers.flatten(x_tensor)  # shortcut\n",
    "    flatten_dim = 1\n",
    "    for dim in x_tensor.shape[1:]:\n",
    "        # assuming first dim of input is n_sample\n",
    "        flatten_dim *= dim.value\n",
    "    out = tf.reshape(x_tensor, [-1, flatten_dim])\n",
    "    return out\n",
    "\n",
    "\n",
    "\"\"\"\n",
    "DON'T MODIFY ANYTHING IN THIS CELL THAT IS BELOW THIS LINE\n",
    "\"\"\"\n",
    "tests.test_flatten(flatten)"
   ]
  },
  {
   "cell_type": "markdown",
   "metadata": {},
   "source": [
    "### Fully-Connected Layer\n",
    "Implement the `fully_conn` function to apply a fully connected layer to `x_tensor` with the shape (*Batch Size*, *num_outputs*). Shortcut option: you can use classes from the [TensorFlow Layers](https://www.tensorflow.org/api_docs/python/tf/layers) or [TensorFlow Layers (contrib)](https://www.tensorflow.org/api_guides/python/contrib.layers) packages for this layer. For more of a challenge, only use other TensorFlow packages."
   ]
  },
  {
   "cell_type": "code",
   "execution_count": 5,
   "metadata": {},
   "outputs": [
    {
     "name": "stdout",
     "output_type": "stream",
     "text": [
      "Tests Passed\n"
     ]
    }
   ],
   "source": [
    "def fully_conn(x_tensor, num_outputs):\n",
    "    \"\"\"\n",
    "    Apply a fully connected layer to x_tensor using weight and bias\n",
    "    : x_tensor: A 2-D tensor where the first dimension is batch size.\n",
    "    : num_outputs: The number of output that the new tensor should be.\n",
    "    : return: A 2-D tensor where the second dimension is num_outputs.\n",
    "    \"\"\"\n",
    "    # TODO: Implement Function\n",
    "    # out = tf.contrib.layers.fully_connected(x_tensor, num_outputs)  # shortcut\n",
    "    \n",
    "    # parameters\n",
    "    flatten_dim = x_tensor.shape[1].value\n",
    "    weights = tf.Variable(tf.truncated_normal((flatten_dim, num_outputs), 0.0, math.sqrt(2.0 / float(flatten_dim))), name='weights')\n",
    "    bias = tf.Variable(tf.zeros([num_outputs]), name='bias') \n",
    "    \n",
    "    # tensors\n",
    "    x1 = tf.matmul(x_tensor, weights)\n",
    "    x2 = tf.nn.bias_add(x1, bias, name='score')\n",
    "    x3 = tf.nn.relu(x2, name='relu')  # keep relu activation as default in tf.contrib.layers\n",
    "    return x3\n",
    "\n",
    "\n",
    "\"\"\"\n",
    "DON'T MODIFY ANYTHING IN THIS CELL THAT IS BELOW THIS LINE\n",
    "\"\"\"\n",
    "tests.test_fully_conn(fully_conn)"
   ]
  },
  {
   "cell_type": "markdown",
   "metadata": {},
   "source": [
    "### Output Layer\n",
    "Implement the `output` function to apply a fully connected layer to `x_tensor` with the shape (*Batch Size*, *num_outputs*). Shortcut option: you can use classes from the [TensorFlow Layers](https://www.tensorflow.org/api_docs/python/tf/layers) or [TensorFlow Layers (contrib)](https://www.tensorflow.org/api_guides/python/contrib.layers) packages for this layer. For more of a challenge, only use other TensorFlow packages.\n",
    "\n",
    "**Note:** Activation, softmax, or cross entropy should **not** be applied to this."
   ]
  },
  {
   "cell_type": "code",
   "execution_count": 6,
   "metadata": {},
   "outputs": [
    {
     "name": "stdout",
     "output_type": "stream",
     "text": [
      "Tests Passed\n"
     ]
    }
   ],
   "source": [
    "def output(x_tensor, num_outputs):\n",
    "    \"\"\"\n",
    "    Apply a output layer to x_tensor using weight and bias\n",
    "    : x_tensor: A 2-D tensor where the first dimension is batch size.\n",
    "    : num_outputs: The number of output that the new tensor should be.\n",
    "    : return: A 2-D tensor where the second dimension is num_outputs.\n",
    "    \"\"\"\n",
    "    # TODO: Implement Function\n",
    "    # parameters\n",
    "    flatten_dim = x_tensor.shape[1].value\n",
    "    weights = tf.Variable(tf.truncated_normal((flatten_dim, num_outputs), 0.0, math.sqrt(2.0 / float(flatten_dim))), name='weights')\n",
    "    bias = tf.Variable(tf.zeros([num_outputs]), name='bias') \n",
    "    \n",
    "    # tensors\n",
    "    x1 = tf.matmul(x_tensor, weights)\n",
    "    x2 = tf.nn.bias_add(x1, bias, name='score')\n",
    "    return x2\n",
    "\n",
    "\n",
    "\"\"\"\n",
    "DON'T MODIFY ANYTHING IN THIS CELL THAT IS BELOW THIS LINE\n",
    "\"\"\"\n",
    "tests.test_output(output)"
   ]
  },
  {
   "cell_type": "markdown",
   "metadata": {},
   "source": [
    "### Create Convolutional Model\n",
    "Implement the function `conv_net` to create a convolutional neural network model. The function takes in a batch of images, `x`, and outputs logits.  Use the layers you created above to create this model:\n",
    "\n",
    "* Apply 1, 2, or 3 Convolution and Max Pool layers\n",
    "* Apply a Flatten Layer\n",
    "* Apply 1, 2, or 3 Fully Connected Layers\n",
    "* Apply an Output Layer\n",
    "* Return the output\n",
    "* Apply [TensorFlow's Dropout](https://www.tensorflow.org/api_docs/python/tf/nn/dropout) to one or more layers in the model using `keep_prob`. "
   ]
  },
  {
   "cell_type": "code",
   "execution_count": 7,
   "metadata": {},
   "outputs": [
    {
     "name": "stdout",
     "output_type": "stream",
     "text": [
      "Neural Network Built!\n"
     ]
    }
   ],
   "source": [
    "def conv_net(x, keep_prob):\n",
    "    \"\"\"\n",
    "    Create a convolutional neural network model\n",
    "    : x: Placeholder tensor that holds image data.\n",
    "    : keep_prob: Placeholder tensor that hold dropout keep probability.\n",
    "    : return: Tensor that represents logits\n",
    "    \"\"\"\n",
    "    # TODO: Apply 1, 2, or 3 Convolution and Max Pool layers\n",
    "    #    Play around with different number of outputs, kernel size and stride\n",
    "    # Function Definition from Above:\n",
    "    #    conv2d_maxpool(x_tensor, conv_num_outputs, conv_ksize, conv_strides, pool_ksize, pool_strides)\n",
    "#     conv1_layer = conv2d_maxpool(x, 32, (3,3), (1,1), (2,2), (2,2))\n",
    "#     conv2_layer = conv2d_maxpool(conv1_layer, 64, (1,1), (1,1), (2,2), (2,2))\n",
    "#     conv3_layer = conv2d_maxpool(conv2_layer, 128, (3,3), (1,1), (2,2), (2,2))\n",
    "    conv1_layer = conv2d_maxpool(x, 64, (3,3), (1,1), (2,2), (2,2))\n",
    "    \n",
    "\n",
    "    # TODO: Apply a Flatten Layer\n",
    "    # Function Definition from Above:\n",
    "    #   flatten(x_tensor)\n",
    "    flat_layer = flatten(conv1_layer)\n",
    "    \n",
    "\n",
    "    # TODO: Apply 1, 2, or 3 Fully Connected Layers\n",
    "    #    Play around with different number of outputs\n",
    "    # Function Definition from Above:\n",
    "    #   fully_conn(x_tensor, num_outputs)\n",
    "    full1_layer = fully_conn(flat_layer, 256)\n",
    "    full1_layer_dropout = tf.nn.dropout(full1_layer, keep_prob)\n",
    "#     full2_layer = fully_conn(flat_layer, 128)\n",
    "#     full2_layer_dropout = tf.nn.dropout(full2_layer, keep_prob)\n",
    "    \n",
    "    \n",
    "    # TODO: Apply an Output Layer\n",
    "    #    Set this to the number of classes\n",
    "    # Function Definition from Above:\n",
    "    #   output(x_tensor, num_outputs)\n",
    "    out_layer = output(full1_layer_dropout, 10)\n",
    "    \n",
    "    # TODO: return output\n",
    "    return out_layer\n",
    "\n",
    "\n",
    "\"\"\"\n",
    "DON'T MODIFY ANYTHING IN THIS CELL THAT IS BELOW THIS LINE\n",
    "\"\"\"\n",
    "\n",
    "##############################\n",
    "## Build the Neural Network ##\n",
    "##############################\n",
    "\n",
    "# Remove previous weights, bias, inputs, etc..\n",
    "tf.reset_default_graph()\n",
    "\n",
    "# Inputs\n",
    "x = neural_net_image_input((32, 32, 3))\n",
    "y = neural_net_label_input(10)\n",
    "keep_prob = neural_net_keep_prob_input()\n",
    "\n",
    "# Model\n",
    "logits = conv_net(x, keep_prob)\n",
    "\n",
    "# Name logits Tensor, so that is can be loaded from disk after training\n",
    "logits = tf.identity(logits, name='logits')\n",
    "\n",
    "# Loss and Optimizer\n",
    "cost = tf.reduce_mean(tf.nn.softmax_cross_entropy_with_logits(logits=logits, labels=y))\n",
    "optimizer = tf.train.AdamOptimizer().minimize(cost)\n",
    "\n",
    "# Accuracy\n",
    "correct_pred = tf.equal(tf.argmax(logits, 1), tf.argmax(y, 1))\n",
    "accuracy = tf.reduce_mean(tf.cast(correct_pred, tf.float32), name='accuracy')\n",
    "\n",
    "tests.test_conv_net(conv_net)"
   ]
  },
  {
   "cell_type": "markdown",
   "metadata": {},
   "source": [
    "## Train the Neural Network\n",
    "### Single Optimization\n",
    "Implement the function `train_neural_network` to do a single optimization.  The optimization should use `optimizer` to optimize in `session` with a `feed_dict` of the following:\n",
    "* `x` for image input\n",
    "* `y` for labels\n",
    "* `keep_prob` for keep probability for dropout\n",
    "\n",
    "This function will be called for each batch, so `tf.global_variables_initializer()` has already been called.\n",
    "\n",
    "Note: Nothing needs to be returned. This function is only optimizing the neural network."
   ]
  },
  {
   "cell_type": "code",
   "execution_count": 8,
   "metadata": {},
   "outputs": [
    {
     "name": "stdout",
     "output_type": "stream",
     "text": [
      "Tests Passed\n"
     ]
    }
   ],
   "source": [
    "def train_neural_network(session, optimizer, keep_probability, feature_batch, label_batch):\n",
    "    \"\"\"\n",
    "    Optimize the session on a batch of images and labels\n",
    "    : session: Current TensorFlow session\n",
    "    : optimizer: TensorFlow optimizer function\n",
    "    : keep_probability: keep probability\n",
    "    : feature_batch: Batch of Numpy image data\n",
    "    : label_batch: Batch of Numpy label data\n",
    "    \"\"\"\n",
    "    # TODO: Implement Function\n",
    "    session.run(optimizer, feed_dict={keep_prob: keep_probability, x: feature_batch, y: label_batch})\n",
    "\n",
    "\n",
    "\"\"\"\n",
    "DON'T MODIFY ANYTHING IN THIS CELL THAT IS BELOW THIS LINE\n",
    "\"\"\"\n",
    "tests.test_train_nn(train_neural_network)"
   ]
  },
  {
   "cell_type": "markdown",
   "metadata": {},
   "source": [
    "### Show Stats\n",
    "Implement the function `print_stats` to print loss and validation accuracy.  Use the global variables `valid_features` and `valid_labels` to calculate validation accuracy.  Use a keep probability of `1.0` to calculate the loss and validation accuracy."
   ]
  },
  {
   "cell_type": "code",
   "execution_count": 9,
   "metadata": {
    "collapsed": true
   },
   "outputs": [],
   "source": [
    "def print_stats(session, feature_batch, label_batch, cost, accuracy):\n",
    "    \"\"\"\n",
    "    Print information about loss and validation accuracy\n",
    "    : session: Current TensorFlow session\n",
    "    : feature_batch: Batch of Numpy image data\n",
    "    : label_batch: Batch of Numpy label data\n",
    "    : cost: TensorFlow cost function\n",
    "    : accuracy: TensorFlow accuracy function\n",
    "    \"\"\"\n",
    "    # TODO: Implement Function\n",
    "    cost_val = session.run(cost, feed_dict={keep_prob: 1.0, x: feature_batch, y: label_batch})\n",
    "    accuracy_val = session.run(accuracy, feed_dict={keep_prob: 1.0, x: feature_batch, y: label_batch})\n",
    "    \n",
    "    print('batch cost: %4.4f; batch accuracy: %4.4f' % (cost_val, accuracy_val))"
   ]
  },
  {
   "cell_type": "markdown",
   "metadata": {},
   "source": [
    "### Hyperparameters\n",
    "Tune the following parameters:\n",
    "* Set `epochs` to the number of iterations until the network stops learning or start overfitting\n",
    "* Set `batch_size` to the highest number that your machine has memory for.  Most people set them to common sizes of memory:\n",
    " * 64\n",
    " * 128\n",
    " * 256\n",
    " * ...\n",
    "* Set `keep_probability` to the probability of keeping a node using dropout"
   ]
  },
  {
   "cell_type": "code",
   "execution_count": 10,
   "metadata": {
    "collapsed": true
   },
   "outputs": [],
   "source": [
    "# TODO: Tune Parameters\n",
    "epochs = 50\n",
    "batch_size = 512\n",
    "keep_probability = 0.5"
   ]
  },
  {
   "cell_type": "markdown",
   "metadata": {},
   "source": [
    "### Train on a Single CIFAR-10 Batch\n",
    "Instead of training the neural network on all the CIFAR-10 batches of data, let's use a single batch. This should save time while you iterate on the model to get a better accuracy.  Once the final validation accuracy is 50% or greater, run the model on all the data in the next section."
   ]
  },
  {
   "cell_type": "code",
   "execution_count": 24,
   "metadata": {},
   "outputs": [
    {
     "name": "stdout",
     "output_type": "stream",
     "text": [
      "Checking the Training on a Single Batch...\n",
      "Epoch  1, CIFAR-10 Batch 1:  batch cost: 1.9824; batch accuracy: 0.3581\n",
      "Epoch  2, CIFAR-10 Batch 1:  batch cost: 1.7941; batch accuracy: 0.3818\n",
      "Epoch  3, CIFAR-10 Batch 1:  batch cost: 1.6351; batch accuracy: 0.4696\n",
      "Epoch  4, CIFAR-10 Batch 1:  batch cost: 1.5385; batch accuracy: 0.5034\n",
      "Epoch  5, CIFAR-10 Batch 1:  batch cost: 1.4248; batch accuracy: 0.5338\n",
      "Epoch  6, CIFAR-10 Batch 1:  batch cost: 1.3423; batch accuracy: 0.5574\n",
      "Epoch  7, CIFAR-10 Batch 1:  batch cost: 1.2671; batch accuracy: 0.5878\n",
      "Epoch  8, CIFAR-10 Batch 1:  batch cost: 1.1908; batch accuracy: 0.5980\n",
      "Epoch  9, CIFAR-10 Batch 1:  batch cost: 1.1175; batch accuracy: 0.6115\n",
      "Epoch 10, CIFAR-10 Batch 1:  batch cost: 1.0579; batch accuracy: 0.6385\n",
      "Epoch 11, CIFAR-10 Batch 1:  batch cost: 0.9890; batch accuracy: 0.6993\n",
      "Epoch 12, CIFAR-10 Batch 1:  batch cost: 0.9514; batch accuracy: 0.6959\n",
      "Epoch 13, CIFAR-10 Batch 1:  batch cost: 0.9160; batch accuracy: 0.6993\n",
      "Epoch 14, CIFAR-10 Batch 1:  batch cost: 0.8364; batch accuracy: 0.7365\n",
      "Epoch 15, CIFAR-10 Batch 1:  batch cost: 0.7976; batch accuracy: 0.7635\n",
      "Epoch 16, CIFAR-10 Batch 1:  batch cost: 0.7439; batch accuracy: 0.7736\n",
      "Epoch 17, CIFAR-10 Batch 1:  batch cost: 0.7144; batch accuracy: 0.7973\n",
      "Epoch 18, CIFAR-10 Batch 1:  batch cost: 0.6725; batch accuracy: 0.8209\n",
      "Epoch 19, CIFAR-10 Batch 1:  batch cost: 0.6092; batch accuracy: 0.8412\n",
      "Epoch 20, CIFAR-10 Batch 1:  batch cost: 0.5908; batch accuracy: 0.8345\n",
      "Epoch 21, CIFAR-10 Batch 1:  batch cost: 0.5633; batch accuracy: 0.8514\n",
      "Epoch 22, CIFAR-10 Batch 1:  batch cost: 0.5057; batch accuracy: 0.8716\n",
      "Epoch 23, CIFAR-10 Batch 1:  batch cost: 0.4739; batch accuracy: 0.9054\n",
      "Epoch 24, CIFAR-10 Batch 1:  batch cost: 0.4453; batch accuracy: 0.9054\n",
      "Epoch 25, CIFAR-10 Batch 1:  batch cost: 0.4155; batch accuracy: 0.9088\n",
      "Epoch 26, CIFAR-10 Batch 1:  batch cost: 0.4018; batch accuracy: 0.9291\n",
      "Epoch 27, CIFAR-10 Batch 1:  batch cost: 0.3901; batch accuracy: 0.9291\n",
      "Epoch 28, CIFAR-10 Batch 1:  batch cost: 0.3765; batch accuracy: 0.9324\n",
      "Epoch 29, CIFAR-10 Batch 1:  batch cost: 0.3764; batch accuracy: 0.9223\n",
      "Epoch 30, CIFAR-10 Batch 1:  batch cost: 0.3254; batch accuracy: 0.9493\n",
      "Epoch 31, CIFAR-10 Batch 1:  batch cost: 0.3098; batch accuracy: 0.9358\n",
      "Epoch 32, CIFAR-10 Batch 1:  batch cost: 0.2768; batch accuracy: 0.9426\n",
      "Epoch 33, CIFAR-10 Batch 1:  batch cost: 0.2629; batch accuracy: 0.9527\n",
      "Epoch 34, CIFAR-10 Batch 1:  batch cost: 0.2752; batch accuracy: 0.9459\n",
      "Epoch 35, CIFAR-10 Batch 1:  batch cost: 0.2804; batch accuracy: 0.9358\n",
      "Epoch 36, CIFAR-10 Batch 1:  batch cost: 0.2557; batch accuracy: 0.9561\n",
      "Epoch 37, CIFAR-10 Batch 1:  batch cost: 0.2200; batch accuracy: 0.9764\n",
      "Epoch 38, CIFAR-10 Batch 1:  batch cost: 0.1942; batch accuracy: 0.9696\n",
      "Epoch 39, CIFAR-10 Batch 1:  batch cost: 0.1775; batch accuracy: 0.9730\n",
      "Epoch 40, CIFAR-10 Batch 1:  batch cost: 0.1635; batch accuracy: 0.9730\n",
      "Epoch 41, CIFAR-10 Batch 1:  batch cost: 0.1526; batch accuracy: 0.9764\n",
      "Epoch 42, CIFAR-10 Batch 1:  batch cost: 0.1373; batch accuracy: 0.9831\n",
      "Epoch 43, CIFAR-10 Batch 1:  batch cost: 0.1417; batch accuracy: 0.9797\n",
      "Epoch 44, CIFAR-10 Batch 1:  batch cost: 0.1270; batch accuracy: 0.9899\n",
      "Epoch 45, CIFAR-10 Batch 1:  batch cost: 0.1233; batch accuracy: 0.9865\n",
      "Epoch 46, CIFAR-10 Batch 1:  batch cost: 0.1075; batch accuracy: 0.9899\n",
      "Epoch 47, CIFAR-10 Batch 1:  batch cost: 0.1113; batch accuracy: 0.9831\n",
      "Epoch 48, CIFAR-10 Batch 1:  batch cost: 0.1144; batch accuracy: 0.9932\n",
      "Epoch 49, CIFAR-10 Batch 1:  batch cost: 0.1113; batch accuracy: 0.9899\n",
      "Epoch 50, CIFAR-10 Batch 1:  batch cost: 0.0983; batch accuracy: 0.9966\n"
     ]
    }
   ],
   "source": [
    "\"\"\"\n",
    "DON'T MODIFY ANYTHING IN THIS CELL\n",
    "\"\"\"\n",
    "print('Checking the Training on a Single Batch...')\n",
    "with tf.Session() as sess:\n",
    "    # Initializing the variables\n",
    "    sess.run(tf.global_variables_initializer())\n",
    "    \n",
    "    # Training cycle\n",
    "    for epoch in range(epochs):\n",
    "        batch_i = 1\n",
    "        for batch_features, batch_labels in helper.load_preprocess_training_batch(batch_i, batch_size):\n",
    "            train_neural_network(sess, optimizer, keep_probability, batch_features, batch_labels)\n",
    "        print('Epoch {:>2}, CIFAR-10 Batch {}:  '.format(epoch + 1, batch_i), end='')\n",
    "        print_stats(sess, batch_features, batch_labels, cost, accuracy)"
   ]
  },
  {
   "cell_type": "markdown",
   "metadata": {},
   "source": [
    "*I tried 2 versions of models:*\n",
    "\n",
    "*One complex one:*\n",
    "- *conv 3 * 3 filter and 32 feature maps*\n",
    "- *conv 1 * 1 filter and 64 feature maps*\n",
    "- *conv 3 * 3 filter and 128 feature maps*\n",
    "- *fully connected layer to 256 neurons.*\n",
    "- *fully connected layer to 128 neurons*\n",
    "\n",
    "*One simple one:*\n",
    "- *conv 3 * 3 filter and 64 feature maps*\n",
    "- *fully connect layer to 256 neurons*\n",
    "\n",
    "*What I observe:*\n",
    "- *complex model takes longer to train, training costs and accuracy improves very slow.*\n",
    "- *complex model starts off with a higher cost and lower accuracy.*\n",
    "- *train the simple model 50 epochs and the training accuracy can go up to over 99%, so it is already complex enough to overfit the dataset.*\n",
    "- *actually to make a good choose of the stop point, I need to take a look at the validation accurcay along epoches. But this functionality is not provided in the cell.*"
   ]
  },
  {
   "cell_type": "code",
   "execution_count": 11,
   "metadata": {
    "collapsed": true
   },
   "outputs": [],
   "source": [
    "# TODO: Tune Parameters\n",
    "epochs = 30\n",
    "batch_size = 512\n",
    "keep_probability = 0.5"
   ]
  },
  {
   "cell_type": "markdown",
   "metadata": {},
   "source": [
    "### Fully Train the Model\n",
    "Now that you got a good accuracy with a single CIFAR-10 batch, try it with all five batches."
   ]
  },
  {
   "cell_type": "code",
   "execution_count": 12,
   "metadata": {},
   "outputs": [
    {
     "name": "stdout",
     "output_type": "stream",
     "text": [
      "Training...\n",
      "Epoch  1, CIFAR-10 Batch 1:  batch cost: 2.0716; batch accuracy: 0.2905\n",
      "Epoch  1, CIFAR-10 Batch 2:  batch cost: 1.8619; batch accuracy: 0.3446\n",
      "Epoch  1, CIFAR-10 Batch 3:  batch cost: 1.7065; batch accuracy: 0.4358\n",
      "Epoch  1, CIFAR-10 Batch 4:  batch cost: 1.5757; batch accuracy: 0.4730\n",
      "Epoch  1, CIFAR-10 Batch 5:  batch cost: 1.5774; batch accuracy: 0.4561\n",
      "Epoch  2, CIFAR-10 Batch 1:  batch cost: 1.5701; batch accuracy: 0.4696\n",
      "Epoch  2, CIFAR-10 Batch 2:  batch cost: 1.4102; batch accuracy: 0.5338\n",
      "Epoch  2, CIFAR-10 Batch 3:  batch cost: 1.2974; batch accuracy: 0.5574\n",
      "Epoch  2, CIFAR-10 Batch 4:  batch cost: 1.2820; batch accuracy: 0.5439\n",
      "Epoch  2, CIFAR-10 Batch 5:  batch cost: 1.3232; batch accuracy: 0.5709\n",
      "Epoch  3, CIFAR-10 Batch 1:  batch cost: 1.3741; batch accuracy: 0.5135\n",
      "Epoch  3, CIFAR-10 Batch 2:  batch cost: 1.2063; batch accuracy: 0.5980\n",
      "Epoch  3, CIFAR-10 Batch 3:  batch cost: 1.1284; batch accuracy: 0.6115\n",
      "Epoch  3, CIFAR-10 Batch 4:  batch cost: 1.1433; batch accuracy: 0.6149\n",
      "Epoch  3, CIFAR-10 Batch 5:  batch cost: 1.1986; batch accuracy: 0.6115\n",
      "Epoch  4, CIFAR-10 Batch 1:  batch cost: 1.2563; batch accuracy: 0.5608\n",
      "Epoch  4, CIFAR-10 Batch 2:  batch cost: 1.1311; batch accuracy: 0.6318\n",
      "Epoch  4, CIFAR-10 Batch 3:  batch cost: 1.0559; batch accuracy: 0.6250\n",
      "Epoch  4, CIFAR-10 Batch 4:  batch cost: 1.0581; batch accuracy: 0.6655\n",
      "Epoch  4, CIFAR-10 Batch 5:  batch cost: 1.0972; batch accuracy: 0.6351\n",
      "Epoch  5, CIFAR-10 Batch 1:  batch cost: 1.1671; batch accuracy: 0.6014\n",
      "Epoch  5, CIFAR-10 Batch 2:  batch cost: 1.0272; batch accuracy: 0.6588\n",
      "Epoch  5, CIFAR-10 Batch 3:  batch cost: 0.9604; batch accuracy: 0.6926\n",
      "Epoch  5, CIFAR-10 Batch 4:  batch cost: 0.9872; batch accuracy: 0.6791\n",
      "Epoch  5, CIFAR-10 Batch 5:  batch cost: 1.0399; batch accuracy: 0.6554\n",
      "Epoch  6, CIFAR-10 Batch 1:  batch cost: 1.1069; batch accuracy: 0.6216\n",
      "Epoch  6, CIFAR-10 Batch 2:  batch cost: 0.9690; batch accuracy: 0.6993\n",
      "Epoch  6, CIFAR-10 Batch 3:  batch cost: 0.8980; batch accuracy: 0.7162\n",
      "Epoch  6, CIFAR-10 Batch 4:  batch cost: 0.9163; batch accuracy: 0.7061\n",
      "Epoch  6, CIFAR-10 Batch 5:  batch cost: 0.9481; batch accuracy: 0.6993\n",
      "Epoch  7, CIFAR-10 Batch 1:  batch cost: 1.0410; batch accuracy: 0.6318\n",
      "Epoch  7, CIFAR-10 Batch 2:  batch cost: 0.9389; batch accuracy: 0.7230\n",
      "Epoch  7, CIFAR-10 Batch 3:  batch cost: 0.8378; batch accuracy: 0.7432\n",
      "Epoch  7, CIFAR-10 Batch 4:  batch cost: 0.8556; batch accuracy: 0.7027\n",
      "Epoch  7, CIFAR-10 Batch 5:  batch cost: 0.9085; batch accuracy: 0.7095\n",
      "Epoch  8, CIFAR-10 Batch 1:  batch cost: 0.9844; batch accuracy: 0.6757\n",
      "Epoch  8, CIFAR-10 Batch 2:  batch cost: 0.8669; batch accuracy: 0.7331\n",
      "Epoch  8, CIFAR-10 Batch 3:  batch cost: 0.8045; batch accuracy: 0.7568\n",
      "Epoch  8, CIFAR-10 Batch 4:  batch cost: 0.8077; batch accuracy: 0.7432\n",
      "Epoch  8, CIFAR-10 Batch 5:  batch cost: 0.8331; batch accuracy: 0.7297\n",
      "Epoch  9, CIFAR-10 Batch 1:  batch cost: 0.9062; batch accuracy: 0.6824\n",
      "Epoch  9, CIFAR-10 Batch 2:  batch cost: 0.8209; batch accuracy: 0.7669\n",
      "Epoch  9, CIFAR-10 Batch 3:  batch cost: 0.7491; batch accuracy: 0.7500\n",
      "Epoch  9, CIFAR-10 Batch 4:  batch cost: 0.7471; batch accuracy: 0.7669\n",
      "Epoch  9, CIFAR-10 Batch 5:  batch cost: 0.7769; batch accuracy: 0.7568\n",
      "Epoch 10, CIFAR-10 Batch 1:  batch cost: 0.8531; batch accuracy: 0.7196\n",
      "Epoch 10, CIFAR-10 Batch 2:  batch cost: 0.7713; batch accuracy: 0.7939\n",
      "Epoch 10, CIFAR-10 Batch 3:  batch cost: 0.7032; batch accuracy: 0.7669\n",
      "Epoch 10, CIFAR-10 Batch 4:  batch cost: 0.7232; batch accuracy: 0.7736\n",
      "Epoch 10, CIFAR-10 Batch 5:  batch cost: 0.7334; batch accuracy: 0.7770\n",
      "Epoch 11, CIFAR-10 Batch 1:  batch cost: 0.8178; batch accuracy: 0.7297\n",
      "Epoch 11, CIFAR-10 Batch 2:  batch cost: 0.7319; batch accuracy: 0.7973\n",
      "Epoch 11, CIFAR-10 Batch 3:  batch cost: 0.6821; batch accuracy: 0.7838\n",
      "Epoch 11, CIFAR-10 Batch 4:  batch cost: 0.6839; batch accuracy: 0.7736\n",
      "Epoch 11, CIFAR-10 Batch 5:  batch cost: 0.7004; batch accuracy: 0.7838\n",
      "Epoch 12, CIFAR-10 Batch 1:  batch cost: 0.7636; batch accuracy: 0.7534\n",
      "Epoch 12, CIFAR-10 Batch 2:  batch cost: 0.7281; batch accuracy: 0.7804\n",
      "Epoch 12, CIFAR-10 Batch 3:  batch cost: 0.6576; batch accuracy: 0.7872\n",
      "Epoch 12, CIFAR-10 Batch 4:  batch cost: 0.6557; batch accuracy: 0.7973\n",
      "Epoch 12, CIFAR-10 Batch 5:  batch cost: 0.6531; batch accuracy: 0.7872\n",
      "Epoch 13, CIFAR-10 Batch 1:  batch cost: 0.7118; batch accuracy: 0.7804\n",
      "Epoch 13, CIFAR-10 Batch 2:  batch cost: 0.6790; batch accuracy: 0.8074\n",
      "Epoch 13, CIFAR-10 Batch 3:  batch cost: 0.6265; batch accuracy: 0.7973\n",
      "Epoch 13, CIFAR-10 Batch 4:  batch cost: 0.6188; batch accuracy: 0.7939\n",
      "Epoch 13, CIFAR-10 Batch 5:  batch cost: 0.6185; batch accuracy: 0.7973\n",
      "Epoch 14, CIFAR-10 Batch 1:  batch cost: 0.6941; batch accuracy: 0.7635\n",
      "Epoch 14, CIFAR-10 Batch 2:  batch cost: 0.6323; batch accuracy: 0.8243\n",
      "Epoch 14, CIFAR-10 Batch 3:  batch cost: 0.5858; batch accuracy: 0.8074\n",
      "Epoch 14, CIFAR-10 Batch 4:  batch cost: 0.5837; batch accuracy: 0.8074\n",
      "Epoch 14, CIFAR-10 Batch 5:  batch cost: 0.5818; batch accuracy: 0.8209\n",
      "Epoch 15, CIFAR-10 Batch 1:  batch cost: 0.6508; batch accuracy: 0.7905\n",
      "Epoch 15, CIFAR-10 Batch 2:  batch cost: 0.6148; batch accuracy: 0.8243\n",
      "Epoch 15, CIFAR-10 Batch 3:  batch cost: 0.5671; batch accuracy: 0.8277\n",
      "Epoch 15, CIFAR-10 Batch 4:  batch cost: 0.5626; batch accuracy: 0.8176\n",
      "Epoch 15, CIFAR-10 Batch 5:  batch cost: 0.5457; batch accuracy: 0.8176\n",
      "Epoch 16, CIFAR-10 Batch 1:  batch cost: 0.5986; batch accuracy: 0.8176\n",
      "Epoch 16, CIFAR-10 Batch 2:  batch cost: 0.5663; batch accuracy: 0.8378\n",
      "Epoch 16, CIFAR-10 Batch 3:  batch cost: 0.5259; batch accuracy: 0.8243\n",
      "Epoch 16, CIFAR-10 Batch 4:  batch cost: 0.5235; batch accuracy: 0.8615\n",
      "Epoch 16, CIFAR-10 Batch 5:  batch cost: 0.5080; batch accuracy: 0.8412\n",
      "Epoch 17, CIFAR-10 Batch 1:  batch cost: 0.5694; batch accuracy: 0.8074\n",
      "Epoch 17, CIFAR-10 Batch 2:  batch cost: 0.5517; batch accuracy: 0.8412\n",
      "Epoch 17, CIFAR-10 Batch 3:  batch cost: 0.5084; batch accuracy: 0.8209\n",
      "Epoch 17, CIFAR-10 Batch 4:  batch cost: 0.5152; batch accuracy: 0.8480\n",
      "Epoch 17, CIFAR-10 Batch 5:  batch cost: 0.5012; batch accuracy: 0.8581\n",
      "Epoch 18, CIFAR-10 Batch 1:  batch cost: 0.5279; batch accuracy: 0.8412\n",
      "Epoch 18, CIFAR-10 Batch 2:  batch cost: 0.5184; batch accuracy: 0.8581\n",
      "Epoch 18, CIFAR-10 Batch 3:  batch cost: 0.4757; batch accuracy: 0.8581\n",
      "Epoch 18, CIFAR-10 Batch 4:  batch cost: 0.4934; batch accuracy: 0.8412\n",
      "Epoch 18, CIFAR-10 Batch 5:  batch cost: 0.4803; batch accuracy: 0.8547\n",
      "Epoch 19, CIFAR-10 Batch 1:  batch cost: 0.5305; batch accuracy: 0.8277\n",
      "Epoch 19, CIFAR-10 Batch 2:  batch cost: 0.5236; batch accuracy: 0.8480\n",
      "Epoch 19, CIFAR-10 Batch 3:  batch cost: 0.4592; batch accuracy: 0.8581\n",
      "Epoch 19, CIFAR-10 Batch 4:  batch cost: 0.4606; batch accuracy: 0.8716\n",
      "Epoch 19, CIFAR-10 Batch 5:  batch cost: 0.4715; batch accuracy: 0.8649\n",
      "Epoch 20, CIFAR-10 Batch 1:  batch cost: 0.4956; batch accuracy: 0.8547\n",
      "Epoch 20, CIFAR-10 Batch 2:  batch cost: 0.4890; batch accuracy: 0.8818\n",
      "Epoch 20, CIFAR-10 Batch 3:  batch cost: 0.4525; batch accuracy: 0.8480\n",
      "Epoch 20, CIFAR-10 Batch 4:  batch cost: 0.4589; batch accuracy: 0.8784\n",
      "Epoch 20, CIFAR-10 Batch 5:  batch cost: 0.4486; batch accuracy: 0.8716\n",
      "Epoch 21, CIFAR-10 Batch 1:  batch cost: 0.4901; batch accuracy: 0.8514\n",
      "Epoch 21, CIFAR-10 Batch 2:  batch cost: 0.4372; batch accuracy: 0.8885\n",
      "Epoch 21, CIFAR-10 Batch 3:  batch cost: 0.4298; batch accuracy: 0.8851\n",
      "Epoch 21, CIFAR-10 Batch 4:  batch cost: 0.4710; batch accuracy: 0.8682\n",
      "Epoch 21, CIFAR-10 Batch 5:  batch cost: 0.4371; batch accuracy: 0.8682\n",
      "Epoch 22, CIFAR-10 Batch 1:  batch cost: 0.4531; batch accuracy: 0.8784\n",
      "Epoch 22, CIFAR-10 Batch 2:  batch cost: 0.4345; batch accuracy: 0.8851\n",
      "Epoch 22, CIFAR-10 Batch 3:  batch cost: 0.3816; batch accuracy: 0.8953\n",
      "Epoch 22, CIFAR-10 Batch 4:  batch cost: 0.4364; batch accuracy: 0.8649\n",
      "Epoch 22, CIFAR-10 Batch 5:  batch cost: 0.4014; batch accuracy: 0.8885\n",
      "Epoch 23, CIFAR-10 Batch 1:  batch cost: 0.4384; batch accuracy: 0.8919\n",
      "Epoch 23, CIFAR-10 Batch 2:  batch cost: 0.3983; batch accuracy: 0.8885\n",
      "Epoch 23, CIFAR-10 Batch 3:  batch cost: 0.3612; batch accuracy: 0.9088\n",
      "Epoch 23, CIFAR-10 Batch 4:  batch cost: 0.4204; batch accuracy: 0.8851\n"
     ]
    },
    {
     "name": "stdout",
     "output_type": "stream",
     "text": [
      "Epoch 23, CIFAR-10 Batch 5:  batch cost: 0.3814; batch accuracy: 0.8986\n",
      "Epoch 24, CIFAR-10 Batch 1:  batch cost: 0.4200; batch accuracy: 0.8818\n",
      "Epoch 24, CIFAR-10 Batch 2:  batch cost: 0.4074; batch accuracy: 0.9054\n",
      "Epoch 24, CIFAR-10 Batch 3:  batch cost: 0.3444; batch accuracy: 0.9223\n",
      "Epoch 24, CIFAR-10 Batch 4:  batch cost: 0.3891; batch accuracy: 0.8919\n",
      "Epoch 24, CIFAR-10 Batch 5:  batch cost: 0.3676; batch accuracy: 0.9088\n",
      "Epoch 25, CIFAR-10 Batch 1:  batch cost: 0.3916; batch accuracy: 0.9054\n",
      "Epoch 25, CIFAR-10 Batch 2:  batch cost: 0.3651; batch accuracy: 0.9088\n",
      "Epoch 25, CIFAR-10 Batch 3:  batch cost: 0.3453; batch accuracy: 0.9088\n",
      "Epoch 25, CIFAR-10 Batch 4:  batch cost: 0.3552; batch accuracy: 0.9155\n",
      "Epoch 25, CIFAR-10 Batch 5:  batch cost: 0.3495; batch accuracy: 0.9291\n",
      "Epoch 26, CIFAR-10 Batch 1:  batch cost: 0.3905; batch accuracy: 0.8953\n",
      "Epoch 26, CIFAR-10 Batch 2:  batch cost: 0.3770; batch accuracy: 0.9020\n",
      "Epoch 26, CIFAR-10 Batch 3:  batch cost: 0.3576; batch accuracy: 0.9020\n",
      "Epoch 26, CIFAR-10 Batch 4:  batch cost: 0.3383; batch accuracy: 0.9122\n",
      "Epoch 26, CIFAR-10 Batch 5:  batch cost: 0.3310; batch accuracy: 0.9358\n",
      "Epoch 27, CIFAR-10 Batch 1:  batch cost: 0.3719; batch accuracy: 0.9020\n",
      "Epoch 27, CIFAR-10 Batch 2:  batch cost: 0.3202; batch accuracy: 0.9155\n",
      "Epoch 27, CIFAR-10 Batch 3:  batch cost: 0.3142; batch accuracy: 0.9189\n",
      "Epoch 27, CIFAR-10 Batch 4:  batch cost: 0.3190; batch accuracy: 0.9324\n",
      "Epoch 27, CIFAR-10 Batch 5:  batch cost: 0.3067; batch accuracy: 0.9459\n",
      "Epoch 28, CIFAR-10 Batch 1:  batch cost: 0.3580; batch accuracy: 0.9122\n",
      "Epoch 28, CIFAR-10 Batch 2:  batch cost: 0.3070; batch accuracy: 0.9223\n",
      "Epoch 28, CIFAR-10 Batch 3:  batch cost: 0.3169; batch accuracy: 0.9155\n",
      "Epoch 28, CIFAR-10 Batch 4:  batch cost: 0.2989; batch accuracy: 0.9392\n",
      "Epoch 28, CIFAR-10 Batch 5:  batch cost: 0.2932; batch accuracy: 0.9595\n",
      "Epoch 29, CIFAR-10 Batch 1:  batch cost: 0.3332; batch accuracy: 0.9189\n",
      "Epoch 29, CIFAR-10 Batch 2:  batch cost: 0.3118; batch accuracy: 0.9257\n",
      "Epoch 29, CIFAR-10 Batch 3:  batch cost: 0.2968; batch accuracy: 0.9358\n",
      "Epoch 29, CIFAR-10 Batch 4:  batch cost: 0.3055; batch accuracy: 0.9324\n",
      "Epoch 29, CIFAR-10 Batch 5:  batch cost: 0.2735; batch accuracy: 0.9459\n",
      "Epoch 30, CIFAR-10 Batch 1:  batch cost: 0.3124; batch accuracy: 0.9088\n",
      "Epoch 30, CIFAR-10 Batch 2:  batch cost: 0.3043; batch accuracy: 0.9358\n",
      "Epoch 30, CIFAR-10 Batch 3:  batch cost: 0.2752; batch accuracy: 0.9459\n",
      "Epoch 30, CIFAR-10 Batch 4:  batch cost: 0.2707; batch accuracy: 0.9358\n",
      "Epoch 30, CIFAR-10 Batch 5:  batch cost: 0.2771; batch accuracy: 0.9223\n"
     ]
    }
   ],
   "source": [
    "\"\"\"\n",
    "DON'T MODIFY ANYTHING IN THIS CELL\n",
    "\"\"\"\n",
    "save_model_path = './image_classification'\n",
    "\n",
    "print('Training...')\n",
    "with tf.Session() as sess:\n",
    "    # Initializing the variables\n",
    "    sess.run(tf.global_variables_initializer())\n",
    "    \n",
    "    # Training cycle\n",
    "    saver = tf.train.Saver()\n",
    "    for epoch in range(epochs):\n",
    "        # Loop over all batches\n",
    "        n_batches = 5\n",
    "        for batch_i in range(1, n_batches + 1):\n",
    "            for batch_features, batch_labels in helper.load_preprocess_training_batch(batch_i, batch_size):\n",
    "                train_neural_network(sess, optimizer, keep_probability, batch_features, batch_labels)\n",
    "            print('Epoch {:>2}, CIFAR-10 Batch {}:  '.format(epoch + 1, batch_i), end='')\n",
    "            print_stats(sess, batch_features, batch_labels, cost, accuracy)\n",
    "        \n",
    "        # sorry I modified the code here a bit so that to know which epoch stop point to choose\n",
    "        if epoch % 5 == 4:\n",
    "            # Save Model\n",
    "            save_path = saver.save(sess, save_model_path + '_%d' % epoch)"
   ]
  },
  {
   "cell_type": "markdown",
   "metadata": {},
   "source": [
    "# Checkpoint\n",
    "The model has been saved to disk.\n",
    "## Test Model\n",
    "Test your model against the test dataset.  This will be your final accuracy. You should have an accuracy greater than 50%. If you don't, keep tweaking the model architecture and parameters."
   ]
  },
  {
   "cell_type": "code",
   "execution_count": 23,
   "metadata": {},
   "outputs": [
    {
     "name": "stdout",
     "output_type": "stream",
     "text": [
      "INFO:tensorflow:Restoring parameters from ./image_classification_29\n",
      "Testing Accuracy: 0.6645680159330368\n",
      "\n"
     ]
    },
    {
     "data": {
      "image/png": "[encoded data removed]",
      "text/plain": [
       "<matplotlib.figure.Figure at 0x4c885a2198>"
      ]
     },
     "metadata": {
      "image/png": {
       "height": 319,
       "width": 355
      }
     },
     "output_type": "display_data"
    }
   ],
   "source": [
    "\"\"\"\n",
    "DON'T MODIFY ANYTHING IN THIS CELL\n",
    "\"\"\"\n",
    "%matplotlib inline\n",
    "%config InlineBackend.figure_format = 'retina'\n",
    "\n",
    "import tensorflow as tf\n",
    "import pickle\n",
    "import helper\n",
    "import random\n",
    "\n",
    "# Set batch size if not already set\n",
    "try:\n",
    "    if batch_size:\n",
    "        pass\n",
    "except NameError:\n",
    "    batch_size = 64\n",
    "\n",
    "save_model_path = './image_classification_29'\n",
    "n_samples = 4\n",
    "top_n_predictions = 3\n",
    "\n",
    "def test_model():\n",
    "    \"\"\"\n",
    "    Test the saved model against the test dataset\n",
    "    \"\"\"\n",
    "\n",
    "    test_features, test_labels = pickle.load(open('preprocess_training.p', mode='rb'))\n",
    "    loaded_graph = tf.Graph()\n",
    "\n",
    "    with tf.Session(graph=loaded_graph) as sess:\n",
    "        # Load model\n",
    "        loader = tf.train.import_meta_graph(save_model_path + '.meta')\n",
    "        loader.restore(sess, save_model_path)\n",
    "\n",
    "        # Get Tensors from loaded model\n",
    "        loaded_x = loaded_graph.get_tensor_by_name('x:0')\n",
    "        loaded_y = loaded_graph.get_tensor_by_name('y:0')\n",
    "        loaded_keep_prob = loaded_graph.get_tensor_by_name('keep_prob:0')\n",
    "        loaded_logits = loaded_graph.get_tensor_by_name('logits:0')\n",
    "        loaded_acc = loaded_graph.get_tensor_by_name('accuracy:0')\n",
    "        \n",
    "        # Get accuracy in batches for memory limitations\n",
    "        test_batch_acc_total = 0\n",
    "        test_batch_count = 0\n",
    "        \n",
    "        for train_feature_batch, train_label_batch in helper.batch_features_labels(test_features, test_labels, batch_size):\n",
    "            test_batch_acc_total += sess.run(\n",
    "                loaded_acc,\n",
    "                feed_dict={loaded_x: train_feature_batch, loaded_y: train_label_batch, loaded_keep_prob: 1.0})\n",
    "            test_batch_count += 1\n",
    "\n",
    "        print('Testing Accuracy: {}\\n'.format(test_batch_acc_total/test_batch_count))\n",
    "\n",
    "        # Print Random Samples\n",
    "        random_test_features, random_test_labels = tuple(zip(*random.sample(list(zip(test_features, test_labels)), n_samples)))\n",
    "        random_test_predictions = sess.run(\n",
    "            tf.nn.top_k(tf.nn.softmax(loaded_logits), top_n_predictions),\n",
    "            feed_dict={loaded_x: random_test_features, loaded_y: random_test_labels, loaded_keep_prob: 1.0})\n",
    "        helper.display_image_predictions(random_test_features, random_test_labels, random_test_predictions)\n",
    "\n",
    "\n",
    "test_model()"
   ]
  },
  {
   "cell_type": "markdown",
   "metadata": {},
   "source": [
    "*Performance of saved checkpoints are shown as below:*\n",
    "- *epoch 10: 63.72%*\n",
    "- *epoch 15: 65.47%*\n",
    "- *epoch 20: 66.02%*\n",
    "- *epoch 25: 66.61%*\n",
    "- *epoch 30: 66.46%*\n",
    "\n",
    "*Luckily we see drop in testing accuracy from epoch 25 to epoch 30. Actually to meet 50-80% accuracy requirement, any checkpoint from epoch 10 to epoch 30 is fine.*"
   ]
  },
  {
   "cell_type": "markdown",
   "metadata": {},
   "source": [
    "## Why 50-80% Accuracy?\n",
    "You might be wondering why you can't get an accuracy any higher. First things first, 50% isn't bad for a simple CNN.  Pure guessing would get you 10% accuracy. That's because there are many more techniques that can be applied to your model and we recemmond that once you are done with this project, you explore!\n",
    "\n",
    "## Submitting This Project\n",
    "When submitting this project, make sure to run all the cells before saving the notebook.  Save the notebook file as \"image_classification.ipynb\" and save it as a HTML file under \"File\" -> \"Download as\".  Include the \"helper.py\" and \"problem_unittests.py\" files in your submission."
   ]
  }
 ],
 "metadata": {
  "anaconda-cloud": {},
  "kernelspec": {
   "display_name": "Python [conda env:tf]",
   "language": "python",
   "name": "conda-env-tf-py"
  },
  "language_info": {
   "codemirror_mode": {
    "name": "ipython",
    "version": 3
   },
   "file_extension": ".py",
   "mimetype": "text/x-python",
   "name": "python",
   "nbconvert_exporter": "python",
   "pygments_lexer": "ipython3",
   "version": "3.5.3"
  }
 },
 "nbformat": 4,
 "nbformat_minor": 1
}
