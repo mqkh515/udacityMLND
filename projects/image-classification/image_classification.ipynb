{
 "cells": [
  {
   "cell_type": "markdown",
   "metadata": {
    "collapsed": true
   },
   "source": [
    "# Image Classification\n",
    "In this project, you'll classify images from the [CIFAR-10 dataset](https://www.cs.toronto.edu/~kriz/cifar.html).  The dataset consists of airplanes, dogs, cats, and other objects. You'll preprocess the images, then train a convolutional neural network on all the samples. The images need to be normalized and the labels need to be one-hot encoded.  You'll get to apply what you learned and build a convolutional, max pooling, dropout, and fully connected layers.  At the end, you'll get to see your neural network's predictions on the sample images.\n",
    "## Get the Data\n",
    "Run the following cell to download the [CIFAR-10 dataset for python](https://www.cs.toronto.edu/~kriz/cifar-10-python.tar.gz)."
   ]
  },
  {
   "cell_type": "code",
   "execution_count": 1,
   "metadata": {},
   "outputs": [
    {
     "name": "stdout",
     "output_type": "stream",
     "text": [
      "All files found!\n"
     ]
    }
   ],
   "source": [
    "\"\"\"\n",
    "DON'T MODIFY ANYTHING IN THIS CELL THAT IS BELOW THIS LINE\n",
    "\"\"\"\n",
    "from urllib.request import urlretrieve\n",
    "from os.path import isfile, isdir\n",
    "from tqdm import tqdm\n",
    "import problem_unittests as tests\n",
    "import tarfile\n",
    "\n",
    "cifar10_dataset_folder_path = 'cifar-10-batches-py'\n",
    "\n",
    "class DLProgress(tqdm):\n",
    "    last_block = 0\n",
    "\n",
    "    def hook(self, block_num=1, block_size=1, total_size=None):\n",
    "        self.total = total_size\n",
    "        self.update((block_num - self.last_block) * block_size)\n",
    "        self.last_block = block_num\n",
    "\n",
    "if not isfile('cifar-10-python.tar.gz'):\n",
    "    with DLProgress(unit='B', unit_scale=True, miniters=1, desc='CIFAR-10 Dataset') as pbar:\n",
    "        urlretrieve(\n",
    "            'https://www.cs.toronto.edu/~kriz/cifar-10-python.tar.gz',\n",
    "            'cifar-10-python.tar.gz',\n",
    "            pbar.hook)\n",
    "\n",
    "if not isdir(cifar10_dataset_folder_path):\n",
    "    with tarfile.open('cifar-10-python.tar.gz') as tar:\n",
    "        tar.extractall()\n",
    "        tar.close()\n",
    "\n",
    "\n",
    "tests.test_folder_path(cifar10_dataset_folder_path)"
   ]
  },
  {
   "cell_type": "markdown",
   "metadata": {},
   "source": [
    "## Explore the Data\n",
    "The dataset is broken into batches to prevent your machine from running out of memory.  The CIFAR-10 dataset consists of 5 batches, named `data_batch_1`, `data_batch_2`, etc.. Each batch contains the labels and images that are one of the following:\n",
    "* airplane\n",
    "* automobile\n",
    "* bird\n",
    "* cat\n",
    "* deer\n",
    "* dog\n",
    "* frog\n",
    "* horse\n",
    "* ship\n",
    "* truck\n",
    "\n",
    "Understanding a dataset is part of making predictions on the data.  Play around with the code cell below by changing the `batch_id` and `sample_id`. The `batch_id` is the id for a batch (1-5). The `sample_id` is the id for a image and label pair in the batch.\n",
    "\n",
    "Ask yourself \"What are all possible labels?\", \"What is the range of values for the image data?\", \"Are the labels in order or random?\".  Answers to questions like these will help you preprocess the data and end up with better predictions."
   ]
  },
  {
   "cell_type": "code",
   "execution_count": 2,
   "metadata": {},
   "outputs": [
    {
     "name": "stdout",
     "output_type": "stream",
     "text": [
      "\n",
      "Stats of batch 5:\n",
      "Samples: 10000\n",
      "Label Counts: {0: 1014, 1: 1014, 2: 952, 3: 1016, 4: 997, 5: 1025, 6: 980, 7: 977, 8: 1003, 9: 1022}\n",
      "First 20 Labels: [1, 8, 5, 1, 5, 7, 4, 3, 8, 2, 7, 2, 0, 1, 5, 9, 6, 2, 0, 8]\n",
      "\n",
      "Example of Image 100:\n",
      "Image - Min Value: 5 Max Value: 255\n",
      "Image - Shape: (32, 32, 3)\n",
      "Label - Label Id: 9 Name: truck\n"
     ]
    },
    {
     "data": {
      "image/png": "[encoded data removed]",
      "text/plain": [
       "<matplotlib.figure.Figure at 0x71eb909710>"
      ]
     },
     "metadata": {
      "image/png": {
       "height": 250,
       "width": 253
      }
     },
     "output_type": "display_data"
    }
   ],
   "source": [
    "%matplotlib inline\n",
    "%config InlineBackend.figure_format = 'retina'\n",
    "\n",
    "import helper\n",
    "import numpy as np\n",
    "\n",
    "# Explore the dataset\n",
    "batch_id = 5\n",
    "sample_id = 100\n",
    "helper.display_stats(cifar10_dataset_folder_path, batch_id, sample_id)"
   ]
  },
  {
   "cell_type": "markdown",
   "metadata": {},
   "source": [
    "## Implement Preprocess Functions\n",
    "### Normalize\n",
    "In the cell below, implement the `normalize` function to take in image data, `x`, and return it as a normalized Numpy array. The values should be in the range of 0 to 1, inclusive.  The return object should be the same shape as `x`."
   ]
  },
  {
   "cell_type": "code",
   "execution_count": 3,
   "metadata": {},
   "outputs": [
    {
     "name": "stdout",
     "output_type": "stream",
     "text": [
      "Tests Passed\n"
     ]
    }
   ],
   "source": [
    "def normalize(x):\n",
    "    \"\"\"\n",
    "    Normalize a list of sample image data in the range of 0 to 1\n",
    "    : x: List of image data.  The image shape is (32, 32, 3)\n",
    "    : return: Numpy array of normalize data\n",
    "    \"\"\"\n",
    "    out = x / 255.0\n",
    "    return out\n",
    "\n",
    "\n",
    "\"\"\"\n",
    "DON'T MODIFY ANYTHING IN THIS CELL THAT IS BELOW THIS LINE\n",
    "\"\"\"\n",
    "tests.test_normalize(normalize)"
   ]
  },
  {
   "cell_type": "markdown",
   "metadata": {},
   "source": [
    "### One-hot encode\n",
    "Just like the previous code cell, you'll be implementing a function for preprocessing.  This time, you'll implement the `one_hot_encode` function. The input, `x`, are a list of labels.  Implement the function to return the list of labels as One-Hot encoded Numpy array.  The possible values for labels are 0 to 9. The one-hot encoding function should return the same encoding for each value between each call to `one_hot_encode`.  Make sure to save the map of encodings outside the function.\n",
    "\n",
    "**Hint:**\n",
    "\n",
    "Look into LabelBinarizer in the preprocessing module of sklearn."
   ]
  },
  {
   "cell_type": "code",
   "execution_count": 4,
   "metadata": {},
   "outputs": [
    {
     "name": "stdout",
     "output_type": "stream",
     "text": [
      "Tests Passed\n"
     ]
    }
   ],
   "source": [
    "def one_hot_encode(x):\n",
    "    \"\"\"\n",
    "    One hot encode a list of sample labels. Return a one-hot encoded vector for each label.\n",
    "    : x: List of sample Labels\n",
    "    : return: Numpy array of one-hot encoded labels\n",
    "    \"\"\"\n",
    "    x = np.array(x)\n",
    "    n_samples = x.shape[0]\n",
    "    out = np.zeros((n_samples, 10))\n",
    "    out[np.array(range(n_samples)), x] = 1\n",
    "    return out.astype(int)\n",
    "\n",
    "\n",
    "\"\"\"\n",
    "DON'T MODIFY ANYTHING IN THIS CELL THAT IS BELOW THIS LINE\n",
    "\"\"\"\n",
    "tests.test_one_hot_encode(one_hot_encode)"
   ]
  },
  {
   "cell_type": "markdown",
   "metadata": {},
   "source": [
    "### Randomize Data\n",
    "As you saw from exploring the data above, the order of the samples are randomized.  It doesn't hurt to randomize it again, but you don't need to for this dataset."
   ]
  },
  {
   "cell_type": "markdown",
   "metadata": {},
   "source": [
    "## Preprocess all the data and save it\n",
    "Running the code cell below will preprocess all the CIFAR-10 data and save it to file. The code below also uses 10% of the training data for validation."
   ]
  },
  {
   "cell_type": "code",
   "execution_count": 5,
   "metadata": {
    "collapsed": true
   },
   "outputs": [],
   "source": [
    "\"\"\"\n",
    "DON'T MODIFY ANYTHING IN THIS CELL\n",
    "\"\"\"\n",
    "# Preprocess Training, Validation, and Testing Data\n",
    "helper.preprocess_and_save_data(cifar10_dataset_folder_path, normalize, one_hot_encode)"
   ]
  },
  {
   "cell_type": "markdown",
   "metadata": {},
   "source": [
    "# Check Point\n",
    "This is your first checkpoint.  If you ever decide to come back to this notebook or have to restart the notebook, you can start from here.  The preprocessed data has been saved to disk."
   ]
  },
  {
   "cell_type": "code",
   "execution_count": 1,
   "metadata": {
    "collapsed": true
   },
   "outputs": [],
   "source": [
    "\"\"\"\n",
    "DON'T MODIFY ANYTHING IN THIS CELL\n",
    "\"\"\"\n",
    "import pickle\n",
    "import problem_unittests as tests\n",
    "import helper\n",
    "\n",
    "# Load the Preprocessed Validation data\n",
    "valid_features, valid_labels = pickle.load(open('preprocess_validation.p', mode='rb'))"
   ]
  },
  {
   "cell_type": "markdown",
   "metadata": {},
   "source": [
    "## Build the network\n",
    "For the neural network, you'll build each layer into a function.  Most of the code you've seen has been outside of functions. To test your code more thoroughly, we require that you put each layer in a function.  This allows us to give you better feedback and test for simple mistakes using our unittests before you submit your project.\n",
    "\n",
    ">**Note:** If you're finding it hard to dedicate enough time for this course each week, we've provided a small shortcut to this part of the project. In the next couple of problems, you'll have the option to use classes from the [TensorFlow Layers](https://www.tensorflow.org/api_docs/python/tf/layers) or [TensorFlow Layers (contrib)](https://www.tensorflow.org/api_guides/python/contrib.layers) packages to build each layer, except the layers you build in the \"Convolutional and Max Pooling Layer\" section.  TF Layers is similar to Keras's and TFLearn's abstraction to layers, so it's easy to pickup.\n",
    "\n",
    ">However, if you would like to get the most out of this course, try to solve all the problems _without_ using anything from the TF Layers packages. You **can** still use classes from other packages that happen to have the same name as ones you find in TF Layers! For example, instead of using the TF Layers version of the `conv2d` class, [tf.layers.conv2d](https://www.tensorflow.org/api_docs/python/tf/layers/conv2d), you would want to use the TF Neural Network version of `conv2d`, [tf.nn.conv2d](https://www.tensorflow.org/api_docs/python/tf/nn/conv2d). \n",
    "\n",
    "Let's begin!\n",
    "\n",
    "### Input\n",
    "The neural network needs to read the image data, one-hot encoded labels, and dropout keep probability. Implement the following functions\n",
    "* Implement `neural_net_image_input`\n",
    " * Return a [TF Placeholder](https://www.tensorflow.org/api_docs/python/tf/placeholder)\n",
    " * Set the shape using `image_shape` with batch size set to `None`.\n",
    " * Name the TensorFlow placeholder \"x\" using the TensorFlow `name` parameter in the [TF Placeholder](https://www.tensorflow.org/api_docs/python/tf/placeholder).\n",
    "* Implement `neural_net_label_input`\n",
    " * Return a [TF Placeholder](https://www.tensorflow.org/api_docs/python/tf/placeholder)\n",
    " * Set the shape using `n_classes` with batch size set to `None`.\n",
    " * Name the TensorFlow placeholder \"y\" using the TensorFlow `name` parameter in the [TF Placeholder](https://www.tensorflow.org/api_docs/python/tf/placeholder).\n",
    "* Implement `neural_net_keep_prob_input`\n",
    " * Return a [TF Placeholder](https://www.tensorflow.org/api_docs/python/tf/placeholder) for dropout keep probability.\n",
    " * Name the TensorFlow placeholder \"keep_prob\" using the TensorFlow `name` parameter in the [TF Placeholder](https://www.tensorflow.org/api_docs/python/tf/placeholder).\n",
    "\n",
    "These names will be used at the end of the project to load your saved model.\n",
    "\n",
    "Note: `None` for shapes in TensorFlow allow for a dynamic size."
   ]
  },
  {
   "cell_type": "code",
   "execution_count": 2,
   "metadata": {},
   "outputs": [
    {
     "name": "stdout",
     "output_type": "stream",
     "text": [
      "Image Input Tests Passed.\n",
      "Label Input Tests Passed.\n",
      "Keep Prob Tests Passed.\n"
     ]
    }
   ],
   "source": [
    "import tensorflow as tf\n",
    "\n",
    "def neural_net_image_input(image_shape):\n",
    "    \"\"\"\n",
    "    Return a Tensor for a batch of image input\n",
    "    : image_shape: Shape of the images\n",
    "    : return: Tensor for image input.\n",
    "    \"\"\"\n",
    "    # TODO: Implement Function\n",
    "    out = tf.placeholder(tf.float32, [None] + list(image_shape), name='x')\n",
    "    return out\n",
    "\n",
    "\n",
    "def neural_net_label_input(n_classes):\n",
    "    \"\"\"\n",
    "    Return a Tensor for a batch of label input\n",
    "    : n_classes: Number of classes\n",
    "    : return: Tensor for label input.\n",
    "    \"\"\"\n",
    "    # TODO: Implement Function\n",
    "    out = tf.placeholder(tf.float32, [None, n_classes], name='y')\n",
    "    return out\n",
    "\n",
    "\n",
    "def neural_net_keep_prob_input():\n",
    "    \"\"\"\n",
    "    Return a Tensor for keep probability\n",
    "    : return: Tensor for keep probability.\n",
    "    \"\"\"\n",
    "    # TODO: Implement Function\n",
    "    out = tf.placeholder(tf.float32, name='keep_prob')\n",
    "    return out\n",
    "\n",
    "\n",
    "\"\"\"\n",
    "DON'T MODIFY ANYTHING IN THIS CELL THAT IS BELOW THIS LINE\n",
    "\"\"\"\n",
    "tf.reset_default_graph()\n",
    "tests.test_nn_image_inputs(neural_net_image_input)\n",
    "tests.test_nn_label_inputs(neural_net_label_input)\n",
    "tests.test_nn_keep_prob_inputs(neural_net_keep_prob_input)"
   ]
  },
  {
   "cell_type": "markdown",
   "metadata": {},
   "source": [
    "### Convolution and Max Pooling Layer\n",
    "Convolution layers have a lot of success with images. For this code cell, you should implement the function `conv2d_maxpool` to apply convolution then max pooling:\n",
    "* Create the weight and bias using `conv_ksize`, `conv_num_outputs` and the shape of `x_tensor`.\n",
    "* Apply a convolution to `x_tensor` using weight and `conv_strides`.\n",
    " * We recommend you use same padding, but you're welcome to use any padding.\n",
    "* Add bias\n",
    "* Add a nonlinear activation to the convolution.\n",
    "* Apply Max Pooling using `pool_ksize` and `pool_strides`.\n",
    " * We recommend you use same padding, but you're welcome to use any padding.\n",
    "\n",
    "**Note:** You **can't** use [TensorFlow Layers](https://www.tensorflow.org/api_docs/python/tf/layers) or [TensorFlow Layers (contrib)](https://www.tensorflow.org/api_guides/python/contrib.layers) for **this** layer, but you can still use TensorFlow's [Neural Network](https://www.tensorflow.org/api_docs/python/tf/nn) package. You may still use the shortcut option for all the **other** layers.\n",
    "\n",
    "** Hint: **\n",
    "\n",
    "When unpacking values as an argument in Python, look into the [unpacking](https://docs.python.org/3/tutorial/controlflow.html#unpacking-argument-lists) operator. "
   ]
  },
  {
   "cell_type": "code",
   "execution_count": 3,
   "metadata": {},
   "outputs": [
    {
     "name": "stdout",
     "output_type": "stream",
     "text": [
      "Tests Passed\n"
     ]
    }
   ],
   "source": [
    "import math\n",
    "\n",
    "def conv2d_maxpool(x_tensor, conv_num_outputs, conv_ksize, conv_strides, pool_ksize, pool_strides):\n",
    "    \"\"\"\n",
    "    Apply convolution then max pooling to x_tensor\n",
    "    :param x_tensor: TensorFlow Tensor\n",
    "    :param conv_num_outputs: Number of outputs for the convolutional layer\n",
    "    :param conv_ksize: kernal size 2-D Tuple for the convolutional layer\n",
    "    :param conv_strides: Stride 2-D Tuple for convolution\n",
    "    :param pool_ksize: kernal size 2-D Tuple for pool\n",
    "    :param pool_strides: Stride 2-D Tuple for pool\n",
    "    : return: A tensor that represents convolution and max pooling of x_tensor\n",
    "    \"\"\"\n",
    "    # TODO: Implement Function\n",
    "    # parameters\n",
    "    # use Relu activation, scale weight initialization with Xaiver initialization using only input connections\n",
    "    scaler = 1.0\n",
    "    for dim in x_tensor.shape[1:]:\n",
    "        # assuming first dim of input is n_sample\n",
    "        scaler *= float(dim.value)\n",
    "    weights = tf.Variable(tf.truncated_normal(conv_ksize + (x_tensor.shape[-1].value, conv_num_outputs), 0.0, math.sqrt(2.0 / scaler)), name='weights')\n",
    "    bias = tf.Variable(tf.zeros([conv_num_outputs]), name='bias') \n",
    "    \n",
    "    # tensors\n",
    "    x1 = tf.nn.conv2d(x_tensor, weights, strides=[1, *conv_strides, 1], padding='SAME', name='conv')\n",
    "    x2 = tf.nn.bias_add(x1, bias, name='score')\n",
    "    x3 = tf.nn.relu(x2, name='relu')\n",
    "    x4 = tf.nn.max_pool(x3, ksize=[1, *pool_ksize, 1], strides=[1, *pool_strides, 1], padding='SAME')\n",
    "    return x4 \n",
    "\n",
    "\n",
    "\"\"\"\n",
    "DON'T MODIFY ANYTHING IN THIS CELL THAT IS BELOW THIS LINE\n",
    "\"\"\"\n",
    "tests.test_con_pool(conv2d_maxpool)"
   ]
  },
  {
   "cell_type": "markdown",
   "metadata": {},
   "source": [
    "### Flatten Layer\n",
    "Implement the `flatten` function to change the dimension of `x_tensor` from a 4-D tensor to a 2-D tensor.  The output should be the shape (*Batch Size*, *Flattened Image Size*). Shortcut option: you can use classes from the [TensorFlow Layers](https://www.tensorflow.org/api_docs/python/tf/layers) or [TensorFlow Layers (contrib)](https://www.tensorflow.org/api_guides/python/contrib.layers) packages for this layer. For more of a challenge, only use other TensorFlow packages."
   ]
  },
  {
   "cell_type": "code",
   "execution_count": 4,
   "metadata": {},
   "outputs": [
    {
     "name": "stdout",
     "output_type": "stream",
     "text": [
      "Tests Passed\n"
     ]
    }
   ],
   "source": [
    "def flatten(x_tensor):\n",
    "    \"\"\"\n",
    "    Flatten x_tensor to (Batch Size, Flattened Image Size)\n",
    "    : x_tensor: A tensor of size (Batch Size, ...), where ... are the image dimensions.\n",
    "    : return: A tensor of size (Batch Size, Flattened Image Size).\n",
    "    \"\"\"\n",
    "    # TODO: Implement Function\n",
    "    # out = tf.contrib.layers.flatten(x_tensor)  # shortcut\n",
    "    flatten_dim = 1\n",
    "    for dim in x_tensor.shape[1:]:\n",
    "        # assuming first dim of input is n_sample\n",
    "        flatten_dim *= dim.value\n",
    "    out = tf.reshape(x_tensor, [-1, flatten_dim])\n",
    "    return out\n",
    "\n",
    "\n",
    "\"\"\"\n",
    "DON'T MODIFY ANYTHING IN THIS CELL THAT IS BELOW THIS LINE\n",
    "\"\"\"\n",
    "tests.test_flatten(flatten)"
   ]
  },
  {
   "cell_type": "markdown",
   "metadata": {},
   "source": [
    "### Fully-Connected Layer\n",
    "Implement the `fully_conn` function to apply a fully connected layer to `x_tensor` with the shape (*Batch Size*, *num_outputs*). Shortcut option: you can use classes from the [TensorFlow Layers](https://www.tensorflow.org/api_docs/python/tf/layers) or [TensorFlow Layers (contrib)](https://www.tensorflow.org/api_guides/python/contrib.layers) packages for this layer. For more of a challenge, only use other TensorFlow packages."
   ]
  },
  {
   "cell_type": "code",
   "execution_count": 5,
   "metadata": {},
   "outputs": [
    {
     "name": "stdout",
     "output_type": "stream",
     "text": [
      "Tests Passed\n"
     ]
    }
   ],
   "source": [
    "def fully_conn(x_tensor, num_outputs):\n",
    "    \"\"\"\n",
    "    Apply a fully connected layer to x_tensor using weight and bias\n",
    "    : x_tensor: A 2-D tensor where the first dimension is batch size.\n",
    "    : num_outputs: The number of output that the new tensor should be.\n",
    "    : return: A 2-D tensor where the second dimension is num_outputs.\n",
    "    \"\"\"\n",
    "    # TODO: Implement Function\n",
    "    # out = tf.contrib.layers.fully_connected(x_tensor, num_outputs)  # shortcut\n",
    "    \n",
    "    # parameters\n",
    "    flatten_dim = x_tensor.shape[1].value\n",
    "    weights = tf.Variable(tf.truncated_normal((flatten_dim, num_outputs), 0.0, math.sqrt(2.0 / float(flatten_dim))), name='weights')\n",
    "    bias = tf.Variable(tf.zeros([num_outputs]), name='bias') \n",
    "    \n",
    "    # tensors\n",
    "    x1 = tf.matmul(x_tensor, weights)\n",
    "    x2 = tf.nn.bias_add(x1, bias, name='score')\n",
    "    x3 = tf.nn.relu(x2, name='relu')  # keep relu activation as default in tf.contrib.layers\n",
    "    return x3\n",
    "\n",
    "\n",
    "\"\"\"\n",
    "DON'T MODIFY ANYTHING IN THIS CELL THAT IS BELOW THIS LINE\n",
    "\"\"\"\n",
    "tests.test_fully_conn(fully_conn)"
   ]
  },
  {
   "cell_type": "markdown",
   "metadata": {},
   "source": [
    "### Output Layer\n",
    "Implement the `output` function to apply a fully connected layer to `x_tensor` with the shape (*Batch Size*, *num_outputs*). Shortcut option: you can use classes from the [TensorFlow Layers](https://www.tensorflow.org/api_docs/python/tf/layers) or [TensorFlow Layers (contrib)](https://www.tensorflow.org/api_guides/python/contrib.layers) packages for this layer. For more of a challenge, only use other TensorFlow packages.\n",
    "\n",
    "**Note:** Activation, softmax, or cross entropy should **not** be applied to this."
   ]
  },
  {
   "cell_type": "code",
   "execution_count": 6,
   "metadata": {},
   "outputs": [
    {
     "name": "stdout",
     "output_type": "stream",
     "text": [
      "Tests Passed\n"
     ]
    }
   ],
   "source": [
    "def output(x_tensor, num_outputs):\n",
    "    \"\"\"\n",
    "    Apply a output layer to x_tensor using weight and bias\n",
    "    : x_tensor: A 2-D tensor where the first dimension is batch size.\n",
    "    : num_outputs: The number of output that the new tensor should be.\n",
    "    : return: A 2-D tensor where the second dimension is num_outputs.\n",
    "    \"\"\"\n",
    "    # TODO: Implement Function\n",
    "    # parameters\n",
    "    flatten_dim = x_tensor.shape[1].value\n",
    "    weights = tf.Variable(tf.truncated_normal((flatten_dim, num_outputs), 0.0, math.sqrt(2.0 / float(flatten_dim))), name='weights')\n",
    "    bias = tf.Variable(tf.zeros([num_outputs]), name='bias') \n",
    "    \n",
    "    # tensors\n",
    "    x1 = tf.matmul(x_tensor, weights)\n",
    "    x2 = tf.nn.bias_add(x1, bias, name='score')\n",
    "    return x2\n",
    "\n",
    "\n",
    "\"\"\"\n",
    "DON'T MODIFY ANYTHING IN THIS CELL THAT IS BELOW THIS LINE\n",
    "\"\"\"\n",
    "tests.test_output(output)"
   ]
  },
  {
   "cell_type": "markdown",
   "metadata": {},
   "source": [
    "### Create Convolutional Model\n",
    "Implement the function `conv_net` to create a convolutional neural network model. The function takes in a batch of images, `x`, and outputs logits.  Use the layers you created above to create this model:\n",
    "\n",
    "* Apply 1, 2, or 3 Convolution and Max Pool layers\n",
    "* Apply a Flatten Layer\n",
    "* Apply 1, 2, or 3 Fully Connected Layers\n",
    "* Apply an Output Layer\n",
    "* Return the output\n",
    "* Apply [TensorFlow's Dropout](https://www.tensorflow.org/api_docs/python/tf/nn/dropout) to one or more layers in the model using `keep_prob`. "
   ]
  },
  {
   "cell_type": "code",
   "execution_count": 7,
   "metadata": {},
   "outputs": [
    {
     "name": "stdout",
     "output_type": "stream",
     "text": [
      "Neural Network Built!\n"
     ]
    }
   ],
   "source": [
    "def conv_net(x, keep_prob):\n",
    "    \"\"\"\n",
    "    Create a convolutional neural network model\n",
    "    : x: Placeholder tensor that holds image data.\n",
    "    : keep_prob: Placeholder tensor that hold dropout keep probability.\n",
    "    : return: Tensor that represents logits\n",
    "    \"\"\"\n",
    "    # TODO: Apply 1, 2, or 3 Convolution and Max Pool layers\n",
    "    #    Play around with different number of outputs, kernel size and stride\n",
    "    # Function Definition from Above:\n",
    "    #    conv2d_maxpool(x_tensor, conv_num_outputs, conv_ksize, conv_strides, pool_ksize, pool_strides)\n",
    "    conv1_layer = conv2d_maxpool(x, 64, (3,3), (1,1), (2,2), (2,2))\n",
    "#     conv2_layer = conv2d_maxpool(conv1_layer, 128, (3,3), (1,1), (2,2), (2,2))\n",
    "    \n",
    "\n",
    "    # TODO: Apply a Flatten Layer\n",
    "    # Function Definition from Above:\n",
    "    #   flatten(x_tensor)\n",
    "    flat_layer = flatten(conv1_layer)\n",
    "    \n",
    "\n",
    "    # TODO: Apply 1, 2, or 3 Fully Connected Layers\n",
    "    #    Play around with different number of outputs\n",
    "    # Function Definition from Above:\n",
    "    #   fully_conn(x_tensor, num_outputs)\n",
    "    full1_layer = fully_conn(flat_layer, 256)\n",
    "    full1_layer_dropout = tf.nn.dropout(full1_layer, keep_prob)\n",
    "#     full2_layer = fully_conn(full1_layer_dropout, 64)\n",
    "#     full2_layer_dropout = tf.nn.dropout(full2_layer, keep_prob)\n",
    "    \n",
    "    \n",
    "    # TODO: Apply an Output Layer\n",
    "    #    Set this to the number of classes\n",
    "    # Function Definition from Above:\n",
    "    #   output(x_tensor, num_outputs)\n",
    "    out_layer = output(full1_layer_dropout, 10)\n",
    "    \n",
    "    # TODO: return output\n",
    "    return out_layer\n",
    "\n",
    "\n",
    "\"\"\"\n",
    "DON'T MODIFY ANYTHING IN THIS CELL THAT IS BELOW THIS LINE\n",
    "\"\"\"\n",
    "\n",
    "##############################\n",
    "## Build the Neural Network ##\n",
    "##############################\n",
    "\n",
    "# Remove previous weights, bias, inputs, etc..\n",
    "tf.reset_default_graph()\n",
    "\n",
    "# Inputs\n",
    "x = neural_net_image_input((32, 32, 3))\n",
    "y = neural_net_label_input(10)\n",
    "keep_prob = neural_net_keep_prob_input()\n",
    "\n",
    "# Model\n",
    "logits = conv_net(x, keep_prob)\n",
    "\n",
    "# Name logits Tensor, so that is can be loaded from disk after training\n",
    "logits = tf.identity(logits, name='logits')\n",
    "\n",
    "# Loss and Optimizer\n",
    "cost = tf.reduce_mean(tf.nn.softmax_cross_entropy_with_logits(logits=logits, labels=y))\n",
    "optimizer = tf.train.AdamOptimizer().minimize(cost)\n",
    "\n",
    "# Accuracy\n",
    "correct_pred = tf.equal(tf.argmax(logits, 1), tf.argmax(y, 1))\n",
    "accuracy = tf.reduce_mean(tf.cast(correct_pred, tf.float32), name='accuracy')\n",
    "\n",
    "tests.test_conv_net(conv_net)"
   ]
  },
  {
   "cell_type": "markdown",
   "metadata": {},
   "source": [
    "## Train the Neural Network\n",
    "### Single Optimization\n",
    "Implement the function `train_neural_network` to do a single optimization.  The optimization should use `optimizer` to optimize in `session` with a `feed_dict` of the following:\n",
    "* `x` for image input\n",
    "* `y` for labels\n",
    "* `keep_prob` for keep probability for dropout\n",
    "\n",
    "This function will be called for each batch, so `tf.global_variables_initializer()` has already been called.\n",
    "\n",
    "Note: Nothing needs to be returned. This function is only optimizing the neural network."
   ]
  },
  {
   "cell_type": "code",
   "execution_count": 8,
   "metadata": {},
   "outputs": [
    {
     "name": "stdout",
     "output_type": "stream",
     "text": [
      "Tests Passed\n"
     ]
    }
   ],
   "source": [
    "def train_neural_network(session, optimizer, keep_probability, feature_batch, label_batch):\n",
    "    \"\"\"\n",
    "    Optimize the session on a batch of images and labels\n",
    "    : session: Current TensorFlow session\n",
    "    : optimizer: TensorFlow optimizer function\n",
    "    : keep_probability: keep probability\n",
    "    : feature_batch: Batch of Numpy image data\n",
    "    : label_batch: Batch of Numpy label data\n",
    "    \"\"\"\n",
    "    # TODO: Implement Function\n",
    "    session.run(optimizer, feed_dict={keep_prob: keep_probability, x: feature_batch, y: label_batch})\n",
    "\n",
    "\n",
    "\"\"\"\n",
    "DON'T MODIFY ANYTHING IN THIS CELL THAT IS BELOW THIS LINE\n",
    "\"\"\"\n",
    "tests.test_train_nn(train_neural_network)"
   ]
  },
  {
   "cell_type": "markdown",
   "metadata": {},
   "source": [
    "### Show Stats\n",
    "Implement the function `print_stats` to print loss and validation accuracy.  Use the global variables `valid_features` and `valid_labels` to calculate validation accuracy.  Use a keep probability of `1.0` to calculate the loss and validation accuracy."
   ]
  },
  {
   "cell_type": "code",
   "execution_count": 9,
   "metadata": {
    "collapsed": true
   },
   "outputs": [],
   "source": [
    "def print_stats(session, feature_batch, label_batch, cost, accuracy):\n",
    "    \"\"\"\n",
    "    Print information about loss and validation accuracy\n",
    "    : session: Current TensorFlow session\n",
    "    : feature_batch: Batch of Numpy image data\n",
    "    : label_batch: Batch of Numpy label data\n",
    "    : cost: TensorFlow cost function\n",
    "    : accuracy: TensorFlow accuracy function\n",
    "    \"\"\"\n",
    "    # TODO: Implement Function\n",
    "    cost_val = session.run(cost, feed_dict={keep_prob: 1.0, x: feature_batch, y: label_batch})\n",
    "    accuracy_val = session.run(accuracy, feed_dict={keep_prob: 1.0, x: valid_features, y: valid_labels})\n",
    "    \n",
    "    print('batch cost: %4.4f; validation accuracy: %4.4f' % (cost_val, accuracy_val))"
   ]
  },
  {
   "cell_type": "markdown",
   "metadata": {},
   "source": [
    "### Hyperparameters\n",
    "Tune the following parameters:\n",
    "* Set `epochs` to the number of iterations until the network stops learning or start overfitting\n",
    "* Set `batch_size` to the highest number that your machine has memory for.  Most people set them to common sizes of memory:\n",
    " * 64\n",
    " * 128\n",
    " * 256\n",
    " * ...\n",
    "* Set `keep_probability` to the probability of keeping a node using dropout"
   ]
  },
  {
   "cell_type": "code",
   "execution_count": 10,
   "metadata": {
    "collapsed": true
   },
   "outputs": [],
   "source": [
    "# TODO: Tune Parameters\n",
    "epochs = 50\n",
    "batch_size = 512\n",
    "keep_probability = 0.5"
   ]
  },
  {
   "cell_type": "markdown",
   "metadata": {},
   "source": [
    "### Train on a Single CIFAR-10 Batch\n",
    "Instead of training the neural network on all the CIFAR-10 batches of data, let's use a single batch. This should save time while you iterate on the model to get a better accuracy.  Once the final validation accuracy is 50% or greater, run the model on all the data in the next section."
   ]
  },
  {
   "cell_type": "code",
   "execution_count": 11,
   "metadata": {},
   "outputs": [
    {
     "name": "stdout",
     "output_type": "stream",
     "text": [
      "Checking the Training on a Single Batch...\n",
      "Epoch  1, CIFAR-10 Batch 1:  batch cost: 1.9928; validation accuracy: 0.3084\n",
      "Epoch  2, CIFAR-10 Batch 1:  batch cost: 1.8408; validation accuracy: 0.3788\n",
      "Epoch  3, CIFAR-10 Batch 1:  batch cost: 1.7045; validation accuracy: 0.4146\n",
      "Epoch  4, CIFAR-10 Batch 1:  batch cost: 1.5728; validation accuracy: 0.4416\n",
      "Epoch  5, CIFAR-10 Batch 1:  batch cost: 1.4804; validation accuracy: 0.4690\n",
      "Epoch  6, CIFAR-10 Batch 1:  batch cost: 1.4064; validation accuracy: 0.4754\n",
      "Epoch  7, CIFAR-10 Batch 1:  batch cost: 1.3313; validation accuracy: 0.4900\n",
      "Epoch  8, CIFAR-10 Batch 1:  batch cost: 1.2666; validation accuracy: 0.5056\n",
      "Epoch  9, CIFAR-10 Batch 1:  batch cost: 1.2089; validation accuracy: 0.5152\n",
      "Epoch 10, CIFAR-10 Batch 1:  batch cost: 1.1408; validation accuracy: 0.5246\n",
      "Epoch 11, CIFAR-10 Batch 1:  batch cost: 1.0876; validation accuracy: 0.5292\n",
      "Epoch 12, CIFAR-10 Batch 1:  batch cost: 1.0512; validation accuracy: 0.5350\n",
      "Epoch 13, CIFAR-10 Batch 1:  batch cost: 0.9876; validation accuracy: 0.5366\n",
      "Epoch 14, CIFAR-10 Batch 1:  batch cost: 0.9566; validation accuracy: 0.5382\n",
      "Epoch 15, CIFAR-10 Batch 1:  batch cost: 0.9055; validation accuracy: 0.5474\n",
      "Epoch 16, CIFAR-10 Batch 1:  batch cost: 0.8763; validation accuracy: 0.5402\n",
      "Epoch 17, CIFAR-10 Batch 1:  batch cost: 0.8221; validation accuracy: 0.5480\n",
      "Epoch 18, CIFAR-10 Batch 1:  batch cost: 0.7821; validation accuracy: 0.5548\n",
      "Epoch 19, CIFAR-10 Batch 1:  batch cost: 0.7472; validation accuracy: 0.5566\n",
      "Epoch 20, CIFAR-10 Batch 1:  batch cost: 0.7053; validation accuracy: 0.5600\n",
      "Epoch 21, CIFAR-10 Batch 1:  batch cost: 0.6803; validation accuracy: 0.5654\n",
      "Epoch 22, CIFAR-10 Batch 1:  batch cost: 0.6491; validation accuracy: 0.5640\n",
      "Epoch 23, CIFAR-10 Batch 1:  batch cost: 0.6035; validation accuracy: 0.5602\n",
      "Epoch 24, CIFAR-10 Batch 1:  batch cost: 0.5816; validation accuracy: 0.5602\n",
      "Epoch 25, CIFAR-10 Batch 1:  batch cost: 0.5539; validation accuracy: 0.5728\n",
      "Epoch 26, CIFAR-10 Batch 1:  batch cost: 0.5268; validation accuracy: 0.5638\n",
      "Epoch 27, CIFAR-10 Batch 1:  batch cost: 0.4932; validation accuracy: 0.5674\n",
      "Epoch 28, CIFAR-10 Batch 1:  batch cost: 0.4810; validation accuracy: 0.5686\n",
      "Epoch 29, CIFAR-10 Batch 1:  batch cost: 0.4350; validation accuracy: 0.5686\n",
      "Epoch 30, CIFAR-10 Batch 1:  batch cost: 0.4370; validation accuracy: 0.5596\n",
      "Epoch 31, CIFAR-10 Batch 1:  batch cost: 0.4102; validation accuracy: 0.5642\n",
      "Epoch 32, CIFAR-10 Batch 1:  batch cost: 0.3979; validation accuracy: 0.5620\n",
      "Epoch 33, CIFAR-10 Batch 1:  batch cost: 0.4138; validation accuracy: 0.5534\n",
      "Epoch 34, CIFAR-10 Batch 1:  batch cost: 0.4192; validation accuracy: 0.5460\n",
      "Epoch 35, CIFAR-10 Batch 1:  batch cost: 0.3948; validation accuracy: 0.5494\n",
      "Epoch 36, CIFAR-10 Batch 1:  batch cost: 0.3757; validation accuracy: 0.5548\n",
      "Epoch 37, CIFAR-10 Batch 1:  batch cost: 0.2991; validation accuracy: 0.5668\n",
      "Epoch 38, CIFAR-10 Batch 1:  batch cost: 0.2957; validation accuracy: 0.5662\n",
      "Epoch 39, CIFAR-10 Batch 1:  batch cost: 0.2590; validation accuracy: 0.5748\n",
      "Epoch 40, CIFAR-10 Batch 1:  batch cost: 0.2410; validation accuracy: 0.5810\n",
      "Epoch 41, CIFAR-10 Batch 1:  batch cost: 0.2334; validation accuracy: 0.5848\n",
      "Epoch 42, CIFAR-10 Batch 1:  batch cost: 0.2178; validation accuracy: 0.5792\n",
      "Epoch 43, CIFAR-10 Batch 1:  batch cost: 0.2082; validation accuracy: 0.5818\n",
      "Epoch 44, CIFAR-10 Batch 1:  batch cost: 0.1935; validation accuracy: 0.5750\n",
      "Epoch 45, CIFAR-10 Batch 1:  batch cost: 0.1863; validation accuracy: 0.5704\n",
      "Epoch 46, CIFAR-10 Batch 1:  batch cost: 0.1628; validation accuracy: 0.5710\n",
      "Epoch 47, CIFAR-10 Batch 1:  batch cost: 0.1692; validation accuracy: 0.5676\n",
      "Epoch 48, CIFAR-10 Batch 1:  batch cost: 0.1623; validation accuracy: 0.5726\n",
      "Epoch 49, CIFAR-10 Batch 1:  batch cost: 0.1523; validation accuracy: 0.5704\n",
      "Epoch 50, CIFAR-10 Batch 1:  batch cost: 0.1523; validation accuracy: 0.5794\n"
     ]
    }
   ],
   "source": [
    "\"\"\"\n",
    "DON'T MODIFY ANYTHING IN THIS CELL\n",
    "\"\"\"\n",
    "print('Checking the Training on a Single Batch...')\n",
    "with tf.Session() as sess:\n",
    "    # Initializing the variables\n",
    "    sess.run(tf.global_variables_initializer())\n",
    "    \n",
    "    # Training cycle\n",
    "    for epoch in range(epochs):\n",
    "        batch_i = 1\n",
    "        for batch_features, batch_labels in helper.load_preprocess_training_batch(batch_i, batch_size):\n",
    "            train_neural_network(sess, optimizer, keep_probability, batch_features, batch_labels)\n",
    "        print('Epoch {:>2}, CIFAR-10 Batch {}:  '.format(epoch + 1, batch_i), end='')\n",
    "        print_stats(sess, batch_features, batch_labels, cost, accuracy)"
   ]
  },
  {
   "cell_type": "markdown",
   "metadata": {},
   "source": [
    "*I tried 2 versions of models:*\n",
    "\n",
    "*One complex one:*\n",
    "- *conv 5 * 5 filter and 64 feature maps*\n",
    "- *conv 3 * 3 filter and 128 feature maps*\n",
    "- *fully connected layer to 128 neurons.*\n",
    "\n",
    "*One simple one:*\n",
    "- *conv 3 * 3 filter and 64 feature maps*\n",
    "- *fully connect layer to 256 neurons*\n",
    "\n",
    "*What I observe:*\n",
    "- *complex model starts off with a higher cost and lower accuracy. But speed of improvement of cost and accuracy depends on the specifics of the structure, not necessarily slower than a simpler one.*\n",
    "- *train the simple model 50 epochs and the training cost continues to go down, meaning it is good enough to overfit the dataset.*\n",
    "- *with simple model, validation accuracy flattens around 56% from epoch 20 to epoch 36, and then improves to around 57% later on, it is not clear whether it could further improve, but it takes a bit too long on my personal computer. Now, it looks a bit low to achieve 50% ~ 80% accuracy in test data set. Yet I don't see obsevable improvement with the complex model, so I go with the simple one.*\n",
    "- *when training with all 5 batches, 40 epochs with one batch correpsonds to 8 epochs with 5. But considering the improvement in richness of data, I would extend it to, say, 10 epochs.*\n",
    "- *BTW, I see the batch cost goes to nan from time to time (when playing with some alternative setups) at a later epoch, and never gets back again. Why should this happen? I see on some says it could due to too high learning rate and gets all Relu inactive. But even that's the case, we get all zeros popping forward, and the softmax layer should still give an equal proability on the prediciton, which should not be nan. Meanwhile, I am only tweaking the network structure, then is there any theory why certain type of network is more likely to encounter this situation then the others, with all other hyper params being the same?*"
   ]
  },
  {
   "cell_type": "code",
   "execution_count": 12,
   "metadata": {
    "collapsed": true
   },
   "outputs": [],
   "source": [
    "# TODO: Tune Parameters\n",
    "epochs = 10\n",
    "batch_size = 512\n",
    "keep_probability = 0.5"
   ]
  },
  {
   "cell_type": "markdown",
   "metadata": {},
   "source": [
    "### Fully Train the Model\n",
    "Now that you got a good accuracy with a single CIFAR-10 batch, try it with all five batches."
   ]
  },
  {
   "cell_type": "code",
   "execution_count": 13,
   "metadata": {},
   "outputs": [
    {
     "name": "stdout",
     "output_type": "stream",
     "text": [
      "Training...\n",
      "Epoch  1, CIFAR-10 Batch 1:  batch cost: 2.0293; validation accuracy: 0.2970\n",
      "Epoch  1, CIFAR-10 Batch 2:  batch cost: 1.8188; validation accuracy: 0.3712\n",
      "Epoch  1, CIFAR-10 Batch 3:  batch cost: 1.6664; validation accuracy: 0.3996\n",
      "Epoch  1, CIFAR-10 Batch 4:  batch cost: 1.5488; validation accuracy: 0.4314\n",
      "Epoch  1, CIFAR-10 Batch 5:  batch cost: 1.5639; validation accuracy: 0.4640\n",
      "Epoch  2, CIFAR-10 Batch 1:  batch cost: 1.5755; validation accuracy: 0.4672\n",
      "Epoch  2, CIFAR-10 Batch 2:  batch cost: 1.3917; validation accuracy: 0.4964\n",
      "Epoch  2, CIFAR-10 Batch 3:  batch cost: 1.2905; validation accuracy: 0.5010\n",
      "Epoch  2, CIFAR-10 Batch 4:  batch cost: 1.2863; validation accuracy: 0.5120\n",
      "Epoch  2, CIFAR-10 Batch 5:  batch cost: 1.3410; validation accuracy: 0.5144\n",
      "Epoch  3, CIFAR-10 Batch 1:  batch cost: 1.3766; validation accuracy: 0.5308\n",
      "Epoch  3, CIFAR-10 Batch 2:  batch cost: 1.2518; validation accuracy: 0.5328\n",
      "Epoch  3, CIFAR-10 Batch 3:  batch cost: 1.1515; validation accuracy: 0.5446\n",
      "Epoch  3, CIFAR-10 Batch 4:  batch cost: 1.1531; validation accuracy: 0.5522\n",
      "Epoch  3, CIFAR-10 Batch 5:  batch cost: 1.1876; validation accuracy: 0.5574\n",
      "Epoch  4, CIFAR-10 Batch 1:  batch cost: 1.2807; validation accuracy: 0.5644\n",
      "Epoch  4, CIFAR-10 Batch 2:  batch cost: 1.1287; validation accuracy: 0.5640\n",
      "Epoch  4, CIFAR-10 Batch 3:  batch cost: 1.0615; validation accuracy: 0.5656\n",
      "Epoch  4, CIFAR-10 Batch 4:  batch cost: 1.0645; validation accuracy: 0.5660\n",
      "Epoch  4, CIFAR-10 Batch 5:  batch cost: 1.1009; validation accuracy: 0.5790\n",
      "Epoch  5, CIFAR-10 Batch 1:  batch cost: 1.1722; validation accuracy: 0.5750\n",
      "Epoch  5, CIFAR-10 Batch 2:  batch cost: 1.0557; validation accuracy: 0.5844\n",
      "Epoch  5, CIFAR-10 Batch 3:  batch cost: 1.0082; validation accuracy: 0.5728\n",
      "Epoch  5, CIFAR-10 Batch 4:  batch cost: 0.9963; validation accuracy: 0.5926\n",
      "Epoch  5, CIFAR-10 Batch 5:  batch cost: 0.9990; validation accuracy: 0.5964\n",
      "Epoch  6, CIFAR-10 Batch 1:  batch cost: 1.1079; validation accuracy: 0.5976\n",
      "Epoch  6, CIFAR-10 Batch 2:  batch cost: 0.9958; validation accuracy: 0.5922\n",
      "Epoch  6, CIFAR-10 Batch 3:  batch cost: 0.9034; validation accuracy: 0.5896\n",
      "Epoch  6, CIFAR-10 Batch 4:  batch cost: 0.9291; validation accuracy: 0.6018\n",
      "Epoch  6, CIFAR-10 Batch 5:  batch cost: 0.9101; validation accuracy: 0.6016\n",
      "Epoch  7, CIFAR-10 Batch 1:  batch cost: 1.0434; validation accuracy: 0.6048\n",
      "Epoch  7, CIFAR-10 Batch 2:  batch cost: 0.9145; validation accuracy: 0.6058\n",
      "Epoch  7, CIFAR-10 Batch 3:  batch cost: 0.8565; validation accuracy: 0.6026\n",
      "Epoch  7, CIFAR-10 Batch 4:  batch cost: 0.8596; validation accuracy: 0.6120\n",
      "Epoch  7, CIFAR-10 Batch 5:  batch cost: 0.8447; validation accuracy: 0.6092\n",
      "Epoch  8, CIFAR-10 Batch 1:  batch cost: 0.9783; validation accuracy: 0.6062\n",
      "Epoch  8, CIFAR-10 Batch 2:  batch cost: 0.8565; validation accuracy: 0.6090\n",
      "Epoch  8, CIFAR-10 Batch 3:  batch cost: 0.8103; validation accuracy: 0.6092\n",
      "Epoch  8, CIFAR-10 Batch 4:  batch cost: 0.8143; validation accuracy: 0.6216\n",
      "Epoch  8, CIFAR-10 Batch 5:  batch cost: 0.7798; validation accuracy: 0.6154\n",
      "Epoch  9, CIFAR-10 Batch 1:  batch cost: 0.9159; validation accuracy: 0.6088\n",
      "Epoch  9, CIFAR-10 Batch 2:  batch cost: 0.8291; validation accuracy: 0.6184\n",
      "Epoch  9, CIFAR-10 Batch 3:  batch cost: 0.7595; validation accuracy: 0.6150\n",
      "Epoch  9, CIFAR-10 Batch 4:  batch cost: 0.7937; validation accuracy: 0.6242\n",
      "Epoch  9, CIFAR-10 Batch 5:  batch cost: 0.7377; validation accuracy: 0.6246\n",
      "Epoch 10, CIFAR-10 Batch 1:  batch cost: 0.8565; validation accuracy: 0.6192\n",
      "Epoch 10, CIFAR-10 Batch 2:  batch cost: 0.7586; validation accuracy: 0.6270\n",
      "Epoch 10, CIFAR-10 Batch 3:  batch cost: 0.6985; validation accuracy: 0.6254\n",
      "Epoch 10, CIFAR-10 Batch 4:  batch cost: 0.7388; validation accuracy: 0.6324\n",
      "Epoch 10, CIFAR-10 Batch 5:  batch cost: 0.6853; validation accuracy: 0.6262\n"
     ]
    }
   ],
   "source": [
    "\"\"\"\n",
    "DON'T MODIFY ANYTHING IN THIS CELL\n",
    "\"\"\"\n",
    "save_model_path = './image_classification'\n",
    "\n",
    "print('Training...')\n",
    "with tf.Session() as sess:\n",
    "    # Initializing the variables\n",
    "    sess.run(tf.global_variables_initializer())\n",
    "    \n",
    "    # Training cycle\n",
    "    for epoch in range(epochs):\n",
    "        # Loop over all batches\n",
    "        n_batches = 5\n",
    "        for batch_i in range(1, n_batches + 1):\n",
    "            for batch_features, batch_labels in helper.load_preprocess_training_batch(batch_i, batch_size):\n",
    "                train_neural_network(sess, optimizer, keep_probability, batch_features, batch_labels)\n",
    "            print('Epoch {:>2}, CIFAR-10 Batch {}:  '.format(epoch + 1, batch_i), end='')\n",
    "            print_stats(sess, batch_features, batch_labels, cost, accuracy)\n",
    "        \n",
    "    # Save Model\n",
    "    saver = tf.train.Saver()\n",
    "    save_path = saver.save(sess, save_model_path)"
   ]
  },
  {
   "cell_type": "markdown",
   "metadata": {},
   "source": [
    "# Checkpoint\n",
    "The model has been saved to disk.\n",
    "## Test Model\n",
    "Test your model against the test dataset.  This will be your final accuracy. You should have an accuracy greater than 50%. If you don't, keep tweaking the model architecture and parameters."
   ]
  },
  {
   "cell_type": "code",
   "execution_count": 16,
   "metadata": {},
   "outputs": [
    {
     "name": "stdout",
     "output_type": "stream",
     "text": [
      "INFO:tensorflow:Restoring parameters from ./image_classification\n",
      "Testing Accuracy: 0.6308134198188782\n",
      "\n"
     ]
    },
    {
     "data": {
      "image/png": "[encoded data removed]",
      "text/plain": [
       "<matplotlib.figure.Figure at 0x725465ef0>"
      ]
     },
     "metadata": {
      "image/png": {
       "height": 319,
       "width": 355
      }
     },
     "output_type": "display_data"
    }
   ],
   "source": [
    "\"\"\"\n",
    "DON'T MODIFY ANYTHING IN THIS CELL\n",
    "\"\"\"\n",
    "%matplotlib inline\n",
    "%config InlineBackend.figure_format = 'retina'\n",
    "\n",
    "import tensorflow as tf\n",
    "import pickle\n",
    "import helper\n",
    "import random\n",
    "\n",
    "# Set batch size if not already set\n",
    "try:\n",
    "    if batch_size:\n",
    "        pass\n",
    "except NameError:\n",
    "    batch_size = 64\n",
    "\n",
    "save_model_path = './image_classification'\n",
    "n_samples = 4\n",
    "top_n_predictions = 3\n",
    "\n",
    "def test_model():\n",
    "    \"\"\"\n",
    "    Test the saved model against the test dataset\n",
    "    \"\"\"\n",
    "\n",
    "    test_features, test_labels = pickle.load(open('preprocess_training.p', mode='rb'))\n",
    "    loaded_graph = tf.Graph()\n",
    "\n",
    "    with tf.Session(graph=loaded_graph) as sess:\n",
    "        # Load model\n",
    "        loader = tf.train.import_meta_graph(save_model_path + '.meta')\n",
    "        loader.restore(sess, save_model_path)\n",
    "\n",
    "        # Get Tensors from loaded model\n",
    "        loaded_x = loaded_graph.get_tensor_by_name('x:0')\n",
    "        loaded_y = loaded_graph.get_tensor_by_name('y:0')\n",
    "        loaded_keep_prob = loaded_graph.get_tensor_by_name('keep_prob:0')\n",
    "        loaded_logits = loaded_graph.get_tensor_by_name('logits:0')\n",
    "        loaded_acc = loaded_graph.get_tensor_by_name('accuracy:0')\n",
    "        \n",
    "        # Get accuracy in batches for memory limitations\n",
    "        test_batch_acc_total = 0\n",
    "        test_batch_count = 0\n",
    "        \n",
    "        for train_feature_batch, train_label_batch in helper.batch_features_labels(test_features, test_labels, batch_size):\n",
    "            test_batch_acc_total += sess.run(\n",
    "                loaded_acc,\n",
    "                feed_dict={loaded_x: train_feature_batch, loaded_y: train_label_batch, loaded_keep_prob: 1.0})\n",
    "            test_batch_count += 1\n",
    "\n",
    "        print('Testing Accuracy: {}\\n'.format(test_batch_acc_total/test_batch_count))\n",
    "\n",
    "        # Print Random Samples\n",
    "        random_test_features, random_test_labels = tuple(zip(*random.sample(list(zip(test_features, test_labels)), n_samples)))\n",
    "        random_test_predictions = sess.run(\n",
    "            tf.nn.top_k(tf.nn.softmax(loaded_logits), top_n_predictions),\n",
    "            feed_dict={loaded_x: random_test_features, loaded_y: random_test_labels, loaded_keep_prob: 1.0})\n",
    "        helper.display_image_predictions(random_test_features, random_test_labels, random_test_predictions)\n",
    "\n",
    "\n",
    "test_model()"
   ]
  },
  {
   "cell_type": "markdown",
   "metadata": {},
   "source": [
    "*The validation accuracy is still improving, indicating the model is still under trained. But luckily, the testing accuracy is already above 50%. A better approach would be to save model check point along the way, and choose one for testing based on validation accuracy track, instead of using the final version as we are doing now.*"
   ]
  },
  {
   "cell_type": "markdown",
   "metadata": {},
   "source": [
    "## Why 50-80% Accuracy?\n",
    "You might be wondering why you can't get an accuracy any higher. First things first, 50% isn't bad for a simple CNN.  Pure guessing would get you 10% accuracy. That's because there are many more techniques that can be applied to your model and we recemmond that once you are done with this project, you explore!\n",
    "\n",
    "## Submitting This Project\n",
    "When submitting this project, make sure to run all the cells before saving the notebook.  Save the notebook file as \"image_classification.ipynb\" and save it as a HTML file under \"File\" -> \"Download as\".  Include the \"helper.py\" and \"problem_unittests.py\" files in your submission."
   ]
  }
 ],
 "metadata": {
  "anaconda-cloud": {},
  "kernelspec": {
   "display_name": "Python [conda env:tf]",
   "language": "python",
   "name": "conda-env-tf-py"
  },
  "language_info": {
   "codemirror_mode": {
    "name": "ipython",
    "version": 3
   },
   "file_extension": ".py",
   "mimetype": "text/x-python",
   "name": "python",
   "nbconvert_exporter": "python",
   "pygments_lexer": "ipython3",
   "version": "3.5.3"
  }
 },
 "nbformat": 4,
 "nbformat_minor": 1
}
